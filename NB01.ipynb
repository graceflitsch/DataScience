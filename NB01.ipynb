{
 "cells": [
  {
   "cell_type": "markdown",
   "metadata": {
    "id": "Rc2xXjRpt_sQ"
   },
   "source": [
    "## Setting up"
   ]
  },
  {
   "cell_type": "code",
   "execution_count": null,
   "metadata": {
    "id": "X_vhiXSzqnjm"
   },
   "outputs": [],
   "source": [
    "from google.colab import drive\n",
    "drive.mount('/content/drive')"
   ]
  },
  {
   "cell_type": "markdown",
   "metadata": {
    "id": "-fuL6R-Ut_sT"
   },
   "source": [
    "### Import pandas and read in the csv file and set it to a dataframe called baskets"
   ]
  },
  {
   "cell_type": "code",
   "execution_count": null,
   "metadata": {
    "id": "2eYcfvLr2ahn",
    "pycharm": {
     "name": "#%%\n"
    }
   },
   "outputs": [],
   "source": [
    "import pandas as pd\n",
    "import numpy as np"
   ]
  },
  {
   "cell_type": "code",
   "execution_count": null,
   "metadata": {
    "id": "IjQ5bZICt_sV"
   },
   "outputs": [],
   "source": [
    "baskets = pd.read_csv('../../dslc_prep/baskets_sample_random_10.csv')"
   ]
  },
  {
   "cell_type": "markdown",
   "metadata": {
    "id": "8wGVgT-tt_sV"
   },
   "source": [
    "## Conduct basic data inspection\n",
    "\n",
    " - take a look at the first three rows, and last few rows"
   ]
  },
  {
   "cell_type": "code",
   "execution_count": null,
   "metadata": {
    "id": "KDhyfNA1t_sV",
    "outputId": "804bb100-2cea-4c31-8bb9-f4f4515fad0f"
   },
   "outputs": [
    {
     "data": {
      "text/html": [
       "<div>\n",
       "<style scoped>\n",
       "    .dataframe tbody tr th:only-of-type {\n",
       "        vertical-align: middle;\n",
       "    }\n",
       "\n",
       "    .dataframe tbody tr th {\n",
       "        vertical-align: top;\n",
       "    }\n",
       "\n",
       "    .dataframe thead th {\n",
       "        text-align: right;\n",
       "    }\n",
       "</style>\n",
       "<table border=\"1\" class=\"dataframe\">\n",
       "  <thead>\n",
       "    <tr style=\"text-align: right;\">\n",
       "      <th></th>\n",
       "      <th>id</th>\n",
       "      <th>order_id</th>\n",
       "      <th>placed_at</th>\n",
       "      <th>merchant_id</th>\n",
       "      <th>sku_id</th>\n",
       "      <th>top_cat_id</th>\n",
       "      <th>sub_cat_id</th>\n",
       "      <th>qty</th>\n",
       "      <th>price</th>\n",
       "    </tr>\n",
       "  </thead>\n",
       "  <tbody>\n",
       "    <tr>\n",
       "      <th>0</th>\n",
       "      <td>126</td>\n",
       "      <td>23</td>\n",
       "      <td>2021-05-05 11:04:46.579</td>\n",
       "      <td>10</td>\n",
       "      <td>341</td>\n",
       "      <td>3.0</td>\n",
       "      <td>47.0</td>\n",
       "      <td>100</td>\n",
       "      <td>0.0</td>\n",
       "    </tr>\n",
       "    <tr>\n",
       "      <th>1</th>\n",
       "      <td>166</td>\n",
       "      <td>41</td>\n",
       "      <td>2021-05-06 10:45:02.448</td>\n",
       "      <td>196</td>\n",
       "      <td>341</td>\n",
       "      <td>3.0</td>\n",
       "      <td>47.0</td>\n",
       "      <td>2</td>\n",
       "      <td>0.0</td>\n",
       "    </tr>\n",
       "    <tr>\n",
       "      <th>2</th>\n",
       "      <td>167</td>\n",
       "      <td>42</td>\n",
       "      <td>2021-05-06 10:45:04.850</td>\n",
       "      <td>196</td>\n",
       "      <td>341</td>\n",
       "      <td>3.0</td>\n",
       "      <td>47.0</td>\n",
       "      <td>2</td>\n",
       "      <td>0.0</td>\n",
       "    </tr>\n",
       "  </tbody>\n",
       "</table>\n",
       "</div>"
      ],
      "text/plain": [
       "    id  order_id                placed_at  merchant_id  sku_id  top_cat_id  \\\n",
       "0  126        23  2021-05-05 11:04:46.579           10     341         3.0   \n",
       "1  166        41  2021-05-06 10:45:02.448          196     341         3.0   \n",
       "2  167        42  2021-05-06 10:45:04.850          196     341         3.0   \n",
       "\n",
       "   sub_cat_id  qty  price  \n",
       "0        47.0  100    0.0  \n",
       "1        47.0    2    0.0  \n",
       "2        47.0    2    0.0  "
      ]
     },
     "execution_count": 3,
     "metadata": {},
     "output_type": "execute_result"
    }
   ],
   "source": [
    "baskets.head(3)"
   ]
  },
  {
   "cell_type": "code",
   "execution_count": null,
   "metadata": {
    "id": "lOSBOeSat_sW",
    "outputId": "f4dfb78b-a343-4167-83d6-b8591cff353f"
   },
   "outputs": [
    {
     "data": {
      "text/html": [
       "<div>\n",
       "<style scoped>\n",
       "    .dataframe tbody tr th:only-of-type {\n",
       "        vertical-align: middle;\n",
       "    }\n",
       "\n",
       "    .dataframe tbody tr th {\n",
       "        vertical-align: top;\n",
       "    }\n",
       "\n",
       "    .dataframe thead th {\n",
       "        text-align: right;\n",
       "    }\n",
       "</style>\n",
       "<table border=\"1\" class=\"dataframe\">\n",
       "  <thead>\n",
       "    <tr style=\"text-align: right;\">\n",
       "      <th></th>\n",
       "      <th>id</th>\n",
       "      <th>order_id</th>\n",
       "      <th>placed_at</th>\n",
       "      <th>merchant_id</th>\n",
       "      <th>sku_id</th>\n",
       "      <th>top_cat_id</th>\n",
       "      <th>sub_cat_id</th>\n",
       "      <th>qty</th>\n",
       "      <th>price</th>\n",
       "    </tr>\n",
       "  </thead>\n",
       "  <tbody>\n",
       "    <tr>\n",
       "      <th>29300</th>\n",
       "      <td>338870</td>\n",
       "      <td>61206</td>\n",
       "      <td>2022-07-31 16:52:33.731</td>\n",
       "      <td>428</td>\n",
       "      <td>1896</td>\n",
       "      <td>4.0</td>\n",
       "      <td>57.0</td>\n",
       "      <td>80</td>\n",
       "      <td>12350.0</td>\n",
       "    </tr>\n",
       "    <tr>\n",
       "      <th>29301</th>\n",
       "      <td>338871</td>\n",
       "      <td>61206</td>\n",
       "      <td>2022-07-31 16:52:33.731</td>\n",
       "      <td>428</td>\n",
       "      <td>747</td>\n",
       "      <td>12.0</td>\n",
       "      <td>36.0</td>\n",
       "      <td>1</td>\n",
       "      <td>86000.0</td>\n",
       "    </tr>\n",
       "    <tr>\n",
       "      <th>29302</th>\n",
       "      <td>338872</td>\n",
       "      <td>61206</td>\n",
       "      <td>2022-07-31 16:52:33.731</td>\n",
       "      <td>428</td>\n",
       "      <td>850</td>\n",
       "      <td>9.0</td>\n",
       "      <td>48.0</td>\n",
       "      <td>1</td>\n",
       "      <td>101500.0</td>\n",
       "    </tr>\n",
       "    <tr>\n",
       "      <th>29303</th>\n",
       "      <td>338873</td>\n",
       "      <td>61206</td>\n",
       "      <td>2022-07-31 16:52:33.731</td>\n",
       "      <td>428</td>\n",
       "      <td>853</td>\n",
       "      <td>9.0</td>\n",
       "      <td>48.0</td>\n",
       "      <td>1</td>\n",
       "      <td>68500.0</td>\n",
       "    </tr>\n",
       "    <tr>\n",
       "      <th>29304</th>\n",
       "      <td>338874</td>\n",
       "      <td>61206</td>\n",
       "      <td>2022-07-31 16:52:33.731</td>\n",
       "      <td>428</td>\n",
       "      <td>852</td>\n",
       "      <td>9.0</td>\n",
       "      <td>48.0</td>\n",
       "      <td>1</td>\n",
       "      <td>68500.0</td>\n",
       "    </tr>\n",
       "  </tbody>\n",
       "</table>\n",
       "</div>"
      ],
      "text/plain": [
       "           id  order_id                placed_at  merchant_id  sku_id  \\\n",
       "29300  338870     61206  2022-07-31 16:52:33.731          428    1896   \n",
       "29301  338871     61206  2022-07-31 16:52:33.731          428     747   \n",
       "29302  338872     61206  2022-07-31 16:52:33.731          428     850   \n",
       "29303  338873     61206  2022-07-31 16:52:33.731          428     853   \n",
       "29304  338874     61206  2022-07-31 16:52:33.731          428     852   \n",
       "\n",
       "       top_cat_id  sub_cat_id  qty     price  \n",
       "29300         4.0        57.0   80   12350.0  \n",
       "29301        12.0        36.0    1   86000.0  \n",
       "29302         9.0        48.0    1  101500.0  \n",
       "29303         9.0        48.0    1   68500.0  \n",
       "29304         9.0        48.0    1   68500.0  "
      ]
     },
     "execution_count": 4,
     "metadata": {},
     "output_type": "execute_result"
    }
   ],
   "source": [
    "baskets.tail()"
   ]
  },
  {
   "cell_type": "markdown",
   "metadata": {
    "id": "ic0xzpo2t_sX"
   },
   "source": [
    "### dataframe dimensions, column names, column data types, ranges of column values"
   ]
  },
  {
   "cell_type": "code",
   "execution_count": null,
   "metadata": {
    "id": "pCrLhIYMt_sX",
    "outputId": "f5ab363a-37d1-45d1-f623-729a2c5edb31"
   },
   "outputs": [
    {
     "data": {
      "text/plain": [
       "(29305, 9)"
      ]
     },
     "execution_count": 5,
     "metadata": {},
     "output_type": "execute_result"
    }
   ],
   "source": [
    "baskets.shape"
   ]
  },
  {
   "cell_type": "code",
   "execution_count": null,
   "metadata": {
    "colab": {
     "base_uri": "https://localhost:8080/"
    },
    "id": "fiOM4VZs9ZRV",
    "outputId": "58b2036b-2ad6-4100-d7e2-520f823c9a93",
    "pycharm": {
     "name": "#%%\n"
    }
   },
   "outputs": [
    {
     "data": {
      "text/plain": [
       "Index(['id', 'order_id', 'placed_at', 'merchant_id', 'sku_id', 'top_cat_id',\n",
       "       'sub_cat_id', 'qty', 'price'],\n",
       "      dtype='object')"
      ]
     },
     "execution_count": 6,
     "metadata": {},
     "output_type": "execute_result"
    }
   ],
   "source": [
    "baskets.columns"
   ]
  },
  {
   "cell_type": "code",
   "execution_count": null,
   "metadata": {
    "id": "W_HSmTpAt_sY",
    "outputId": "de95a50a-085b-4fea-8330-ca9f76c9a979"
   },
   "outputs": [
    {
     "data": {
      "text/plain": [
       "id               int64\n",
       "order_id         int64\n",
       "placed_at       object\n",
       "merchant_id      int64\n",
       "sku_id           int64\n",
       "top_cat_id     float64\n",
       "sub_cat_id     float64\n",
       "qty              int64\n",
       "price          float64\n",
       "dtype: object"
      ]
     },
     "execution_count": 7,
     "metadata": {},
     "output_type": "execute_result"
    }
   ],
   "source": [
    "baskets.dtypes"
   ]
  },
  {
   "cell_type": "markdown",
   "metadata": {
    "id": "G0dJ3f0Dt_sZ"
   },
   "source": [
    " - noticed columns \"placed_at\" is not numeric and the rest are numerical columns"
   ]
  },
  {
   "cell_type": "code",
   "execution_count": null,
   "metadata": {
    "id": "Es51D8Umt_sZ",
    "outputId": "b7b2442a-671f-483e-d415-6c9413a9befa"
   },
   "outputs": [
    {
     "name": "stdout",
     "output_type": "stream",
     "text": [
      "<class 'pandas.core.frame.DataFrame'>\n",
      "RangeIndex: 29305 entries, 0 to 29304\n",
      "Data columns (total 9 columns):\n",
      " #   Column       Non-Null Count  Dtype  \n",
      "---  ------       --------------  -----  \n",
      " 0   id           29305 non-null  int64  \n",
      " 1   order_id     29305 non-null  int64  \n",
      " 2   placed_at    29305 non-null  object \n",
      " 3   merchant_id  29305 non-null  int64  \n",
      " 4   sku_id       29305 non-null  int64  \n",
      " 5   top_cat_id   29298 non-null  float64\n",
      " 6   sub_cat_id   29298 non-null  float64\n",
      " 7   qty          29305 non-null  int64  \n",
      " 8   price        29305 non-null  float64\n",
      "dtypes: float64(3), int64(5), object(1)\n",
      "memory usage: 2.0+ MB\n"
     ]
    }
   ],
   "source": [
    "baskets.info()"
   ]
  },
  {
   "cell_type": "markdown",
   "metadata": {
    "id": "4t0AXpkwt_sZ"
   },
   "source": [
    " - question: what can you observe from the above result?"
   ]
  },
  {
   "cell_type": "markdown",
   "metadata": {
    "id": "y6ew2aSgt_sZ"
   },
   "source": [
    " - why are the count on top_cat_id and sub_cat_id different from others? "
   ]
  },
  {
   "cell_type": "code",
   "execution_count": null,
   "metadata": {
    "id": "0aHGH5HUt_sa",
    "outputId": "3dc2a356-80d7-41d9-b84c-854ef5811103"
   },
   "outputs": [
    {
     "data": {
      "text/html": [
       "<div>\n",
       "<style scoped>\n",
       "    .dataframe tbody tr th:only-of-type {\n",
       "        vertical-align: middle;\n",
       "    }\n",
       "\n",
       "    .dataframe tbody tr th {\n",
       "        vertical-align: top;\n",
       "    }\n",
       "\n",
       "    .dataframe thead th {\n",
       "        text-align: right;\n",
       "    }\n",
       "</style>\n",
       "<table border=\"1\" class=\"dataframe\">\n",
       "  <thead>\n",
       "    <tr style=\"text-align: right;\">\n",
       "      <th></th>\n",
       "      <th>id</th>\n",
       "      <th>order_id</th>\n",
       "      <th>merchant_id</th>\n",
       "      <th>sku_id</th>\n",
       "      <th>top_cat_id</th>\n",
       "      <th>sub_cat_id</th>\n",
       "      <th>qty</th>\n",
       "      <th>price</th>\n",
       "    </tr>\n",
       "  </thead>\n",
       "  <tbody>\n",
       "    <tr>\n",
       "      <th>count</th>\n",
       "      <td>29305.000000</td>\n",
       "      <td>29305.000000</td>\n",
       "      <td>29305.000000</td>\n",
       "      <td>29305.000000</td>\n",
       "      <td>29298.000000</td>\n",
       "      <td>29298.000000</td>\n",
       "      <td>2.930500e+04</td>\n",
       "      <td>2.930500e+04</td>\n",
       "    </tr>\n",
       "    <tr>\n",
       "      <th>mean</th>\n",
       "      <td>162948.006825</td>\n",
       "      <td>27337.267838</td>\n",
       "      <td>1061.053574</td>\n",
       "      <td>977.588671</td>\n",
       "      <td>10.860946</td>\n",
       "      <td>50.808485</td>\n",
       "      <td>6.921692e+03</td>\n",
       "      <td>1.379133e+05</td>\n",
       "    </tr>\n",
       "    <tr>\n",
       "      <th>std</th>\n",
       "      <td>95745.525000</td>\n",
       "      <td>18450.495064</td>\n",
       "      <td>761.056051</td>\n",
       "      <td>348.157681</td>\n",
       "      <td>8.353926</td>\n",
       "      <td>31.280838</td>\n",
       "      <td>1.168396e+06</td>\n",
       "      <td>1.355361e+05</td>\n",
       "    </tr>\n",
       "    <tr>\n",
       "      <th>min</th>\n",
       "      <td>126.000000</td>\n",
       "      <td>23.000000</td>\n",
       "      <td>10.000000</td>\n",
       "      <td>5.000000</td>\n",
       "      <td>1.000000</td>\n",
       "      <td>1.000000</td>\n",
       "      <td>1.000000e+00</td>\n",
       "      <td>0.000000e+00</td>\n",
       "    </tr>\n",
       "    <tr>\n",
       "      <th>25%</th>\n",
       "      <td>80106.000000</td>\n",
       "      <td>10296.000000</td>\n",
       "      <td>352.000000</td>\n",
       "      <td>755.000000</td>\n",
       "      <td>4.000000</td>\n",
       "      <td>30.000000</td>\n",
       "      <td>1.000000e+00</td>\n",
       "      <td>4.550000e+04</td>\n",
       "    </tr>\n",
       "    <tr>\n",
       "      <th>50%</th>\n",
       "      <td>158748.000000</td>\n",
       "      <td>25824.000000</td>\n",
       "      <td>934.000000</td>\n",
       "      <td>875.000000</td>\n",
       "      <td>9.000000</td>\n",
       "      <td>48.000000</td>\n",
       "      <td>2.000000e+00</td>\n",
       "      <td>1.070000e+05</td>\n",
       "    </tr>\n",
       "    <tr>\n",
       "      <th>75%</th>\n",
       "      <td>242651.000000</td>\n",
       "      <td>43776.000000</td>\n",
       "      <td>1717.000000</td>\n",
       "      <td>1055.000000</td>\n",
       "      <td>15.000000</td>\n",
       "      <td>79.000000</td>\n",
       "      <td>5.000000e+00</td>\n",
       "      <td>1.845000e+05</td>\n",
       "    </tr>\n",
       "    <tr>\n",
       "      <th>max</th>\n",
       "      <td>338874.000000</td>\n",
       "      <td>61439.000000</td>\n",
       "      <td>3160.000000</td>\n",
       "      <td>2383.000000</td>\n",
       "      <td>35.000000</td>\n",
       "      <td>108.000000</td>\n",
       "      <td>2.000000e+08</td>\n",
       "      <td>2.175000e+06</td>\n",
       "    </tr>\n",
       "  </tbody>\n",
       "</table>\n",
       "</div>"
      ],
      "text/plain": [
       "                  id      order_id   merchant_id        sku_id    top_cat_id  \\\n",
       "count   29305.000000  29305.000000  29305.000000  29305.000000  29298.000000   \n",
       "mean   162948.006825  27337.267838   1061.053574    977.588671     10.860946   \n",
       "std     95745.525000  18450.495064    761.056051    348.157681      8.353926   \n",
       "min       126.000000     23.000000     10.000000      5.000000      1.000000   \n",
       "25%     80106.000000  10296.000000    352.000000    755.000000      4.000000   \n",
       "50%    158748.000000  25824.000000    934.000000    875.000000      9.000000   \n",
       "75%    242651.000000  43776.000000   1717.000000   1055.000000     15.000000   \n",
       "max    338874.000000  61439.000000   3160.000000   2383.000000     35.000000   \n",
       "\n",
       "         sub_cat_id           qty         price  \n",
       "count  29298.000000  2.930500e+04  2.930500e+04  \n",
       "mean      50.808485  6.921692e+03  1.379133e+05  \n",
       "std       31.280838  1.168396e+06  1.355361e+05  \n",
       "min        1.000000  1.000000e+00  0.000000e+00  \n",
       "25%       30.000000  1.000000e+00  4.550000e+04  \n",
       "50%       48.000000  2.000000e+00  1.070000e+05  \n",
       "75%       79.000000  5.000000e+00  1.845000e+05  \n",
       "max      108.000000  2.000000e+08  2.175000e+06  "
      ]
     },
     "execution_count": 9,
     "metadata": {},
     "output_type": "execute_result"
    }
   ],
   "source": [
    "baskets.describe()"
   ]
  },
  {
   "cell_type": "markdown",
   "metadata": {
    "id": "E1izATMWt_sa"
   },
   "source": [
    " - noticed that the \"placed_at\" column was not shown in the above result, maybe due to its type?  \n",
    " - wondering that ID columns' statistics may not make sense other than count, min, max, since they are supposed to be identifiers"
   ]
  },
  {
   "cell_type": "markdown",
   "metadata": {
    "id": "fgfjozGSt_sa"
   },
   "source": [
    "## Conduct some more data inspection"
   ]
  },
  {
   "cell_type": "markdown",
   "metadata": {
    "id": "5Vm3MYR-t_sa"
   },
   "source": [
    " - take a look at 3 random rows"
   ]
  },
  {
   "cell_type": "code",
   "execution_count": null,
   "metadata": {
    "id": "XsboU26-t_sb",
    "outputId": "f01894f0-7dfb-4413-c9b2-10e555f19196"
   },
   "outputs": [
    {
     "data": {
      "text/html": [
       "<div>\n",
       "<style scoped>\n",
       "    .dataframe tbody tr th:only-of-type {\n",
       "        vertical-align: middle;\n",
       "    }\n",
       "\n",
       "    .dataframe tbody tr th {\n",
       "        vertical-align: top;\n",
       "    }\n",
       "\n",
       "    .dataframe thead th {\n",
       "        text-align: right;\n",
       "    }\n",
       "</style>\n",
       "<table border=\"1\" class=\"dataframe\">\n",
       "  <thead>\n",
       "    <tr style=\"text-align: right;\">\n",
       "      <th></th>\n",
       "      <th>id</th>\n",
       "      <th>order_id</th>\n",
       "      <th>placed_at</th>\n",
       "      <th>merchant_id</th>\n",
       "      <th>sku_id</th>\n",
       "      <th>top_cat_id</th>\n",
       "      <th>sub_cat_id</th>\n",
       "      <th>qty</th>\n",
       "      <th>price</th>\n",
       "    </tr>\n",
       "  </thead>\n",
       "  <tbody>\n",
       "    <tr>\n",
       "      <th>10863</th>\n",
       "      <td>121089</td>\n",
       "      <td>18116</td>\n",
       "      <td>2021-11-29 13:41:14.231</td>\n",
       "      <td>1304</td>\n",
       "      <td>768</td>\n",
       "      <td>14.0</td>\n",
       "      <td>37.0</td>\n",
       "      <td>3</td>\n",
       "      <td>85000.0</td>\n",
       "    </tr>\n",
       "    <tr>\n",
       "      <th>2191</th>\n",
       "      <td>24793</td>\n",
       "      <td>1959</td>\n",
       "      <td>2021-09-10 19:48:46.384</td>\n",
       "      <td>349</td>\n",
       "      <td>771</td>\n",
       "      <td>15.0</td>\n",
       "      <td>37.0</td>\n",
       "      <td>5</td>\n",
       "      <td>19200.0</td>\n",
       "    </tr>\n",
       "    <tr>\n",
       "      <th>13702</th>\n",
       "      <td>150296</td>\n",
       "      <td>24073</td>\n",
       "      <td>2021-12-21 14:06:17.136</td>\n",
       "      <td>1004</td>\n",
       "      <td>809</td>\n",
       "      <td>9.0</td>\n",
       "      <td>48.0</td>\n",
       "      <td>100</td>\n",
       "      <td>12000.0</td>\n",
       "    </tr>\n",
       "  </tbody>\n",
       "</table>\n",
       "</div>"
      ],
      "text/plain": [
       "           id  order_id                placed_at  merchant_id  sku_id  \\\n",
       "10863  121089     18116  2021-11-29 13:41:14.231         1304     768   \n",
       "2191    24793      1959  2021-09-10 19:48:46.384          349     771   \n",
       "13702  150296     24073  2021-12-21 14:06:17.136         1004     809   \n",
       "\n",
       "       top_cat_id  sub_cat_id  qty    price  \n",
       "10863        14.0        37.0    3  85000.0  \n",
       "2191         15.0        37.0    5  19200.0  \n",
       "13702         9.0        48.0  100  12000.0  "
      ]
     },
     "execution_count": 10,
     "metadata": {},
     "output_type": "execute_result"
    }
   ],
   "source": [
    "# set seed for random function so that we get same rows when re-run the cell\n",
    "np.random.seed(17)\n",
    "baskets.iloc[np.random.randint(0, baskets.shape[0],3)]"
   ]
  },
  {
   "cell_type": "markdown",
   "metadata": {
    "id": "3JtZ4MBct_sb"
   },
   "source": [
    " - take a look at transactions for a specific merchant_id"
   ]
  },
  {
   "cell_type": "code",
   "execution_count": null,
   "metadata": {
    "id": "fj1KHIyjt_sb",
    "outputId": "a1b4524b-594b-437e-f965-e739e81263f5"
   },
   "outputs": [
    {
     "data": {
      "text/html": [
       "<div>\n",
       "<style scoped>\n",
       "    .dataframe tbody tr th:only-of-type {\n",
       "        vertical-align: middle;\n",
       "    }\n",
       "\n",
       "    .dataframe tbody tr th {\n",
       "        vertical-align: top;\n",
       "    }\n",
       "\n",
       "    .dataframe thead th {\n",
       "        text-align: right;\n",
       "    }\n",
       "</style>\n",
       "<table border=\"1\" class=\"dataframe\">\n",
       "  <thead>\n",
       "    <tr style=\"text-align: right;\">\n",
       "      <th></th>\n",
       "      <th>id</th>\n",
       "      <th>order_id</th>\n",
       "      <th>placed_at</th>\n",
       "      <th>merchant_id</th>\n",
       "      <th>sku_id</th>\n",
       "      <th>top_cat_id</th>\n",
       "      <th>sub_cat_id</th>\n",
       "      <th>qty</th>\n",
       "      <th>price</th>\n",
       "    </tr>\n",
       "  </thead>\n",
       "  <tbody>\n",
       "    <tr>\n",
       "      <th>3063</th>\n",
       "      <td>33551</td>\n",
       "      <td>3158</td>\n",
       "      <td>2021-09-27 16:39:56.665</td>\n",
       "      <td>1004</td>\n",
       "      <td>1289</td>\n",
       "      <td>4.0</td>\n",
       "      <td>31.0</td>\n",
       "      <td>1</td>\n",
       "      <td>292000.0</td>\n",
       "    </tr>\n",
       "    <tr>\n",
       "      <th>3064</th>\n",
       "      <td>33552</td>\n",
       "      <td>3158</td>\n",
       "      <td>2021-09-27 16:39:56.665</td>\n",
       "      <td>1004</td>\n",
       "      <td>875</td>\n",
       "      <td>3.0</td>\n",
       "      <td>80.0</td>\n",
       "      <td>10</td>\n",
       "      <td>168000.0</td>\n",
       "    </tr>\n",
       "    <tr>\n",
       "      <th>3065</th>\n",
       "      <td>33553</td>\n",
       "      <td>3158</td>\n",
       "      <td>2021-09-27 16:39:56.665</td>\n",
       "      <td>1004</td>\n",
       "      <td>778</td>\n",
       "      <td>15.0</td>\n",
       "      <td>53.0</td>\n",
       "      <td>5</td>\n",
       "      <td>137000.0</td>\n",
       "    </tr>\n",
       "    <tr>\n",
       "      <th>3066</th>\n",
       "      <td>33554</td>\n",
       "      <td>3158</td>\n",
       "      <td>2021-09-27 16:39:56.665</td>\n",
       "      <td>1004</td>\n",
       "      <td>889</td>\n",
       "      <td>35.0</td>\n",
       "      <td>98.0</td>\n",
       "      <td>5</td>\n",
       "      <td>224000.0</td>\n",
       "    </tr>\n",
       "    <tr>\n",
       "      <th>3067</th>\n",
       "      <td>33555</td>\n",
       "      <td>3158</td>\n",
       "      <td>2021-09-27 16:39:56.665</td>\n",
       "      <td>1004</td>\n",
       "      <td>724</td>\n",
       "      <td>12.0</td>\n",
       "      <td>30.0</td>\n",
       "      <td>75</td>\n",
       "      <td>16000.0</td>\n",
       "    </tr>\n",
       "    <tr>\n",
       "      <th>...</th>\n",
       "      <td>...</td>\n",
       "      <td>...</td>\n",
       "      <td>...</td>\n",
       "      <td>...</td>\n",
       "      <td>...</td>\n",
       "      <td>...</td>\n",
       "      <td>...</td>\n",
       "      <td>...</td>\n",
       "      <td>...</td>\n",
       "    </tr>\n",
       "    <tr>\n",
       "      <th>20053</th>\n",
       "      <td>220679</td>\n",
       "      <td>39142</td>\n",
       "      <td>2022-02-15 17:03:14.776</td>\n",
       "      <td>1004</td>\n",
       "      <td>1758</td>\n",
       "      <td>12.0</td>\n",
       "      <td>12.0</td>\n",
       "      <td>210</td>\n",
       "      <td>24000.0</td>\n",
       "    </tr>\n",
       "    <tr>\n",
       "      <th>20978</th>\n",
       "      <td>233205</td>\n",
       "      <td>42032</td>\n",
       "      <td>2022-02-24 09:31:28.591</td>\n",
       "      <td>1004</td>\n",
       "      <td>1839</td>\n",
       "      <td>27.0</td>\n",
       "      <td>57.0</td>\n",
       "      <td>5</td>\n",
       "      <td>124000.0</td>\n",
       "    </tr>\n",
       "    <tr>\n",
       "      <th>20979</th>\n",
       "      <td>233206</td>\n",
       "      <td>42032</td>\n",
       "      <td>2022-02-24 09:31:28.591</td>\n",
       "      <td>1004</td>\n",
       "      <td>1838</td>\n",
       "      <td>15.0</td>\n",
       "      <td>57.0</td>\n",
       "      <td>5</td>\n",
       "      <td>125000.0</td>\n",
       "    </tr>\n",
       "    <tr>\n",
       "      <th>20980</th>\n",
       "      <td>233207</td>\n",
       "      <td>42032</td>\n",
       "      <td>2022-02-24 09:31:28.591</td>\n",
       "      <td>1004</td>\n",
       "      <td>1820</td>\n",
       "      <td>4.0</td>\n",
       "      <td>31.0</td>\n",
       "      <td>1</td>\n",
       "      <td>53000.0</td>\n",
       "    </tr>\n",
       "    <tr>\n",
       "      <th>20981</th>\n",
       "      <td>233208</td>\n",
       "      <td>42032</td>\n",
       "      <td>2022-02-24 09:31:28.591</td>\n",
       "      <td>1004</td>\n",
       "      <td>1821</td>\n",
       "      <td>5.0</td>\n",
       "      <td>9.0</td>\n",
       "      <td>1</td>\n",
       "      <td>59000.0</td>\n",
       "    </tr>\n",
       "  </tbody>\n",
       "</table>\n",
       "<p>167 rows × 9 columns</p>\n",
       "</div>"
      ],
      "text/plain": [
       "           id  order_id                placed_at  merchant_id  sku_id  \\\n",
       "3063    33551      3158  2021-09-27 16:39:56.665         1004    1289   \n",
       "3064    33552      3158  2021-09-27 16:39:56.665         1004     875   \n",
       "3065    33553      3158  2021-09-27 16:39:56.665         1004     778   \n",
       "3066    33554      3158  2021-09-27 16:39:56.665         1004     889   \n",
       "3067    33555      3158  2021-09-27 16:39:56.665         1004     724   \n",
       "...       ...       ...                      ...          ...     ...   \n",
       "20053  220679     39142  2022-02-15 17:03:14.776         1004    1758   \n",
       "20978  233205     42032  2022-02-24 09:31:28.591         1004    1839   \n",
       "20979  233206     42032  2022-02-24 09:31:28.591         1004    1838   \n",
       "20980  233207     42032  2022-02-24 09:31:28.591         1004    1820   \n",
       "20981  233208     42032  2022-02-24 09:31:28.591         1004    1821   \n",
       "\n",
       "       top_cat_id  sub_cat_id  qty     price  \n",
       "3063          4.0        31.0    1  292000.0  \n",
       "3064          3.0        80.0   10  168000.0  \n",
       "3065         15.0        53.0    5  137000.0  \n",
       "3066         35.0        98.0    5  224000.0  \n",
       "3067         12.0        30.0   75   16000.0  \n",
       "...           ...         ...  ...       ...  \n",
       "20053        12.0        12.0  210   24000.0  \n",
       "20978        27.0        57.0    5  124000.0  \n",
       "20979        15.0        57.0    5  125000.0  \n",
       "20980         4.0        31.0    1   53000.0  \n",
       "20981         5.0         9.0    1   59000.0  \n",
       "\n",
       "[167 rows x 9 columns]"
      ]
     },
     "execution_count": 11,
     "metadata": {},
     "output_type": "execute_result"
    }
   ],
   "source": [
    "baskets[baskets['merchant_id'] == 1004]\n"
   ]
  },
  {
   "cell_type": "markdown",
   "metadata": {
    "id": "CYZm-Woxt_sb"
   },
   "source": [
    " - how much did it cost in total for merchant 1004?"
   ]
  },
  {
   "cell_type": "code",
   "execution_count": null,
   "metadata": {
    "id": "uf5zdFTmt_sc",
    "outputId": "ee0c9dcc-f0f2-49e4-a573-17aeab036c9c"
   },
   "outputs": [
    {
     "data": {
      "text/plain": [
       "24238650.0"
      ]
     },
     "execution_count": 12,
     "metadata": {},
     "output_type": "execute_result"
    }
   ],
   "source": [
    "baskets[baskets['merchant_id'] == 1004].price.sum()"
   ]
  },
  {
   "cell_type": "markdown",
   "metadata": {
    "id": "EUZtDQWkt_sc"
   },
   "source": [
    " - what is the average price for order 3158?"
   ]
  },
  {
   "cell_type": "code",
   "execution_count": null,
   "metadata": {
    "id": "-Tzdf5ILt_sc",
    "outputId": "e24f19f2-d383-4ca8-e40a-2f1a18c4f293"
   },
   "outputs": [
    {
     "data": {
      "text/plain": [
       "145583.33333333334"
      ]
     },
     "execution_count": 13,
     "metadata": {},
     "output_type": "execute_result"
    }
   ],
   "source": [
    "baskets[baskets['order_id'] == 3158].price.mean()"
   ]
  },
  {
   "cell_type": "markdown",
   "metadata": {
    "id": "g8aBesS6t_sc"
   },
   "source": [
    " - what are the average price, min and max prices for all rows in this dataset?"
   ]
  },
  {
   "cell_type": "code",
   "execution_count": null,
   "metadata": {
    "id": "DjSPHxG6t_sd",
    "outputId": "75d51d48-e7c4-49b3-8b1a-2f2a47f80dd8"
   },
   "outputs": [
    {
     "data": {
      "text/plain": [
       "(137913.33466782197, 0.0, 2175000.0)"
      ]
     },
     "execution_count": 14,
     "metadata": {},
     "output_type": "execute_result"
    }
   ],
   "source": [
    "baskets['price'].mean(), baskets['price'].min(), baskets['price'].max(), "
   ]
  },
  {
   "cell_type": "markdown",
   "metadata": {
    "id": "U_G5JZFvt_sd"
   },
   "source": [
    " - how many rows have price of 0\n",
    " - question: Why would some items have price of 0? \n",
    "\n",
    "*** TODO: find out why would some items have price of 0?\n",
    "  "
   ]
  },
  {
   "cell_type": "code",
   "execution_count": null,
   "metadata": {
    "id": "DKRSbN8jt_sd",
    "outputId": "251951cb-253a-4ca6-ccd2-74b9784c7a44"
   },
   "outputs": [
    {
     "data": {
      "text/plain": [
       "id             520\n",
       "order_id       520\n",
       "placed_at      520\n",
       "merchant_id    520\n",
       "sku_id         520\n",
       "top_cat_id     519\n",
       "sub_cat_id     519\n",
       "qty            520\n",
       "price          520\n",
       "dtype: int64"
      ]
     },
     "execution_count": 15,
     "metadata": {},
     "output_type": "execute_result"
    }
   ],
   "source": [
    "baskets[baskets['price']==0].count()"
   ]
  },
  {
   "cell_type": "markdown",
   "metadata": {
    "id": "mYaZFJsRt_sd"
   },
   "source": [
    " - check columns' number of unique values"
   ]
  },
  {
   "cell_type": "code",
   "execution_count": null,
   "metadata": {
    "id": "1wWxXEPPt_sd",
    "outputId": "1e4d2039-f28d-450f-b9cb-380257375e19"
   },
   "outputs": [
    {
     "data": {
      "text/plain": [
       "id             29303\n",
       "order_id        5542\n",
       "placed_at       5541\n",
       "merchant_id      317\n",
       "sku_id          1353\n",
       "top_cat_id        32\n",
       "sub_cat_id        90\n",
       "qty              174\n",
       "price           1114\n",
       "dtype: int64"
      ]
     },
     "execution_count": 16,
     "metadata": {},
     "output_type": "execute_result"
    }
   ],
   "source": [
    "baskets.nunique()"
   ]
  },
  {
   "cell_type": "markdown",
   "metadata": {
    "id": "ay9FZJR4t_sd"
   },
   "source": [
    "- question: what can you observe from the above result? what might seem to be peculiar? "
   ]
  },
  {
   "cell_type": "markdown",
   "metadata": {
    "id": "H24YSWRlt_se"
   },
   "source": [
    " - notice unique placed_at is one greater than unique order_id\n",
    " - question: is it possible that two orders are made on exactly the same milisecond? In theory it is possible, but might there be potential fraud?\n",
    "\n",
    "  *** TODO: how can we find out which two orders happened on the exact same millisecond? \n"
   ]
  },
  {
   "cell_type": "markdown",
   "metadata": {
    "id": "Jxws0iIYt_se"
   },
   "source": [
    " - can we check the min and max of \"date\" column?"
   ]
  },
  {
   "cell_type": "code",
   "execution_count": null,
   "metadata": {
    "id": "AlK7eRbLt_se",
    "outputId": "901520f3-358c-46ed-8b44-2709392d85c7"
   },
   "outputs": [
    {
     "data": {
      "text/plain": [
       "('2021-05-05 11:04:46.579', '2022-07-31 16:52:33.731')"
      ]
     },
     "execution_count": 17,
     "metadata": {},
     "output_type": "execute_result"
    }
   ],
   "source": [
    "baskets['placed_at'].min(), baskets['placed_at'].max()"
   ]
  },
  {
   "cell_type": "markdown",
   "metadata": {
    "id": "_X8mr-PLt_se"
   },
   "source": [
    " - how many merchant transacted on a particular day, say December 31, 2021?\n",
    " - what is the type \"object\" anyways?"
   ]
  },
  {
   "cell_type": "code",
   "execution_count": null,
   "metadata": {
    "id": "c3ius9Ekt_se",
    "outputId": "dfc998f4-d749-4660-f076-a9a7607be7a7"
   },
   "outputs": [
    {
     "data": {
      "text/plain": [
       "('2021-05-06 10:45:02.448', str)"
      ]
     },
     "execution_count": 18,
     "metadata": {},
     "output_type": "execute_result"
    }
   ],
   "source": [
    "baskets['placed_at'][1], type(baskets['placed_at'][1])"
   ]
  },
  {
   "cell_type": "markdown",
   "metadata": {
    "id": "UwhEeC7ot_sf"
   },
   "source": [
    " - how do we work with a string object and get the date, hour, min, second, millisecond?"
   ]
  },
  {
   "cell_type": "markdown",
   "metadata": {
    "id": "fM4CRYPQt_sf"
   },
   "source": [
    "### save some data to a file"
   ]
  },
  {
   "cell_type": "code",
   "execution_count": null,
   "metadata": {
    "id": "-1WQXxu4t_sf"
   },
   "outputs": [],
   "source": [
    "baskets[baskets['merchant_id'] == 1004].to_csv(\"test_dave.csv\", sep = \",\", index=False)"
   ]
  },
  {
   "cell_type": "markdown",
   "metadata": {
    "id": "Sq0Kwno1t_sf"
   },
   "source": [
    "### gather all observations, questions, and TODOs\n",
    "\n",
    " - columns \"placed_at\" and \"supplier_id\" are not numeric and the rest are numerical columns\n",
    " - why are the count on top_cat_id and sub_cat_id different from others? \n",
    " - ID columns' statistics make sense other than count, min, max, since they are supposed to be identifiers, should we treat them as categorical?\n",
    " - why would some items have price of 0?\n",
    " - unique placed_at is one greater than unique order_id\n",
    " - is it possible that two orders are made on exactly the same milisecond? In theory it is possible, but might there be potential fraud?\n",
    " - how can we find out which two orders happened on the exact same millisecond? \n",
    " - how many merchant transacted on a particular day, say December 31, 2021?\n",
    " - how do we work with a string object and get the date, hour, min, second, millisecond? "
   ]
  },
  {
   "cell_type": "markdown",
   "metadata": {},
   "source": [
    "## Testing"
   ]
  },
  {
   "cell_type": "code",
   "execution_count": null,
   "metadata": {},
   "outputs": [],
   "source": []
  }
 ],
 "metadata": {
  "colab": {
   "name": "NB01.ipynb",
   "provenance": []
  },
  "kernelspec": {
   "display_name": "Python 3 (ipykernel)",
   "language": "python",
   "name": "python3"
  },
  "language_info": {
   "codemirror_mode": {
    "name": "ipython",
    "version": 3
   },
   "file_extension": ".py",
   "mimetype": "text/x-python",
   "name": "python",
   "nbconvert_exporter": "python",
   "pygments_lexer": "ipython3",
   "version": "3.9.12"
  },
  "vscode": {
   "interpreter": {
    "hash": "e57d65b3db466a255fb366a0fd9ddb903b84d832e81688bf0eb6e7b10d96915d"
   }
  }
 },
 "nbformat": 4,
 "nbformat_minor": 4
}

{
 "cells": [
  {
   "cell_type": "markdown",
   "id": "d9079bba-de98-45fe-895d-339a6698cd2c",
   "metadata": {},
   "source": [
    "# Question for this notebook- Find various SKU's that have seasonal purchasing patterns, try to identify reasons for seasonal changes."
   ]
  },
  {
   "cell_type": "code",
   "execution_count": 2,
   "id": "bd381aaf-ca2b-4511-831a-b8d7a4164343",
   "metadata": {},
   "outputs": [],
   "source": [
    "import pandas as pd\n",
    "import numpy as np\n",
    "from datetime import datetime, timedelta"
   ]
  },
  {
   "cell_type": "code",
   "execution_count": 3,
   "id": "64f261e1-dc3e-45e6-b292-5e86ee4ffd0d",
   "metadata": {},
   "outputs": [],
   "source": [
    "baskets = pd.read_csv('baskets_sample_random_10.csv')"
   ]
  },
  {
   "cell_type": "markdown",
   "id": "42330d34-4c80-4c5f-acda-37c178ddb460",
   "metadata": {},
   "source": [
    "#### Implement Dr. Li's date configuration for ease of time access."
   ]
  },
  {
   "cell_type": "code",
   "execution_count": 4,
   "id": "e5ef2889-bb5f-45ee-b681-1812dfe72bd6",
   "metadata": {},
   "outputs": [],
   "source": [
    "baskets['datetime'] = baskets['placed_at'].apply(lambda x: datetime.fromisoformat(x))\n",
    "\n",
    "#pandas.Series.dt is an interface on a pandas series that gives you convenient access to operations on data stored as a pandas datetime. \n",
    "baskets['date'] = baskets['datetime'].dt.date\n",
    "baskets['year'] = baskets['datetime'].dt.year\n",
    "baskets['month'] = baskets['datetime'].dt.month\n",
    "baskets['day'] = baskets['datetime'].dt.day\n",
    "baskets['hour'] = baskets['datetime'].dt.hour\n",
    "baskets['weekday'] = baskets['datetime'].dt.weekday"
   ]
  },
  {
   "cell_type": "code",
   "execution_count": 5,
   "id": "fd302604-8628-4db5-9a8d-b5b2ef3bd1d9",
   "metadata": {},
   "outputs": [
    {
     "data": {
      "text/html": [
       "<div>\n",
       "<style scoped>\n",
       "    .dataframe tbody tr th:only-of-type {\n",
       "        vertical-align: middle;\n",
       "    }\n",
       "\n",
       "    .dataframe tbody tr th {\n",
       "        vertical-align: top;\n",
       "    }\n",
       "\n",
       "    .dataframe thead th {\n",
       "        text-align: right;\n",
       "    }\n",
       "</style>\n",
       "<table border=\"1\" class=\"dataframe\">\n",
       "  <thead>\n",
       "    <tr style=\"text-align: right;\">\n",
       "      <th></th>\n",
       "      <th>id</th>\n",
       "      <th>order_id</th>\n",
       "      <th>placed_at</th>\n",
       "      <th>merchant_id</th>\n",
       "      <th>sku_id</th>\n",
       "      <th>top_cat_id</th>\n",
       "      <th>sub_cat_id</th>\n",
       "      <th>qty</th>\n",
       "      <th>price</th>\n",
       "      <th>datetime</th>\n",
       "      <th>date</th>\n",
       "      <th>year</th>\n",
       "      <th>month</th>\n",
       "      <th>day</th>\n",
       "      <th>hour</th>\n",
       "      <th>weekday</th>\n",
       "    </tr>\n",
       "  </thead>\n",
       "  <tbody>\n",
       "    <tr>\n",
       "      <th>0</th>\n",
       "      <td>126</td>\n",
       "      <td>23</td>\n",
       "      <td>2021-05-05 11:04:46.579</td>\n",
       "      <td>10</td>\n",
       "      <td>341</td>\n",
       "      <td>3.0</td>\n",
       "      <td>47.0</td>\n",
       "      <td>100</td>\n",
       "      <td>0.0</td>\n",
       "      <td>2021-05-05 11:04:46.579</td>\n",
       "      <td>2021-05-05</td>\n",
       "      <td>2021</td>\n",
       "      <td>5</td>\n",
       "      <td>5</td>\n",
       "      <td>11</td>\n",
       "      <td>2</td>\n",
       "    </tr>\n",
       "    <tr>\n",
       "      <th>1</th>\n",
       "      <td>166</td>\n",
       "      <td>41</td>\n",
       "      <td>2021-05-06 10:45:02.448</td>\n",
       "      <td>196</td>\n",
       "      <td>341</td>\n",
       "      <td>3.0</td>\n",
       "      <td>47.0</td>\n",
       "      <td>2</td>\n",
       "      <td>0.0</td>\n",
       "      <td>2021-05-06 10:45:02.448</td>\n",
       "      <td>2021-05-06</td>\n",
       "      <td>2021</td>\n",
       "      <td>5</td>\n",
       "      <td>6</td>\n",
       "      <td>10</td>\n",
       "      <td>3</td>\n",
       "    </tr>\n",
       "    <tr>\n",
       "      <th>2</th>\n",
       "      <td>167</td>\n",
       "      <td>42</td>\n",
       "      <td>2021-05-06 10:45:04.850</td>\n",
       "      <td>196</td>\n",
       "      <td>341</td>\n",
       "      <td>3.0</td>\n",
       "      <td>47.0</td>\n",
       "      <td>2</td>\n",
       "      <td>0.0</td>\n",
       "      <td>2021-05-06 10:45:04.850</td>\n",
       "      <td>2021-05-06</td>\n",
       "      <td>2021</td>\n",
       "      <td>5</td>\n",
       "      <td>6</td>\n",
       "      <td>10</td>\n",
       "      <td>3</td>\n",
       "    </tr>\n",
       "    <tr>\n",
       "      <th>3</th>\n",
       "      <td>168</td>\n",
       "      <td>43</td>\n",
       "      <td>2021-05-06 10:48:00.927</td>\n",
       "      <td>197</td>\n",
       "      <td>457</td>\n",
       "      <td>12.0</td>\n",
       "      <td>30.0</td>\n",
       "      <td>20</td>\n",
       "      <td>0.0</td>\n",
       "      <td>2021-05-06 10:48:00.927</td>\n",
       "      <td>2021-05-06</td>\n",
       "      <td>2021</td>\n",
       "      <td>5</td>\n",
       "      <td>6</td>\n",
       "      <td>10</td>\n",
       "      <td>3</td>\n",
       "    </tr>\n",
       "    <tr>\n",
       "      <th>4</th>\n",
       "      <td>169</td>\n",
       "      <td>44</td>\n",
       "      <td>2021-05-06 10:51:28.980</td>\n",
       "      <td>198</td>\n",
       "      <td>341</td>\n",
       "      <td>3.0</td>\n",
       "      <td>47.0</td>\n",
       "      <td>5</td>\n",
       "      <td>0.0</td>\n",
       "      <td>2021-05-06 10:51:28.980</td>\n",
       "      <td>2021-05-06</td>\n",
       "      <td>2021</td>\n",
       "      <td>5</td>\n",
       "      <td>6</td>\n",
       "      <td>10</td>\n",
       "      <td>3</td>\n",
       "    </tr>\n",
       "  </tbody>\n",
       "</table>\n",
       "</div>"
      ],
      "text/plain": [
       "    id  order_id                placed_at  merchant_id  sku_id  top_cat_id  \\\n",
       "0  126        23  2021-05-05 11:04:46.579           10     341         3.0   \n",
       "1  166        41  2021-05-06 10:45:02.448          196     341         3.0   \n",
       "2  167        42  2021-05-06 10:45:04.850          196     341         3.0   \n",
       "3  168        43  2021-05-06 10:48:00.927          197     457        12.0   \n",
       "4  169        44  2021-05-06 10:51:28.980          198     341         3.0   \n",
       "\n",
       "   sub_cat_id  qty  price                datetime        date  year  month  \\\n",
       "0        47.0  100    0.0 2021-05-05 11:04:46.579  2021-05-05  2021      5   \n",
       "1        47.0    2    0.0 2021-05-06 10:45:02.448  2021-05-06  2021      5   \n",
       "2        47.0    2    0.0 2021-05-06 10:45:04.850  2021-05-06  2021      5   \n",
       "3        30.0   20    0.0 2021-05-06 10:48:00.927  2021-05-06  2021      5   \n",
       "4        47.0    5    0.0 2021-05-06 10:51:28.980  2021-05-06  2021      5   \n",
       "\n",
       "   day  hour  weekday  \n",
       "0    5    11        2  \n",
       "1    6    10        3  \n",
       "2    6    10        3  \n",
       "3    6    10        3  \n",
       "4    6    10        3  "
      ]
     },
     "execution_count": 5,
     "metadata": {},
     "output_type": "execute_result"
    }
   ],
   "source": [
    "baskets.head(5)"
   ]
  },
  {
   "cell_type": "markdown",
   "id": "e1164689-55e6-4e68-92fd-e9105048070d",
   "metadata": {},
   "source": [
    "#### Try to make algorithm that plots all purchases over months for random SKU (year doesn't matter right now)"
   ]
  },
  {
   "cell_type": "code",
   "execution_count": 31,
   "id": "8529d2b4-ec92-43e9-9ae6-aba9dd98ff47",
   "metadata": {},
   "outputs": [
    {
     "data": {
      "text/html": [
       "<div>\n",
       "<style scoped>\n",
       "    .dataframe tbody tr th:only-of-type {\n",
       "        vertical-align: middle;\n",
       "    }\n",
       "\n",
       "    .dataframe tbody tr th {\n",
       "        vertical-align: top;\n",
       "    }\n",
       "\n",
       "    .dataframe thead th {\n",
       "        text-align: right;\n",
       "    }\n",
       "</style>\n",
       "<table border=\"1\" class=\"dataframe\">\n",
       "  <thead>\n",
       "    <tr style=\"text-align: right;\">\n",
       "      <th></th>\n",
       "      <th>id</th>\n",
       "      <th>order_id</th>\n",
       "      <th>placed_at</th>\n",
       "      <th>merchant_id</th>\n",
       "      <th>sku_id</th>\n",
       "      <th>top_cat_id</th>\n",
       "      <th>sub_cat_id</th>\n",
       "      <th>qty</th>\n",
       "      <th>price</th>\n",
       "      <th>datetime</th>\n",
       "      <th>date</th>\n",
       "      <th>year</th>\n",
       "      <th>month</th>\n",
       "      <th>day</th>\n",
       "      <th>hour</th>\n",
       "      <th>weekday</th>\n",
       "    </tr>\n",
       "  </thead>\n",
       "  <tbody>\n",
       "    <tr>\n",
       "      <th>132</th>\n",
       "      <td>2207</td>\n",
       "      <td>356</td>\n",
       "      <td>2021-06-17 10:27:52.447</td>\n",
       "      <td>349</td>\n",
       "      <td>962</td>\n",
       "      <td>3.0</td>\n",
       "      <td>105.0</td>\n",
       "      <td>10</td>\n",
       "      <td>147000.0</td>\n",
       "      <td>2021-06-17 10:27:52.447</td>\n",
       "      <td>2021-06-17</td>\n",
       "      <td>2021</td>\n",
       "      <td>6</td>\n",
       "      <td>17</td>\n",
       "      <td>10</td>\n",
       "      <td>3</td>\n",
       "    </tr>\n",
       "    <tr>\n",
       "      <th>202</th>\n",
       "      <td>3051</td>\n",
       "      <td>417</td>\n",
       "      <td>2021-06-25 00:43:08.986</td>\n",
       "      <td>134</td>\n",
       "      <td>962</td>\n",
       "      <td>3.0</td>\n",
       "      <td>105.0</td>\n",
       "      <td>15</td>\n",
       "      <td>150000.0</td>\n",
       "      <td>2021-06-25 00:43:08.986</td>\n",
       "      <td>2021-06-25</td>\n",
       "      <td>2021</td>\n",
       "      <td>6</td>\n",
       "      <td>25</td>\n",
       "      <td>0</td>\n",
       "      <td>4</td>\n",
       "    </tr>\n",
       "    <tr>\n",
       "      <th>210</th>\n",
       "      <td>3357</td>\n",
       "      <td>431</td>\n",
       "      <td>2021-06-25 15:21:54.917</td>\n",
       "      <td>134</td>\n",
       "      <td>962</td>\n",
       "      <td>3.0</td>\n",
       "      <td>105.0</td>\n",
       "      <td>4</td>\n",
       "      <td>150000.0</td>\n",
       "      <td>2021-06-25 15:21:54.917</td>\n",
       "      <td>2021-06-25</td>\n",
       "      <td>2021</td>\n",
       "      <td>6</td>\n",
       "      <td>25</td>\n",
       "      <td>15</td>\n",
       "      <td>4</td>\n",
       "    </tr>\n",
       "    <tr>\n",
       "      <th>228</th>\n",
       "      <td>3422</td>\n",
       "      <td>434</td>\n",
       "      <td>2021-06-25 15:37:06.159</td>\n",
       "      <td>134</td>\n",
       "      <td>962</td>\n",
       "      <td>3.0</td>\n",
       "      <td>105.0</td>\n",
       "      <td>20</td>\n",
       "      <td>150000.0</td>\n",
       "      <td>2021-06-25 15:37:06.159</td>\n",
       "      <td>2021-06-25</td>\n",
       "      <td>2021</td>\n",
       "      <td>6</td>\n",
       "      <td>25</td>\n",
       "      <td>15</td>\n",
       "      <td>4</td>\n",
       "    </tr>\n",
       "    <tr>\n",
       "      <th>236</th>\n",
       "      <td>3430</td>\n",
       "      <td>435</td>\n",
       "      <td>2021-06-25 15:43:51.317</td>\n",
       "      <td>10</td>\n",
       "      <td>962</td>\n",
       "      <td>3.0</td>\n",
       "      <td>105.0</td>\n",
       "      <td>50</td>\n",
       "      <td>150000.0</td>\n",
       "      <td>2021-06-25 15:43:51.317</td>\n",
       "      <td>2021-06-25</td>\n",
       "      <td>2021</td>\n",
       "      <td>6</td>\n",
       "      <td>25</td>\n",
       "      <td>15</td>\n",
       "      <td>4</td>\n",
       "    </tr>\n",
       "  </tbody>\n",
       "</table>\n",
       "</div>"
      ],
      "text/plain": [
       "       id  order_id                placed_at  merchant_id  sku_id  top_cat_id  \\\n",
       "132  2207       356  2021-06-17 10:27:52.447          349     962         3.0   \n",
       "202  3051       417  2021-06-25 00:43:08.986          134     962         3.0   \n",
       "210  3357       431  2021-06-25 15:21:54.917          134     962         3.0   \n",
       "228  3422       434  2021-06-25 15:37:06.159          134     962         3.0   \n",
       "236  3430       435  2021-06-25 15:43:51.317           10     962         3.0   \n",
       "\n",
       "     sub_cat_id  qty     price                datetime        date  year  \\\n",
       "132       105.0   10  147000.0 2021-06-17 10:27:52.447  2021-06-17  2021   \n",
       "202       105.0   15  150000.0 2021-06-25 00:43:08.986  2021-06-25  2021   \n",
       "210       105.0    4  150000.0 2021-06-25 15:21:54.917  2021-06-25  2021   \n",
       "228       105.0   20  150000.0 2021-06-25 15:37:06.159  2021-06-25  2021   \n",
       "236       105.0   50  150000.0 2021-06-25 15:43:51.317  2021-06-25  2021   \n",
       "\n",
       "     month  day  hour  weekday  \n",
       "132      6   17    10        3  \n",
       "202      6   25     0        4  \n",
       "210      6   25    15        4  \n",
       "228      6   25    15        4  \n",
       "236      6   25    15        4  "
      ]
     },
     "execution_count": 31,
     "metadata": {},
     "output_type": "execute_result"
    }
   ],
   "source": [
    "randsku = baskets[baskets['sku_id']==962]\n",
    "randsku.head(5)"
   ]
  },
  {
   "cell_type": "markdown",
   "id": "da17f320-4562-47e3-8611-6b192e863f01",
   "metadata": {},
   "source": [
    "## Both attempts seem to generate same plot"
   ]
  },
  {
   "cell_type": "code",
   "execution_count": 35,
   "id": "152bb74f-a682-4cdc-a79a-aa3a198e8f59",
   "metadata": {},
   "outputs": [
    {
     "data": {
      "text/plain": [
       "<AxesSubplot:xlabel='month'>"
      ]
     },
     "execution_count": 35,
     "metadata": {},
     "output_type": "execute_result"
    },
    {
     "data": {
      "image/png": "[encoded data removed]",
      "text/plain": [
       "<Figure size 432x288 with 1 Axes>"
      ]
     },
     "metadata": {
      "needs_background": "light"
     },
     "output_type": "display_data"
    }
   ],
   "source": [
    "randsku['sku_id'].groupby(randsku['month']).count().plot()"
   ]
  },
  {
   "cell_type": "markdown",
   "id": "34d0a2d0-928d-4395-a5ff-23618dce27ee",
   "metadata": {},
   "source": [
    "#### df.groupby('Company Name')['PaidTotal'].sum().plot.bar() - second attempt to count how many oders per month were placed of this specific product."
   ]
  },
  {
   "cell_type": "code",
   "execution_count": 34,
   "id": "c32ae3b5-7a1d-4738-9427-63b973406aab",
   "metadata": {},
   "outputs": [
    {
     "data": {
      "text/plain": [
       "<AxesSubplot:xlabel='month'>"
      ]
     },
     "execution_count": 34,
     "metadata": {},
     "output_type": "execute_result"
    },
    {
     "data": {
      "image/png": "[encoded data removed]",
      "text/plain": [
       "<Figure size 432x288 with 1 Axes>"
      ]
     },
     "metadata": {
      "needs_background": "light"
     },
     "output_type": "display_data"
    }
   ],
   "source": [
    "randsku.groupby('month')['order_id'].count().plot.bar()"
   ]
  },
  {
   "cell_type": "markdown",
   "id": "723a21c4-cad8-4455-b857-7a5448754eaf",
   "metadata": {},
   "source": [
    "## Next, find top 5 sku's and plot all purchases to observe seasonal changes."
   ]
  },
  {
   "cell_type": "markdown",
   "id": "7973fa58-c8e4-4af8-9c69-889c5195de24",
   "metadata": {},
   "source": [
    "Does purchasing in general follow a seasonal patterm? Make sure to only observe sku's that deviate from the average season buying, since this pattern may simply be a normal yearly variance."
   ]
  },
  {
   "cell_type": "code",
   "execution_count": 37,
   "id": "c42e85c9-94b5-43f4-8d60-87e85b7c08e3",
   "metadata": {},
   "outputs": [
    {
     "data": {
      "text/plain": [
       "sku_id\n",
       "962     580\n",
       "761     577\n",
       "824     519\n",
       "875     479\n",
       "696     454\n",
       "       ... \n",
       "1446      1\n",
       "1445      1\n",
       "1442      1\n",
       "1440      1\n",
       "2383      1\n",
       "Name: order_id, Length: 1353, dtype: int64"
      ]
     },
     "execution_count": 37,
     "metadata": {},
     "output_type": "execute_result"
    }
   ],
   "source": [
    "baskets.groupby(['sku_id']).order_id.nunique().sort_values(ascending = False)"
   ]
  },
  {
   "cell_type": "markdown",
   "id": "eabc8249-92f3-4c17-8c37-75e93b5d45a0",
   "metadata": {},
   "source": [
    "#### Top 5 are sku's 962, 761, 824, 875, 696. What items are these? Are they seasonaly demanded? "
   ]
  },
  {
   "cell_type": "markdown",
   "id": "326e5a96-7f3b-43bd-9802-80400719e5ec",
   "metadata": {},
   "source": [
    "Let's graph all of them. First, make a subdataframe with the top 5 skus in it. "
   ]
  },
  {
   "cell_type": "code",
   "execution_count": 60,
   "id": "cfac6f06-87a8-4d2c-849f-edb837645c7a",
   "metadata": {},
   "outputs": [
    {
     "data": {
      "text/html": [
       "<div>\n",
       "<style scoped>\n",
       "    .dataframe tbody tr th:only-of-type {\n",
       "        vertical-align: middle;\n",
       "    }\n",
       "\n",
       "    .dataframe tbody tr th {\n",
       "        vertical-align: top;\n",
       "    }\n",
       "\n",
       "    .dataframe thead th {\n",
       "        text-align: right;\n",
       "    }\n",
       "</style>\n",
       "<table border=\"1\" class=\"dataframe\">\n",
       "  <thead>\n",
       "    <tr style=\"text-align: right;\">\n",
       "      <th></th>\n",
       "      <th>id</th>\n",
       "      <th>order_id</th>\n",
       "      <th>merchant_id</th>\n",
       "      <th>sku_id</th>\n",
       "      <th>top_cat_id</th>\n",
       "      <th>sub_cat_id</th>\n",
       "      <th>qty</th>\n",
       "      <th>price</th>\n",
       "      <th>year</th>\n",
       "      <th>month</th>\n",
       "      <th>day</th>\n",
       "      <th>hour</th>\n",
       "      <th>weekday</th>\n",
       "    </tr>\n",
       "  </thead>\n",
       "  <tbody>\n",
       "    <tr>\n",
       "      <th>count</th>\n",
       "      <td>2612.000000</td>\n",
       "      <td>2612.000000</td>\n",
       "      <td>2612.000000</td>\n",
       "      <td>2612.000000</td>\n",
       "      <td>2612.000000</td>\n",
       "      <td>2612.000000</td>\n",
       "      <td>2612.000000</td>\n",
       "      <td>2612.000000</td>\n",
       "      <td>2612.000000</td>\n",
       "      <td>2612.000000</td>\n",
       "      <td>2612.000000</td>\n",
       "      <td>2612.000000</td>\n",
       "      <td>2612.000000</td>\n",
       "    </tr>\n",
       "    <tr>\n",
       "      <th>mean</th>\n",
       "      <td>162978.266845</td>\n",
       "      <td>27311.173813</td>\n",
       "      <td>1057.918070</td>\n",
       "      <td>827.830781</td>\n",
       "      <td>5.803599</td>\n",
       "      <td>61.722435</td>\n",
       "      <td>23.568147</td>\n",
       "      <td>203574.779807</td>\n",
       "      <td>2021.495023</td>\n",
       "      <td>6.726646</td>\n",
       "      <td>16.432236</td>\n",
       "      <td>12.920368</td>\n",
       "      <td>2.635911</td>\n",
       "    </tr>\n",
       "    <tr>\n",
       "      <th>std</th>\n",
       "      <td>89664.085063</td>\n",
       "      <td>17457.113727</td>\n",
       "      <td>739.765314</td>\n",
       "      <td>91.754082</td>\n",
       "      <td>4.387504</td>\n",
       "      <td>29.398839</td>\n",
       "      <td>118.881750</td>\n",
       "      <td>184865.886690</td>\n",
       "      <td>0.500071</td>\n",
       "      <td>4.153085</td>\n",
       "      <td>8.879184</td>\n",
       "      <td>3.755116</td>\n",
       "      <td>1.780437</td>\n",
       "    </tr>\n",
       "    <tr>\n",
       "      <th>min</th>\n",
       "      <td>2207.000000</td>\n",
       "      <td>356.000000</td>\n",
       "      <td>10.000000</td>\n",
       "      <td>696.000000</td>\n",
       "      <td>3.000000</td>\n",
       "      <td>24.000000</td>\n",
       "      <td>1.000000</td>\n",
       "      <td>0.000000</td>\n",
       "      <td>2021.000000</td>\n",
       "      <td>1.000000</td>\n",
       "      <td>1.000000</td>\n",
       "      <td>0.000000</td>\n",
       "      <td>0.000000</td>\n",
       "    </tr>\n",
       "    <tr>\n",
       "      <th>25%</th>\n",
       "      <td>85322.750000</td>\n",
       "      <td>11259.000000</td>\n",
       "      <td>398.000000</td>\n",
       "      <td>761.000000</td>\n",
       "      <td>3.000000</td>\n",
       "      <td>37.000000</td>\n",
       "      <td>1.000000</td>\n",
       "      <td>118000.000000</td>\n",
       "      <td>2021.000000</td>\n",
       "      <td>2.000000</td>\n",
       "      <td>8.000000</td>\n",
       "      <td>10.000000</td>\n",
       "      <td>1.000000</td>\n",
       "    </tr>\n",
       "    <tr>\n",
       "      <th>50%</th>\n",
       "      <td>161664.500000</td>\n",
       "      <td>26410.000000</td>\n",
       "      <td>946.000000</td>\n",
       "      <td>824.000000</td>\n",
       "      <td>4.000000</td>\n",
       "      <td>57.000000</td>\n",
       "      <td>3.000000</td>\n",
       "      <td>159500.000000</td>\n",
       "      <td>2021.000000</td>\n",
       "      <td>7.000000</td>\n",
       "      <td>17.000000</td>\n",
       "      <td>12.000000</td>\n",
       "      <td>3.000000</td>\n",
       "    </tr>\n",
       "    <tr>\n",
       "      <th>75%</th>\n",
       "      <td>238108.750000</td>\n",
       "      <td>42896.500000</td>\n",
       "      <td>1497.000000</td>\n",
       "      <td>875.000000</td>\n",
       "      <td>4.000000</td>\n",
       "      <td>80.000000</td>\n",
       "      <td>16.000000</td>\n",
       "      <td>210625.000000</td>\n",
       "      <td>2022.000000</td>\n",
       "      <td>11.000000</td>\n",
       "      <td>24.000000</td>\n",
       "      <td>15.000000</td>\n",
       "      <td>4.000000</td>\n",
       "    </tr>\n",
       "    <tr>\n",
       "      <th>max</th>\n",
       "      <td>338865.000000</td>\n",
       "      <td>61356.000000</td>\n",
       "      <td>3160.000000</td>\n",
       "      <td>962.000000</td>\n",
       "      <td>14.000000</td>\n",
       "      <td>105.000000</td>\n",
       "      <td>5000.000000</td>\n",
       "      <td>650000.000000</td>\n",
       "      <td>2022.000000</td>\n",
       "      <td>12.000000</td>\n",
       "      <td>31.000000</td>\n",
       "      <td>23.000000</td>\n",
       "      <td>6.000000</td>\n",
       "    </tr>\n",
       "  </tbody>\n",
       "</table>\n",
       "</div>"
      ],
      "text/plain": [
       "                  id      order_id  merchant_id       sku_id   top_cat_id  \\\n",
       "count    2612.000000   2612.000000  2612.000000  2612.000000  2612.000000   \n",
       "mean   162978.266845  27311.173813  1057.918070   827.830781     5.803599   \n",
       "std     89664.085063  17457.113727   739.765314    91.754082     4.387504   \n",
       "min      2207.000000    356.000000    10.000000   696.000000     3.000000   \n",
       "25%     85322.750000  11259.000000   398.000000   761.000000     3.000000   \n",
       "50%    161664.500000  26410.000000   946.000000   824.000000     4.000000   \n",
       "75%    238108.750000  42896.500000  1497.000000   875.000000     4.000000   \n",
       "max    338865.000000  61356.000000  3160.000000   962.000000    14.000000   \n",
       "\n",
       "        sub_cat_id          qty          price         year        month  \\\n",
       "count  2612.000000  2612.000000    2612.000000  2612.000000  2612.000000   \n",
       "mean     61.722435    23.568147  203574.779807  2021.495023     6.726646   \n",
       "std      29.398839   118.881750  184865.886690     0.500071     4.153085   \n",
       "min      24.000000     1.000000       0.000000  2021.000000     1.000000   \n",
       "25%      37.000000     1.000000  118000.000000  2021.000000     2.000000   \n",
       "50%      57.000000     3.000000  159500.000000  2021.000000     7.000000   \n",
       "75%      80.000000    16.000000  210625.000000  2022.000000    11.000000   \n",
       "max     105.000000  5000.000000  650000.000000  2022.000000    12.000000   \n",
       "\n",
       "               day         hour      weekday  \n",
       "count  2612.000000  2612.000000  2612.000000  \n",
       "mean     16.432236    12.920368     2.635911  \n",
       "std       8.879184     3.755116     1.780437  \n",
       "min       1.000000     0.000000     0.000000  \n",
       "25%       8.000000    10.000000     1.000000  \n",
       "50%      17.000000    12.000000     3.000000  \n",
       "75%      24.000000    15.000000     4.000000  \n",
       "max      31.000000    23.000000     6.000000  "
      ]
     },
     "execution_count": 60,
     "metadata": {},
     "output_type": "execute_result"
    }
   ],
   "source": [
    "options = [962, 761, 824, 875, 696]\n",
    "topsku = baskets[baskets['sku_id'].isin(options)]\n",
    "topsku.describe()"
   ]
  },
  {
   "cell_type": "code",
   "execution_count": 63,
   "id": "e6c8c1de-fad6-4371-b939-d96b102f4e86",
   "metadata": {},
   "outputs": [
    {
     "data": {
      "text/plain": [
       "<AxesSubplot:xlabel='month'>"
      ]
     },
     "execution_count": 63,
     "metadata": {},
     "output_type": "execute_result"
    },
    {
     "data": {
      "image/png": "[encoded data removed]",
      "text/plain": [
       "<Figure size 432x288 with 1 Axes>"
      ]
     },
     "metadata": {
      "needs_background": "light"
     },
     "output_type": "display_data"
    }
   ],
   "source": [
    "topsku.groupby('month')['order_id'].count().plot(legend = True)"
   ]
  },
  {
   "cell_type": "code",
   "execution_count": null,
   "id": "0a714772-e550-4b1c-9dfe-415e9f70a07d",
   "metadata": {},
   "outputs": [],
   "source": []
  },
  {
   "cell_type": "code",
   "execution_count": null,
   "id": "6c8739f2-3d53-4089-a7ff-2ed9651827b7",
   "metadata": {},
   "outputs": [],
   "source": []
  }
 ],
 "metadata": {
  "kernelspec": {
   "display_name": "Python 3 (ipykernel)",
   "language": "python",
   "name": "python3"
  },
  "language_info": {
   "codemirror_mode": {
    "name": "ipython",
    "version": 3
   },
   "file_extension": ".py",
   "mimetype": "text/x-python",
   "name": "python",
   "nbconvert_exporter": "python",
   "pygments_lexer": "ipython3",
   "version": "3.9.12"
  }
 },
 "nbformat": 4,
 "nbformat_minor": 5
}

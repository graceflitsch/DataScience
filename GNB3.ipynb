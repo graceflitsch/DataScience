{
 "cells": [
  {
   "cell_type": "markdown",
   "id": "07dd5b19-f43e-4807-af40-ae5ad668922d",
   "metadata": {},
   "source": [
    "# How much are top merchants spending per order? Are we retaining these top buyers?"
   ]
  },
  {
   "cell_type": "markdown",
   "id": "25820c49-1228-4750-a865-dba8cdbc194b",
   "metadata": {},
   "source": [
    "To accomplish in this notebook- \n",
    "- Define \"Top buyer\" - They come every month? They have spent the most money? They spend a certain amount every month?\n",
    "- Recommend definition of \"top buyers\" "
   ]
  },
  {
   "cell_type": "code",
   "execution_count": 1,
   "id": "c713a6b9-f92d-40ae-b35b-fdcbe8e4a7af",
   "metadata": {},
   "outputs": [],
   "source": [
    "import pandas as pd\n",
    "import numpy as np\n",
    "from datetime import datetime, timedelta\n",
    "baskets = pd.read_csv('new_baskets_full.csv')\n",
    "baskets['datetime'] = baskets['placed_at'].apply(lambda x: datetime.fromisoformat(x))\n",
    "\n",
    "#pandas.Series.dt is an interface on a pandas series that gives you convenient access to operations on data stored as a pandas datetime. \n",
    "baskets['date'] = baskets['datetime'].dt.date\n",
    "baskets['year'] = baskets['datetime'].dt.year\n",
    "baskets['month'] = baskets['datetime'].dt.month\n",
    "baskets['day'] = baskets['datetime'].dt.day\n",
    "baskets['hour'] = baskets['datetime'].dt.hour\n",
    "baskets['weekday'] = baskets['datetime'].dt.weekday"
   ]
  },
  {
   "cell_type": "markdown",
   "id": "428b77ab-3177-460d-a677-0d7d8d6de410",
   "metadata": {},
   "source": [
    "#### Start by finding top buyers in terms of total amount spent."
   ]
  },
  {
   "cell_type": "code",
   "execution_count": 2,
   "id": "18433a9f-7d3d-4258-a890-a10254e43426",
   "metadata": {},
   "outputs": [],
   "source": [
    "baskets['spent'] = baskets['price'] * baskets['qty']"
   ]
  },
  {
   "cell_type": "code",
   "execution_count": 3,
   "id": "29f77b5d-a805-4e2a-a376-ef0fc71eef69",
   "metadata": {},
   "outputs": [
    {
     "data": {
      "text/html": [
       "<div>\n",
       "<style scoped>\n",
       "    .dataframe tbody tr th:only-of-type {\n",
       "        vertical-align: middle;\n",
       "    }\n",
       "\n",
       "    .dataframe tbody tr th {\n",
       "        vertical-align: top;\n",
       "    }\n",
       "\n",
       "    .dataframe thead th {\n",
       "        text-align: right;\n",
       "    }\n",
       "</style>\n",
       "<table border=\"1\" class=\"dataframe\">\n",
       "  <thead>\n",
       "    <tr style=\"text-align: right;\">\n",
       "      <th></th>\n",
       "      <th>id</th>\n",
       "      <th>order_id</th>\n",
       "      <th>merchant_id</th>\n",
       "      <th>sku_id</th>\n",
       "      <th>top_cat_id</th>\n",
       "      <th>sub_cat_id</th>\n",
       "      <th>qty</th>\n",
       "      <th>price</th>\n",
       "      <th>year</th>\n",
       "      <th>month</th>\n",
       "      <th>day</th>\n",
       "      <th>hour</th>\n",
       "      <th>weekday</th>\n",
       "      <th>spent</th>\n",
       "    </tr>\n",
       "  </thead>\n",
       "  <tbody>\n",
       "    <tr>\n",
       "      <th>count</th>\n",
       "      <td>336472.000000</td>\n",
       "      <td>336472.000000</td>\n",
       "      <td>336472.000000</td>\n",
       "      <td>336472.000000</td>\n",
       "      <td>336461.000000</td>\n",
       "      <td>336461.000000</td>\n",
       "      <td>3.364720e+05</td>\n",
       "      <td>3.364720e+05</td>\n",
       "      <td>336472.000000</td>\n",
       "      <td>336472.000000</td>\n",
       "      <td>336472.000000</td>\n",
       "      <td>336472.000000</td>\n",
       "      <td>336472.000000</td>\n",
       "      <td>3.364720e+05</td>\n",
       "    </tr>\n",
       "    <tr>\n",
       "      <th>mean</th>\n",
       "      <td>168236.500000</td>\n",
       "      <td>29079.405656</td>\n",
       "      <td>798.592706</td>\n",
       "      <td>525.308685</td>\n",
       "      <td>10.319098</td>\n",
       "      <td>45.395065</td>\n",
       "      <td>3.789684e+01</td>\n",
       "      <td>1.378956e+05</td>\n",
       "      <td>2021.539941</td>\n",
       "      <td>6.659588</td>\n",
       "      <td>15.970758</td>\n",
       "      <td>12.702486</td>\n",
       "      <td>2.620928</td>\n",
       "      <td>5.346555e+05</td>\n",
       "    </tr>\n",
       "    <tr>\n",
       "      <th>std</th>\n",
       "      <td>97131.244225</td>\n",
       "      <td>18909.738357</td>\n",
       "      <td>550.271799</td>\n",
       "      <td>304.262943</td>\n",
       "      <td>7.906257</td>\n",
       "      <td>27.767388</td>\n",
       "      <td>1.035873e+04</td>\n",
       "      <td>1.744689e+05</td>\n",
       "      <td>0.498403</td>\n",
       "      <td>3.932984</td>\n",
       "      <td>8.796420</td>\n",
       "      <td>4.228485</td>\n",
       "      <td>1.831302</td>\n",
       "      <td>2.859301e+06</td>\n",
       "    </tr>\n",
       "    <tr>\n",
       "      <th>min</th>\n",
       "      <td>1.000000</td>\n",
       "      <td>1.000000</td>\n",
       "      <td>1.000000</td>\n",
       "      <td>1.000000</td>\n",
       "      <td>1.000000</td>\n",
       "      <td>1.000000</td>\n",
       "      <td>1.000000e+00</td>\n",
       "      <td>4.375000e-02</td>\n",
       "      <td>2021.000000</td>\n",
       "      <td>1.000000</td>\n",
       "      <td>1.000000</td>\n",
       "      <td>0.000000</td>\n",
       "      <td>0.000000</td>\n",
       "      <td>5.000000e+00</td>\n",
       "    </tr>\n",
       "    <tr>\n",
       "      <th>25%</th>\n",
       "      <td>84118.750000</td>\n",
       "      <td>11485.000000</td>\n",
       "      <td>352.000000</td>\n",
       "      <td>322.000000</td>\n",
       "      <td>4.000000</td>\n",
       "      <td>27.000000</td>\n",
       "      <td>1.000000e+00</td>\n",
       "      <td>4.600000e+04</td>\n",
       "      <td>2021.000000</td>\n",
       "      <td>3.000000</td>\n",
       "      <td>8.000000</td>\n",
       "      <td>10.000000</td>\n",
       "      <td>1.000000</td>\n",
       "      <td>1.165000e+05</td>\n",
       "    </tr>\n",
       "    <tr>\n",
       "      <th>50%</th>\n",
       "      <td>168236.500000</td>\n",
       "      <td>28436.000000</td>\n",
       "      <td>664.000000</td>\n",
       "      <td>438.000000</td>\n",
       "      <td>8.000000</td>\n",
       "      <td>43.000000</td>\n",
       "      <td>2.000000e+00</td>\n",
       "      <td>1.070000e+05</td>\n",
       "      <td>2022.000000</td>\n",
       "      <td>7.000000</td>\n",
       "      <td>16.000000</td>\n",
       "      <td>12.000000</td>\n",
       "      <td>3.000000</td>\n",
       "      <td>2.080000e+05</td>\n",
       "    </tr>\n",
       "    <tr>\n",
       "      <th>75%</th>\n",
       "      <td>252354.250000</td>\n",
       "      <td>46193.250000</td>\n",
       "      <td>1217.000000</td>\n",
       "      <td>589.000000</td>\n",
       "      <td>14.000000</td>\n",
       "      <td>69.000000</td>\n",
       "      <td>5.000000e+00</td>\n",
       "      <td>1.845000e+05</td>\n",
       "      <td>2022.000000</td>\n",
       "      <td>11.000000</td>\n",
       "      <td>24.000000</td>\n",
       "      <td>15.000000</td>\n",
       "      <td>4.000000</td>\n",
       "      <td>4.350000e+05</td>\n",
       "    </tr>\n",
       "    <tr>\n",
       "      <th>max</th>\n",
       "      <td>336472.000000</td>\n",
       "      <td>62048.000000</td>\n",
       "      <td>2138.000000</td>\n",
       "      <td>1617.000000</td>\n",
       "      <td>33.000000</td>\n",
       "      <td>96.000000</td>\n",
       "      <td>4.800000e+06</td>\n",
       "      <td>5.875000e+07</td>\n",
       "      <td>2022.000000</td>\n",
       "      <td>12.000000</td>\n",
       "      <td>31.000000</td>\n",
       "      <td>23.000000</td>\n",
       "      <td>6.000000</td>\n",
       "      <td>3.831222e+08</td>\n",
       "    </tr>\n",
       "  </tbody>\n",
       "</table>\n",
       "</div>"
      ],
      "text/plain": [
       "                  id       order_id    merchant_id         sku_id  \\\n",
       "count  336472.000000  336472.000000  336472.000000  336472.000000   \n",
       "mean   168236.500000   29079.405656     798.592706     525.308685   \n",
       "std     97131.244225   18909.738357     550.271799     304.262943   \n",
       "min         1.000000       1.000000       1.000000       1.000000   \n",
       "25%     84118.750000   11485.000000     352.000000     322.000000   \n",
       "50%    168236.500000   28436.000000     664.000000     438.000000   \n",
       "75%    252354.250000   46193.250000    1217.000000     589.000000   \n",
       "max    336472.000000   62048.000000    2138.000000    1617.000000   \n",
       "\n",
       "          top_cat_id     sub_cat_id           qty         price  \\\n",
       "count  336461.000000  336461.000000  3.364720e+05  3.364720e+05   \n",
       "mean       10.319098      45.395065  3.789684e+01  1.378956e+05   \n",
       "std         7.906257      27.767388  1.035873e+04  1.744689e+05   \n",
       "min         1.000000       1.000000  1.000000e+00  4.375000e-02   \n",
       "25%         4.000000      27.000000  1.000000e+00  4.600000e+04   \n",
       "50%         8.000000      43.000000  2.000000e+00  1.070000e+05   \n",
       "75%        14.000000      69.000000  5.000000e+00  1.845000e+05   \n",
       "max        33.000000      96.000000  4.800000e+06  5.875000e+07   \n",
       "\n",
       "                year          month            day           hour  \\\n",
       "count  336472.000000  336472.000000  336472.000000  336472.000000   \n",
       "mean     2021.539941       6.659588      15.970758      12.702486   \n",
       "std         0.498403       3.932984       8.796420       4.228485   \n",
       "min      2021.000000       1.000000       1.000000       0.000000   \n",
       "25%      2021.000000       3.000000       8.000000      10.000000   \n",
       "50%      2022.000000       7.000000      16.000000      12.000000   \n",
       "75%      2022.000000      11.000000      24.000000      15.000000   \n",
       "max      2022.000000      12.000000      31.000000      23.000000   \n",
       "\n",
       "             weekday         spent  \n",
       "count  336472.000000  3.364720e+05  \n",
       "mean        2.620928  5.346555e+05  \n",
       "std         1.831302  2.859301e+06  \n",
       "min         0.000000  5.000000e+00  \n",
       "25%         1.000000  1.165000e+05  \n",
       "50%         3.000000  2.080000e+05  \n",
       "75%         4.000000  4.350000e+05  \n",
       "max         6.000000  3.831222e+08  "
      ]
     },
     "execution_count": 3,
     "metadata": {},
     "output_type": "execute_result"
    }
   ],
   "source": [
    "baskets.describe()"
   ]
  },
  {
   "cell_type": "markdown",
   "id": "251d8c2e-3057-49b9-b72e-f4fec89c126d",
   "metadata": {},
   "source": [
    "Remove first 5 months of data from dataframe."
   ]
  },
  {
   "cell_type": "code",
   "execution_count": 4,
   "id": "8556e320-6a79-46f5-83e3-c2caac189a97",
   "metadata": {},
   "outputs": [
    {
     "data": {
      "text/plain": [
       "datetime.date(2021, 4, 9)"
      ]
     },
     "execution_count": 4,
     "metadata": {},
     "output_type": "execute_result"
    }
   ],
   "source": [
    "baskets.date.min()"
   ]
  },
  {
   "cell_type": "code",
   "execution_count": 5,
   "id": "e19cd789-2ffa-4ce3-8266-355192cc2e90",
   "metadata": {},
   "outputs": [],
   "source": [
    "baskets = baskets[baskets['date'] > pd.to_datetime('2021-7-31').date()]"
   ]
  },
  {
   "cell_type": "code",
   "execution_count": 6,
   "id": "166d8915-5cd7-4511-9b1c-40ec5840960c",
   "metadata": {},
   "outputs": [
    {
     "data": {
      "text/plain": [
       "datetime.date(2021, 8, 1)"
      ]
     },
     "execution_count": 6,
     "metadata": {},
     "output_type": "execute_result"
    }
   ],
   "source": [
    "baskets.date.min()"
   ]
  },
  {
   "cell_type": "markdown",
   "id": "b36cdc82-1775-4ecb-a3e2-b09fed670760",
   "metadata": {},
   "source": [
    "Find total amount spent by each merchant and sort highest to lowest."
   ]
  },
  {
   "cell_type": "code",
   "execution_count": 7,
   "id": "b6ee01d2-6435-4741-994e-ced4a6464ad6",
   "metadata": {},
   "outputs": [
    {
     "data": {
      "text/plain": [
       "merchant_id\n",
       "664     3.947079e+09\n",
       "441     1.729729e+09\n",
       "366     1.724671e+09\n",
       "122     1.491349e+09\n",
       "430     1.441119e+09\n",
       "            ...     \n",
       "1158    3.575000e+05\n",
       "1931    3.450000e+05\n",
       "2018    3.290000e+05\n",
       "411     3.190000e+05\n",
       "1157    2.459000e+05\n",
       "Name: spent, Length: 2128, dtype: float64"
      ]
     },
     "execution_count": 7,
     "metadata": {},
     "output_type": "execute_result"
    }
   ],
   "source": [
    "baskets.groupby('merchant_id').spent.sum().sort_values(ascending = False)"
   ]
  },
  {
   "cell_type": "markdown",
   "id": "c588aa6d-4260-48af-806c-3fdc28b3467e",
   "metadata": {},
   "source": [
    "Notice that the top 5 most spending merchants are 664,441,366,122,430. Lets plot their spending over time to see if they are consistent spenders."
   ]
  },
  {
   "cell_type": "code",
   "execution_count": 8,
   "id": "296ef09e-e153-4e42-82eb-6f644603e70b",
   "metadata": {},
   "outputs": [],
   "source": [
    "baskets['month_order'] = baskets['year']*12 + baskets['month']"
   ]
  },
  {
   "cell_type": "markdown",
   "id": "2a8d65f3-a359-43ce-af06-6f0da83d86eb",
   "metadata": {},
   "source": [
    "Created month_order to reindex data to start at end of july"
   ]
  },
  {
   "cell_type": "markdown",
   "id": "b10a6feb-9488-4efa-a73f-55891cd2abc4",
   "metadata": {},
   "source": [
    "Created options to parse through top 5 spenders"
   ]
  },
  {
   "cell_type": "code",
   "execution_count": 9,
   "id": "f99c31e3-24c1-4fa9-ab1b-838330d9aeae",
   "metadata": {},
   "outputs": [],
   "source": [
    "options = [664,441,366,122,430]"
   ]
  },
  {
   "cell_type": "code",
   "execution_count": 10,
   "id": "80c1e607-efe3-47c2-9391-18041891af97",
   "metadata": {},
   "outputs": [
    {
     "data": {
      "image/png": "[encoded data removed]",
      "text/plain": [
       "<Figure size 432x288 with 1 Axes>"
      ]
     },
     "metadata": {
      "needs_background": "light"
     },
     "output_type": "display_data"
    }
   ],
   "source": [
    "for i in range(5):\n",
    "    baskets[baskets['merchant_id']==options[i]].groupby('month_order')['spent'].sum().plot().legend([664,441,366,122,430],fancybox = True)\n"
   ]
  },
  {
   "cell_type": "markdown",
   "id": "9f612701-48dd-47f8-9c23-ed3decc38033",
   "metadata": {},
   "source": [
    "Merchant 664 has a very unique buying pattern- looks like their last purchase was in March of 2022. They are defnitely an outlier, and seem to no longer be a customer. Remove 664 as top contender."
   ]
  },
  {
   "cell_type": "code",
   "execution_count": 11,
   "id": "c6402b96-ff7d-42d4-aab3-1b0c45ab1674",
   "metadata": {},
   "outputs": [
    {
     "data": {
      "text/plain": [
       "datetime.date(2022, 3, 25)"
      ]
     },
     "execution_count": 11,
     "metadata": {},
     "output_type": "execute_result"
    }
   ],
   "source": [
    "baskets[baskets['merchant_id'] == 664].date.max()"
   ]
  },
  {
   "cell_type": "code",
   "execution_count": 12,
   "id": "705a296b-84b0-4d17-8f0a-0f17c294ba12",
   "metadata": {},
   "outputs": [],
   "source": [
    "baskets = baskets.drop(baskets[baskets['merchant_id']== 664].index)"
   ]
  },
  {
   "cell_type": "markdown",
   "id": "feafd59e-421b-48f5-8fba-5997da8c68d0",
   "metadata": {},
   "source": [
    "Now re-run data without 664."
   ]
  },
  {
   "cell_type": "code",
   "execution_count": 13,
   "id": "91011774-8845-4f41-bf33-fe020ff0d485",
   "metadata": {},
   "outputs": [
    {
     "data": {
      "text/plain": [
       "merchant_id\n",
       "441     1.729729e+09\n",
       "366     1.724671e+09\n",
       "122     1.491349e+09\n",
       "430     1.441119e+09\n",
       "305     1.368091e+09\n",
       "            ...     \n",
       "1158    3.575000e+05\n",
       "1931    3.450000e+05\n",
       "2018    3.290000e+05\n",
       "411     3.190000e+05\n",
       "1157    2.459000e+05\n",
       "Name: spent, Length: 2127, dtype: float64"
      ]
     },
     "execution_count": 13,
     "metadata": {},
     "output_type": "execute_result"
    }
   ],
   "source": [
    "baskets.groupby('merchant_id').spent.sum().sort_values(ascending = False)"
   ]
  },
  {
   "cell_type": "code",
   "execution_count": 14,
   "id": "e04ff979-667b-4cc5-8970-96b724020180",
   "metadata": {},
   "outputs": [],
   "source": [
    "options = [441,366,122,430,305]"
   ]
  },
  {
   "cell_type": "code",
   "execution_count": 15,
   "id": "0121c613-dcb6-4d6f-be22-1eb6a0dc13b0",
   "metadata": {},
   "outputs": [
    {
     "data": {
      "image/png": "[encoded data removed]",
      "text/plain": [
       "<Figure size 432x288 with 1 Axes>"
      ]
     },
     "metadata": {
      "needs_background": "light"
     },
     "output_type": "display_data"
    }
   ],
   "source": [
    "for i in range(5):\n",
    "    baskets[baskets['merchant_id']==options[i]].groupby('month_order')['spent'].sum().plot().legend([441,366,122,430,305],fancybox = True)\n"
   ]
  },
  {
   "cell_type": "markdown",
   "id": "3fc3bdc2-f933-47fa-a3a6-1796477796fe",
   "metadata": {},
   "source": [
    "This looks a lot better. Notice how all of the merchant's lines seem to fall between December and February? Why is this? It then also dips dramatically during Ramadon, which makes more sense *look into this later."
   ]
  },
  {
   "cell_type": "markdown",
   "id": "5835b3ca-2a65-474a-b0a5-12c5a946a492",
   "metadata": {},
   "source": [
    "## Let's compare spending in the last 6 months. Will the same buyers be in the list?"
   ]
  },
  {
   "cell_type": "code",
   "execution_count": 16,
   "id": "aece69d3-b395-4d92-9b3d-c395c6a71dae",
   "metadata": {},
   "outputs": [],
   "source": [
    "sixbaskets = baskets[baskets['month_order'] > 24265]"
   ]
  },
  {
   "cell_type": "code",
   "execution_count": 17,
   "id": "083ddce8-2493-4fd9-9abf-27a1ed0d6349",
   "metadata": {},
   "outputs": [
    {
     "data": {
      "text/html": [
       "<div>\n",
       "<style scoped>\n",
       "    .dataframe tbody tr th:only-of-type {\n",
       "        vertical-align: middle;\n",
       "    }\n",
       "\n",
       "    .dataframe tbody tr th {\n",
       "        vertical-align: top;\n",
       "    }\n",
       "\n",
       "    .dataframe thead th {\n",
       "        text-align: right;\n",
       "    }\n",
       "</style>\n",
       "<table border=\"1\" class=\"dataframe\">\n",
       "  <thead>\n",
       "    <tr style=\"text-align: right;\">\n",
       "      <th></th>\n",
       "      <th>id</th>\n",
       "      <th>order_id</th>\n",
       "      <th>placed_at</th>\n",
       "      <th>merchant_id</th>\n",
       "      <th>sku_id</th>\n",
       "      <th>top_cat_id</th>\n",
       "      <th>sub_cat_id</th>\n",
       "      <th>qty</th>\n",
       "      <th>price</th>\n",
       "      <th>datetime</th>\n",
       "      <th>date</th>\n",
       "      <th>year</th>\n",
       "      <th>month</th>\n",
       "      <th>day</th>\n",
       "      <th>hour</th>\n",
       "      <th>weekday</th>\n",
       "      <th>spent</th>\n",
       "      <th>month_order</th>\n",
       "    </tr>\n",
       "  </thead>\n",
       "  <tbody>\n",
       "    <tr>\n",
       "      <th>191588</th>\n",
       "      <td>191782</td>\n",
       "      <td>33178</td>\n",
       "      <td>2022-02-01 04:59:15.772</td>\n",
       "      <td>1425</td>\n",
       "      <td>378</td>\n",
       "      <td>8.0</td>\n",
       "      <td>43.0</td>\n",
       "      <td>1</td>\n",
       "      <td>100500.0</td>\n",
       "      <td>2022-02-01 04:59:15.772</td>\n",
       "      <td>2022-02-01</td>\n",
       "      <td>2022</td>\n",
       "      <td>2</td>\n",
       "      <td>1</td>\n",
       "      <td>4</td>\n",
       "      <td>1</td>\n",
       "      <td>100500.0</td>\n",
       "      <td>24266</td>\n",
       "    </tr>\n",
       "    <tr>\n",
       "      <th>191589</th>\n",
       "      <td>191783</td>\n",
       "      <td>33178</td>\n",
       "      <td>2022-02-01 04:59:15.772</td>\n",
       "      <td>1425</td>\n",
       "      <td>380</td>\n",
       "      <td>8.0</td>\n",
       "      <td>43.0</td>\n",
       "      <td>1</td>\n",
       "      <td>100500.0</td>\n",
       "      <td>2022-02-01 04:59:15.772</td>\n",
       "      <td>2022-02-01</td>\n",
       "      <td>2022</td>\n",
       "      <td>2</td>\n",
       "      <td>1</td>\n",
       "      <td>4</td>\n",
       "      <td>1</td>\n",
       "      <td>100500.0</td>\n",
       "      <td>24266</td>\n",
       "    </tr>\n",
       "    <tr>\n",
       "      <th>191590</th>\n",
       "      <td>191784</td>\n",
       "      <td>33178</td>\n",
       "      <td>2022-02-01 04:59:15.772</td>\n",
       "      <td>1425</td>\n",
       "      <td>383</td>\n",
       "      <td>8.0</td>\n",
       "      <td>43.0</td>\n",
       "      <td>1</td>\n",
       "      <td>100500.0</td>\n",
       "      <td>2022-02-01 04:59:15.772</td>\n",
       "      <td>2022-02-01</td>\n",
       "      <td>2022</td>\n",
       "      <td>2</td>\n",
       "      <td>1</td>\n",
       "      <td>4</td>\n",
       "      <td>1</td>\n",
       "      <td>100500.0</td>\n",
       "      <td>24266</td>\n",
       "    </tr>\n",
       "    <tr>\n",
       "      <th>191591</th>\n",
       "      <td>191749</td>\n",
       "      <td>33923</td>\n",
       "      <td>2022-02-01 06:53:29.594</td>\n",
       "      <td>1702</td>\n",
       "      <td>511</td>\n",
       "      <td>3.0</td>\n",
       "      <td>91.0</td>\n",
       "      <td>1</td>\n",
       "      <td>104000.0</td>\n",
       "      <td>2022-02-01 06:53:29.594</td>\n",
       "      <td>2022-02-01</td>\n",
       "      <td>2022</td>\n",
       "      <td>2</td>\n",
       "      <td>1</td>\n",
       "      <td>6</td>\n",
       "      <td>1</td>\n",
       "      <td>104000.0</td>\n",
       "      <td>24266</td>\n",
       "    </tr>\n",
       "    <tr>\n",
       "      <th>191592</th>\n",
       "      <td>191750</td>\n",
       "      <td>33923</td>\n",
       "      <td>2022-02-01 06:53:29.594</td>\n",
       "      <td>1702</td>\n",
       "      <td>522</td>\n",
       "      <td>3.0</td>\n",
       "      <td>94.0</td>\n",
       "      <td>10</td>\n",
       "      <td>176000.0</td>\n",
       "      <td>2022-02-01 06:53:29.594</td>\n",
       "      <td>2022-02-01</td>\n",
       "      <td>2022</td>\n",
       "      <td>2</td>\n",
       "      <td>1</td>\n",
       "      <td>6</td>\n",
       "      <td>1</td>\n",
       "      <td>1760000.0</td>\n",
       "      <td>24266</td>\n",
       "    </tr>\n",
       "  </tbody>\n",
       "</table>\n",
       "</div>"
      ],
      "text/plain": [
       "            id  order_id                placed_at  merchant_id  sku_id  \\\n",
       "191588  191782     33178  2022-02-01 04:59:15.772         1425     378   \n",
       "191589  191783     33178  2022-02-01 04:59:15.772         1425     380   \n",
       "191590  191784     33178  2022-02-01 04:59:15.772         1425     383   \n",
       "191591  191749     33923  2022-02-01 06:53:29.594         1702     511   \n",
       "191592  191750     33923  2022-02-01 06:53:29.594         1702     522   \n",
       "\n",
       "        top_cat_id  sub_cat_id  qty     price                datetime  \\\n",
       "191588         8.0        43.0    1  100500.0 2022-02-01 04:59:15.772   \n",
       "191589         8.0        43.0    1  100500.0 2022-02-01 04:59:15.772   \n",
       "191590         8.0        43.0    1  100500.0 2022-02-01 04:59:15.772   \n",
       "191591         3.0        91.0    1  104000.0 2022-02-01 06:53:29.594   \n",
       "191592         3.0        94.0   10  176000.0 2022-02-01 06:53:29.594   \n",
       "\n",
       "              date  year  month  day  hour  weekday      spent  month_order  \n",
       "191588  2022-02-01  2022      2    1     4        1   100500.0        24266  \n",
       "191589  2022-02-01  2022      2    1     4        1   100500.0        24266  \n",
       "191590  2022-02-01  2022      2    1     4        1   100500.0        24266  \n",
       "191591  2022-02-01  2022      2    1     6        1   104000.0        24266  \n",
       "191592  2022-02-01  2022      2    1     6        1  1760000.0        24266  "
      ]
     },
     "execution_count": 17,
     "metadata": {},
     "output_type": "execute_result"
    }
   ],
   "source": [
    "sixbaskets.head()"
   ]
  },
  {
   "cell_type": "code",
   "execution_count": 18,
   "id": "aad3fa7a-886d-4f73-95d4-3063e39fefae",
   "metadata": {},
   "outputs": [
    {
     "data": {
      "text/plain": [
       "merchant_id\n",
       "497     959077900.0\n",
       "366     952641100.0\n",
       "441     941911050.0\n",
       "122     938894750.0\n",
       "2084    932772739.0\n",
       "           ...     \n",
       "484        137500.0\n",
       "195        123000.0\n",
       "643         99500.0\n",
       "706         62000.0\n",
       "1435        53500.0\n",
       "Name: spent, Length: 1728, dtype: float64"
      ]
     },
     "execution_count": 18,
     "metadata": {},
     "output_type": "execute_result"
    }
   ],
   "source": [
    "sixbaskets.groupby('merchant_id').spent.sum().sort_values(ascending = False)"
   ]
  },
  {
   "cell_type": "markdown",
   "id": "53c72b14-7792-4a45-8d1a-47b56ffe9671",
   "metadata": {},
   "source": [
    "Top spenders are merchant_id's 497,366,441,122,2048."
   ]
  },
  {
   "cell_type": "markdown",
   "id": "9ea2faf5-a7a1-4fa7-b9f1-756c528d549f",
   "metadata": {},
   "source": [
    "441,366,122,430,305 were the top spenders over the year, it seems that 497 and 2048 have spent a lot more in the second half, while 430 and 305 have not sustained their high spending as much in the second half. "
   ]
  },
  {
   "cell_type": "code",
   "execution_count": 19,
   "id": "e52af539-6653-4af1-bd26-35990e4a5f2c",
   "metadata": {},
   "outputs": [],
   "source": [
    "options = [497,366,441,122,2048]"
   ]
  },
  {
   "cell_type": "code",
   "execution_count": 20,
   "id": "77c6b6f5-c755-4d9e-b66b-7303ff3bbdd8",
   "metadata": {
    "tags": []
   },
   "outputs": [
    {
     "data": {
      "image/png": "[encoded data removed]",
      "text/plain": [
       "<Figure size 432x288 with 1 Axes>"
      ]
     },
     "metadata": {
      "needs_background": "light"
     },
     "output_type": "display_data"
    }
   ],
   "source": [
    "for i in range(5):\n",
    "    sixbaskets[sixbaskets['merchant_id']==options[i]].groupby('month_order')['spent'].sum().plot().legend([497,366,441,122,2048],fancybox = True)\n"
   ]
  },
  {
   "cell_type": "markdown",
   "id": "143f8581-7d65-410a-adf0-7a6fd6f5930d",
   "metadata": {},
   "source": [
    "Looks like all sales are declining in July of 2022 besides 441. Why is this? 441 seems to have a regular pattern of large orders every two months. They are consistent, which is valuable. There are not any outliers, so let's look at the sales from 430 and 305 in the second half to see if they are still top buyers. "
   ]
  },
  {
   "cell_type": "markdown",
   "id": "e4d4408f-3df2-4371-bb4f-eeba067a5e9f",
   "metadata": {},
   "source": [
    "Looking at this new graph, I see no outliers, everyone is still purchasing now semi-consitently.\n",
    "For the monetary score, I am going to use the data from the whole year. This is because changes in the last 6 months may be more relevant to the frequency score. \n",
    "Top 5 are: \n",
    "1. 441 (5)\n",
    "2. 366 (4)\n",
    "3. 122 (3)\n",
    "4. 430 (2)\n",
    "5. 305 (1)"
   ]
  },
  {
   "cell_type": "markdown",
   "id": "0ef29434-081b-47b9-b437-cfc6c1855f23",
   "metadata": {},
   "source": [
    "RFM- recency, frequency, monetary. \n",
    "Find matrix to rank buyers by all three. \n",
    "R+F+M = Score. \n",
    "Recency is not as relevant"
   ]
  },
  {
   "cell_type": "markdown",
   "id": "b5a865be-7ec2-446d-9956-0ee265bda5f3",
   "metadata": {},
   "source": [
    "## Next, I am going to work on frequency: The angle I will take to rank frequency is whoever has the highest number of orders."
   ]
  },
  {
   "cell_type": "markdown",
   "id": "230b0605-9f99-4f39-afd3-a1be2bffa26c",
   "metadata": {},
   "source": [
    "for each merchant, total their orders per month.\n"
   ]
  },
  {
   "cell_type": "code",
   "execution_count": 21,
   "id": "16924d8a-87a0-428a-bc40-1c7c5b1f2e9d",
   "metadata": {},
   "outputs": [
    {
     "data": {
      "text/plain": [
       "merchant_id\n",
       "414    497\n",
       "366    315\n",
       "470    284\n",
       "29     279\n",
       "308    246\n",
       "      ... \n",
       "47       1\n",
       "114      1\n",
       "42       1\n",
       "95       1\n",
       "37       1\n",
       "Name: order_id, Length: 2127, dtype: int64"
      ]
     },
     "execution_count": 21,
     "metadata": {},
     "output_type": "execute_result"
    }
   ],
   "source": [
    "baskets.groupby(['merchant_id']).order_id.nunique().sort_values(ascending = False)"
   ]
  },
  {
   "cell_type": "code",
   "execution_count": 22,
   "id": "c3838cb9-0936-4f17-be05-555016bd39e9",
   "metadata": {},
   "outputs": [
    {
     "data": {
      "text/plain": [
       "<AxesSubplot:xlabel='merchant_id'>"
      ]
     },
     "execution_count": 22,
     "metadata": {},
     "output_type": "execute_result"
    },
    {
     "data": {
      "image/png": "[encoded data removed]",
      "text/plain": [
       "<Figure size 432x288 with 1 Axes>"
      ]
     },
     "metadata": {
      "needs_background": "light"
     },
     "output_type": "display_data"
    }
   ],
   "source": [
    "baskets.groupby(['merchant_id']).order_id.nunique().plot()"
   ]
  },
  {
   "cell_type": "markdown",
   "id": "4431b328-4ddc-4d8a-97f2-4d0f4811f89f",
   "metadata": {},
   "source": [
    "Plot to show how many purchases each merchant has made over the year. Notice how much 414 stands out. They are far and away the most frequent purchaser. "
   ]
  },
  {
   "cell_type": "markdown",
   "id": "21f984e7-52d0-4765-a9a9-39ce12c41ae3",
   "metadata": {},
   "source": [
    "Top orderers are \n",
    "1. 414 (5)\n",
    "2. 366 (4)\n",
    "3. 470 (3)\n",
    "4. 29  (2) \n",
    "5. 308 (1)"
   ]
  },
  {
   "cell_type": "markdown",
   "id": "fd16dd30-9fd1-4ba5-9841-9ce21922a5e7",
   "metadata": {},
   "source": [
    "Let's look at their order habits over time."
   ]
  },
  {
   "cell_type": "code",
   "execution_count": 23,
   "id": "b79d97f3-b43c-491d-8bff-f145c5170e57",
   "metadata": {},
   "outputs": [],
   "source": [
    "options = [414,366,470,29,308]"
   ]
  },
  {
   "cell_type": "code",
   "execution_count": 24,
   "id": "6a707398-03d3-44f8-859d-3eb0bfd44275",
   "metadata": {},
   "outputs": [
    {
     "data": {
      "image/png": "[encoded data removed]",
      "text/plain": [
       "<Figure size 432x288 with 1 Axes>"
      ]
     },
     "metadata": {
      "needs_background": "light"
     },
     "output_type": "display_data"
    }
   ],
   "source": [
    "for i in range(5):\n",
    "    baskets[baskets['merchant_id']==options[i]].groupby('month_order')['order_id'].nunique().plot().legend([414,366,470,29,308],fancybox = True)\n"
   ]
  },
  {
   "cell_type": "markdown",
   "id": "b8ffad67-60bd-4f27-932e-0fb811ea78ba",
   "metadata": {},
   "source": [
    "It looks like all merchants have consistently made orders over the year, following a generally consistent pattern. I notice that the orders drop a bit at the end- is this because of a holiday? or covid rising again over the summer?"
   ]
  },
  {
   "cell_type": "markdown",
   "id": "44e4510f-236d-4c16-82dd-c959e358d7c7",
   "metadata": {},
   "source": [
    "Lets plot what their spending habits are."
   ]
  },
  {
   "cell_type": "code",
   "execution_count": 25,
   "id": "5e7a34eb-c6db-4745-8c52-7067f904fbbf",
   "metadata": {},
   "outputs": [
    {
     "data": {
      "image/png": "[encoded data removed]",
      "text/plain": [
       "<Figure size 432x288 with 1 Axes>"
      ]
     },
     "metadata": {
      "needs_background": "light"
     },
     "output_type": "display_data"
    }
   ],
   "source": [
    "for i in range(5):\n",
    "    baskets[baskets['merchant_id']==options[i]].groupby('month_order')['spent'].sum().plot().legend([414,366,470,29,308],fancybox = True)\n"
   ]
  },
  {
   "cell_type": "markdown",
   "id": "a4ce9927-6f36-4045-b2e9-10ca6f11d571",
   "metadata": {},
   "source": [
    "366 is spending quit a bit over the year. This makes sense because they were also on the list for top spenders."
   ]
  },
  {
   "cell_type": "markdown",
   "id": "665ccecf-64fa-4351-b213-cae29045af15",
   "metadata": {},
   "source": [
    "I wonder how many items they are buying? Are their orders large or small?"
   ]
  },
  {
   "cell_type": "code",
   "execution_count": 26,
   "id": "631bf926-8305-4525-821d-e9a6fe4597c2",
   "metadata": {},
   "outputs": [
    {
     "data": {
      "image/png": "[encoded data removed]",
      "text/plain": [
       "<Figure size 432x288 with 1 Axes>"
      ]
     },
     "metadata": {
      "needs_background": "light"
     },
     "output_type": "display_data"
    }
   ],
   "source": [
    "for i in range(5):\n",
    "    baskets[baskets['merchant_id']==options[i]].groupby('month_order')['qty'].sum().plot(ylim = (0, 8000)).legend([414,366,470,29,308],fancybox = True)\n"
   ]
  },
  {
   "cell_type": "markdown",
   "id": "bca4e9c9-eeb6-4746-a050-07ac8506a783",
   "metadata": {},
   "source": [
    "All of the merchants spiked in their items purchased in March through april. Their spending also spiked during this time. I predicted that this would not happen because of the Ramadon holiday. Maybe they are buying more because people want to not go far from home to shop so corner stores have large stock?"
   ]
  },
  {
   "cell_type": "markdown",
   "id": "0d4023d0-ec1c-4c3a-9a36-ca76cb7076f3",
   "metadata": {},
   "source": [
    "### I've been noticing that a lot of the significant statistics are with merchants with low merchant id's compared to the median. Could this be becuase they assign merchant id's in the order in which they start buying? This would make sense because higher merchant id's wouldnt have the same amount of time to biuld up profiles that would spend a lot of money. In another year, some of the bigger merchants may be in the 1-2 thousands. Let's test just the last month for frequency and overall spending to see if there are higher merchant id's in the running, which would support my hypothesis. "
   ]
  },
  {
   "cell_type": "code",
   "execution_count": 27,
   "id": "55860c35-3e19-4878-ab35-aaa296695e7b",
   "metadata": {},
   "outputs": [],
   "source": [
    "onemonth = baskets[baskets['month_order'] > 24270]"
   ]
  },
  {
   "cell_type": "code",
   "execution_count": 28,
   "id": "7a88493c-017a-4959-87ba-f4a33c570a8e",
   "metadata": {},
   "outputs": [
    {
     "data": {
      "text/plain": [
       "merchant_id\n",
       "441     230345000.0\n",
       "122     222857750.0\n",
       "2095    185714500.0\n",
       "430     179879750.0\n",
       "1770    148284950.0\n",
       "           ...     \n",
       "1550       223000.0\n",
       "1743       160000.0\n",
       "485        128000.0\n",
       "534        115000.0\n",
       "1765       107000.0\n",
       "Name: spent, Length: 389, dtype: float64"
      ]
     },
     "execution_count": 28,
     "metadata": {},
     "output_type": "execute_result"
    }
   ],
   "source": [
    "onemonth.groupby('merchant_id').spent.sum().sort_values(ascending = False)"
   ]
  },
  {
   "cell_type": "code",
   "execution_count": 29,
   "id": "bb47db43-5132-4087-bf01-86160fa21343",
   "metadata": {},
   "outputs": [
    {
     "data": {
      "text/plain": [
       "merchant_id\n",
       "2095    75\n",
       "2088    63\n",
       "1924    59\n",
       "414     59\n",
       "249     53\n",
       "        ..\n",
       "1125     1\n",
       "1209     1\n",
       "1265     1\n",
       "1291     1\n",
       "630      1\n",
       "Name: order_id, Length: 389, dtype: int64"
      ]
     },
     "execution_count": 29,
     "metadata": {},
     "output_type": "execute_result"
    }
   ],
   "source": [
    "onemonth.groupby(['merchant_id']).order_id.nunique().sort_values(ascending = False)"
   ]
  },
  {
   "cell_type": "markdown",
   "id": "3c8f7d1b-3808-414c-9582-6453e7d79c5d",
   "metadata": {},
   "source": [
    "As I predicted, there has been a sharp rise of higher merchant id order numbers in the last month. Many merchants with ids in the thousands have broken into the top 5 both for spending and for frequency. This doesn't affect our overall findings, but note this caveat in the poster. Our top spenders now will probably not continue forever with the new merchants spending a lot. "
   ]
  },
  {
   "cell_type": "markdown",
   "id": "902e976a-3a41-4d14-a775-5bac052cf065",
   "metadata": {},
   "source": [
    "Now, returning to the RFM ranking, my results are:\n",
    "1. 366 (8)\n",
    "2. 414 (5)\n",
    "3. 441 (5)\n",
    "4. 470 (3)\n",
    "5. 122 (3)"
   ]
  },
  {
   "cell_type": "markdown",
   "id": "9d686bfe-fb0c-4f49-84bb-1ce256f51bff",
   "metadata": {},
   "source": [
    "I gave prefferentail treatment to top spenders rather than frequent purchasers, since to a for-profit business, money spent is the ultimate measure."
   ]
  },
  {
   "cell_type": "markdown",
   "id": "30295d98-0702-46ff-9844-0e11c3e49013",
   "metadata": {},
   "source": [
    "### According to my findings, I recommend that the company does not place too much stock in past top buyers. Evaluating on a month-by-month basis may be more useful since new merchants are joining often. Let's try to refine a definition for a \"top buyer\""
   ]
  },
  {
   "cell_type": "markdown",
   "id": "53b4bd69-4daf-44a3-b997-8ea92c01ea69",
   "metadata": {},
   "source": [
    "I think a better way to estimate the value of a customer to the company would be some statistics for a specific merchant over thier time as a customer. I am going to make a merchant table to try to do this. "
   ]
  },
  {
   "cell_type": "code",
   "execution_count": 30,
   "id": "a37f927b-2eb6-4456-95eb-02304abd3c1b",
   "metadata": {},
   "outputs": [],
   "source": [
    "merchants = baskets.groupby(['merchant_id']).agg({'spent': 'sum', 'order_id': 'nunique', 'date': 'nunique', 'sku_id':'nunique', 'top_cat_id':'nunique', 'sub_cat_id':'nunique'}).reset_index()"
   ]
  },
  {
   "cell_type": "code",
   "execution_count": 31,
   "id": "684d8d24-3aa7-45ec-8689-f146e731dab4",
   "metadata": {},
   "outputs": [
    {
     "data": {
      "text/html": [
       "<div>\n",
       "<style scoped>\n",
       "    .dataframe tbody tr th:only-of-type {\n",
       "        vertical-align: middle;\n",
       "    }\n",
       "\n",
       "    .dataframe tbody tr th {\n",
       "        vertical-align: top;\n",
       "    }\n",
       "\n",
       "    .dataframe thead th {\n",
       "        text-align: right;\n",
       "    }\n",
       "</style>\n",
       "<table border=\"1\" class=\"dataframe\">\n",
       "  <thead>\n",
       "    <tr style=\"text-align: right;\">\n",
       "      <th></th>\n",
       "      <th>merchant_id</th>\n",
       "      <th>spent</th>\n",
       "      <th>order_id</th>\n",
       "      <th>date</th>\n",
       "      <th>sku_id</th>\n",
       "      <th>top_cat_id</th>\n",
       "      <th>sub_cat_id</th>\n",
       "    </tr>\n",
       "  </thead>\n",
       "  <tbody>\n",
       "    <tr>\n",
       "      <th>148</th>\n",
       "      <td>157</td>\n",
       "      <td>29297200.0</td>\n",
       "      <td>23</td>\n",
       "      <td>16</td>\n",
       "      <td>33</td>\n",
       "      <td>11</td>\n",
       "      <td>20</td>\n",
       "    </tr>\n",
       "    <tr>\n",
       "      <th>132</th>\n",
       "      <td>141</td>\n",
       "      <td>521530250.0</td>\n",
       "      <td>33</td>\n",
       "      <td>32</td>\n",
       "      <td>269</td>\n",
       "      <td>24</td>\n",
       "      <td>56</td>\n",
       "    </tr>\n",
       "    <tr>\n",
       "      <th>1434</th>\n",
       "      <td>1446</td>\n",
       "      <td>1276000.0</td>\n",
       "      <td>2</td>\n",
       "      <td>2</td>\n",
       "      <td>4</td>\n",
       "      <td>3</td>\n",
       "      <td>4</td>\n",
       "    </tr>\n",
       "    <tr>\n",
       "      <th>2021</th>\n",
       "      <td>2033</td>\n",
       "      <td>22021428.0</td>\n",
       "      <td>2</td>\n",
       "      <td>2</td>\n",
       "      <td>23</td>\n",
       "      <td>6</td>\n",
       "      <td>12</td>\n",
       "    </tr>\n",
       "    <tr>\n",
       "      <th>313</th>\n",
       "      <td>323</td>\n",
       "      <td>10478000.0</td>\n",
       "      <td>11</td>\n",
       "      <td>10</td>\n",
       "      <td>20</td>\n",
       "      <td>6</td>\n",
       "      <td>10</td>\n",
       "    </tr>\n",
       "    <tr>\n",
       "      <th>1000</th>\n",
       "      <td>1012</td>\n",
       "      <td>65939500.0</td>\n",
       "      <td>19</td>\n",
       "      <td>15</td>\n",
       "      <td>63</td>\n",
       "      <td>15</td>\n",
       "      <td>31</td>\n",
       "    </tr>\n",
       "    <tr>\n",
       "      <th>130</th>\n",
       "      <td>139</td>\n",
       "      <td>69187950.0</td>\n",
       "      <td>18</td>\n",
       "      <td>15</td>\n",
       "      <td>94</td>\n",
       "      <td>10</td>\n",
       "      <td>22</td>\n",
       "    </tr>\n",
       "    <tr>\n",
       "      <th>367</th>\n",
       "      <td>377</td>\n",
       "      <td>7623500.0</td>\n",
       "      <td>2</td>\n",
       "      <td>2</td>\n",
       "      <td>4</td>\n",
       "      <td>3</td>\n",
       "      <td>3</td>\n",
       "    </tr>\n",
       "    <tr>\n",
       "      <th>950</th>\n",
       "      <td>962</td>\n",
       "      <td>58821200.0</td>\n",
       "      <td>19</td>\n",
       "      <td>19</td>\n",
       "      <td>153</td>\n",
       "      <td>18</td>\n",
       "      <td>47</td>\n",
       "    </tr>\n",
       "    <tr>\n",
       "      <th>2034</th>\n",
       "      <td>2046</td>\n",
       "      <td>19885660.0</td>\n",
       "      <td>2</td>\n",
       "      <td>2</td>\n",
       "      <td>35</td>\n",
       "      <td>8</td>\n",
       "      <td>13</td>\n",
       "    </tr>\n",
       "  </tbody>\n",
       "</table>\n",
       "</div>"
      ],
      "text/plain": [
       "      merchant_id        spent  order_id  date  sku_id  top_cat_id  sub_cat_id\n",
       "148           157   29297200.0        23    16      33          11          20\n",
       "132           141  521530250.0        33    32     269          24          56\n",
       "1434         1446    1276000.0         2     2       4           3           4\n",
       "2021         2033   22021428.0         2     2      23           6          12\n",
       "313           323   10478000.0        11    10      20           6          10\n",
       "1000         1012   65939500.0        19    15      63          15          31\n",
       "130           139   69187950.0        18    15      94          10          22\n",
       "367           377    7623500.0         2     2       4           3           3\n",
       "950           962   58821200.0        19    19     153          18          47\n",
       "2034         2046   19885660.0         2     2      35           8          13"
      ]
     },
     "execution_count": 31,
     "metadata": {},
     "output_type": "execute_result"
    }
   ],
   "source": [
    "merchants.sample(10)"
   ]
  },
  {
   "cell_type": "markdown",
   "id": "c8b5d85d-4ad0-4625-ad1c-5e212b87f937",
   "metadata": {},
   "source": [
    "How can we use this to find the top merchants over time? I want to find their total spending and divide it over the time they've been a customer. lets make a new dataframe to better prepare for this."
   ]
  },
  {
   "cell_type": "code",
   "execution_count": 32,
   "id": "6b635061-0a1a-4121-928b-6d1dd07258eb",
   "metadata": {},
   "outputs": [],
   "source": [
    "dfmerch = baskets.groupby(['merchant_id']).agg({'spent': 'sum', 'month_order': 'min', 'order_id':'nunique'})"
   ]
  },
  {
   "cell_type": "code",
   "execution_count": 33,
   "id": "60eb4490-a913-44bd-9a8b-57b24df0de47",
   "metadata": {},
   "outputs": [
    {
     "data": {
      "text/html": [
       "<div>\n",
       "<style scoped>\n",
       "    .dataframe tbody tr th:only-of-type {\n",
       "        vertical-align: middle;\n",
       "    }\n",
       "\n",
       "    .dataframe tbody tr th {\n",
       "        vertical-align: top;\n",
       "    }\n",
       "\n",
       "    .dataframe thead th {\n",
       "        text-align: right;\n",
       "    }\n",
       "</style>\n",
       "<table border=\"1\" class=\"dataframe\">\n",
       "  <thead>\n",
       "    <tr style=\"text-align: right;\">\n",
       "      <th></th>\n",
       "      <th>spent</th>\n",
       "      <th>month_order</th>\n",
       "      <th>order_id</th>\n",
       "    </tr>\n",
       "    <tr>\n",
       "      <th>merchant_id</th>\n",
       "      <th></th>\n",
       "      <th></th>\n",
       "      <th></th>\n",
       "    </tr>\n",
       "  </thead>\n",
       "  <tbody>\n",
       "    <tr>\n",
       "      <th>353</th>\n",
       "      <td>153985750.0</td>\n",
       "      <td>24260</td>\n",
       "      <td>137</td>\n",
       "    </tr>\n",
       "    <tr>\n",
       "      <th>893</th>\n",
       "      <td>34767500.0</td>\n",
       "      <td>24262</td>\n",
       "      <td>23</td>\n",
       "    </tr>\n",
       "    <tr>\n",
       "      <th>261</th>\n",
       "      <td>17508500.0</td>\n",
       "      <td>24265</td>\n",
       "      <td>4</td>\n",
       "    </tr>\n",
       "    <tr>\n",
       "      <th>926</th>\n",
       "      <td>10182500.0</td>\n",
       "      <td>24262</td>\n",
       "      <td>9</td>\n",
       "    </tr>\n",
       "    <tr>\n",
       "      <th>478</th>\n",
       "      <td>85077465.0</td>\n",
       "      <td>24260</td>\n",
       "      <td>148</td>\n",
       "    </tr>\n",
       "    <tr>\n",
       "      <th>1698</th>\n",
       "      <td>5374250.0</td>\n",
       "      <td>24266</td>\n",
       "      <td>9</td>\n",
       "    </tr>\n",
       "    <tr>\n",
       "      <th>320</th>\n",
       "      <td>5480300.0</td>\n",
       "      <td>24260</td>\n",
       "      <td>11</td>\n",
       "    </tr>\n",
       "    <tr>\n",
       "      <th>550</th>\n",
       "      <td>55433750.0</td>\n",
       "      <td>24260</td>\n",
       "      <td>11</td>\n",
       "    </tr>\n",
       "    <tr>\n",
       "      <th>1171</th>\n",
       "      <td>30398500.0</td>\n",
       "      <td>24262</td>\n",
       "      <td>26</td>\n",
       "    </tr>\n",
       "    <tr>\n",
       "      <th>1199</th>\n",
       "      <td>31770000.0</td>\n",
       "      <td>24262</td>\n",
       "      <td>8</td>\n",
       "    </tr>\n",
       "  </tbody>\n",
       "</table>\n",
       "</div>"
      ],
      "text/plain": [
       "                   spent  month_order  order_id\n",
       "merchant_id                                    \n",
       "353          153985750.0        24260       137\n",
       "893           34767500.0        24262        23\n",
       "261           17508500.0        24265         4\n",
       "926           10182500.0        24262         9\n",
       "478           85077465.0        24260       148\n",
       "1698           5374250.0        24266         9\n",
       "320            5480300.0        24260        11\n",
       "550           55433750.0        24260        11\n",
       "1171          30398500.0        24262        26\n",
       "1199          31770000.0        24262         8"
      ]
     },
     "execution_count": 33,
     "metadata": {},
     "output_type": "execute_result"
    }
   ],
   "source": [
    "dfmerch.sample(10)"
   ]
  },
  {
   "cell_type": "markdown",
   "id": "79a18c29-c1ed-414f-8eb1-611fd89bdc1a",
   "metadata": {},
   "source": [
    "Now lets use this to make a row that shows the months that they've been a customer."
   ]
  },
  {
   "cell_type": "code",
   "execution_count": 34,
   "id": "ce0b85f4-2f38-4f03-a194-683d5805267f",
   "metadata": {},
   "outputs": [],
   "source": [
    "dfmerch['loyalty'] = 24273 - dfmerch['month_order']"
   ]
  },
  {
   "cell_type": "code",
   "execution_count": 35,
   "id": "e0f4cdb2-46d1-4c4e-945d-77a050b9ecaa",
   "metadata": {},
   "outputs": [
    {
     "data": {
      "text/html": [
       "<div>\n",
       "<style scoped>\n",
       "    .dataframe tbody tr th:only-of-type {\n",
       "        vertical-align: middle;\n",
       "    }\n",
       "\n",
       "    .dataframe tbody tr th {\n",
       "        vertical-align: top;\n",
       "    }\n",
       "\n",
       "    .dataframe thead th {\n",
       "        text-align: right;\n",
       "    }\n",
       "</style>\n",
       "<table border=\"1\" class=\"dataframe\">\n",
       "  <thead>\n",
       "    <tr style=\"text-align: right;\">\n",
       "      <th></th>\n",
       "      <th>spent</th>\n",
       "      <th>month_order</th>\n",
       "      <th>order_id</th>\n",
       "      <th>loyalty</th>\n",
       "    </tr>\n",
       "    <tr>\n",
       "      <th>merchant_id</th>\n",
       "      <th></th>\n",
       "      <th></th>\n",
       "      <th></th>\n",
       "      <th></th>\n",
       "    </tr>\n",
       "  </thead>\n",
       "  <tbody>\n",
       "    <tr>\n",
       "      <th>1684</th>\n",
       "      <td>7806000.0</td>\n",
       "      <td>24265</td>\n",
       "      <td>9</td>\n",
       "      <td>8</td>\n",
       "    </tr>\n",
       "    <tr>\n",
       "      <th>358</th>\n",
       "      <td>112566049.0</td>\n",
       "      <td>24261</td>\n",
       "      <td>108</td>\n",
       "      <td>12</td>\n",
       "    </tr>\n",
       "    <tr>\n",
       "      <th>1703</th>\n",
       "      <td>2377500.0</td>\n",
       "      <td>24265</td>\n",
       "      <td>7</td>\n",
       "      <td>8</td>\n",
       "    </tr>\n",
       "    <tr>\n",
       "      <th>1009</th>\n",
       "      <td>21323750.0</td>\n",
       "      <td>24262</td>\n",
       "      <td>18</td>\n",
       "      <td>11</td>\n",
       "    </tr>\n",
       "    <tr>\n",
       "      <th>310</th>\n",
       "      <td>107901800.0</td>\n",
       "      <td>24260</td>\n",
       "      <td>25</td>\n",
       "      <td>13</td>\n",
       "    </tr>\n",
       "    <tr>\n",
       "      <th>1348</th>\n",
       "      <td>105573342.0</td>\n",
       "      <td>24263</td>\n",
       "      <td>43</td>\n",
       "      <td>10</td>\n",
       "    </tr>\n",
       "    <tr>\n",
       "      <th>863</th>\n",
       "      <td>77739900.0</td>\n",
       "      <td>24262</td>\n",
       "      <td>68</td>\n",
       "      <td>11</td>\n",
       "    </tr>\n",
       "    <tr>\n",
       "      <th>28</th>\n",
       "      <td>38629000.0</td>\n",
       "      <td>24262</td>\n",
       "      <td>6</td>\n",
       "      <td>11</td>\n",
       "    </tr>\n",
       "    <tr>\n",
       "      <th>890</th>\n",
       "      <td>69107500.0</td>\n",
       "      <td>24262</td>\n",
       "      <td>5</td>\n",
       "      <td>11</td>\n",
       "    </tr>\n",
       "    <tr>\n",
       "      <th>357</th>\n",
       "      <td>110880000.0</td>\n",
       "      <td>24265</td>\n",
       "      <td>21</td>\n",
       "      <td>8</td>\n",
       "    </tr>\n",
       "  </tbody>\n",
       "</table>\n",
       "</div>"
      ],
      "text/plain": [
       "                   spent  month_order  order_id  loyalty\n",
       "merchant_id                                             \n",
       "1684           7806000.0        24265         9        8\n",
       "358          112566049.0        24261       108       12\n",
       "1703           2377500.0        24265         7        8\n",
       "1009          21323750.0        24262        18       11\n",
       "310          107901800.0        24260        25       13\n",
       "1348         105573342.0        24263        43       10\n",
       "863           77739900.0        24262        68       11\n",
       "28            38629000.0        24262         6       11\n",
       "890           69107500.0        24262         5       11\n",
       "357          110880000.0        24265        21        8"
      ]
     },
     "execution_count": 35,
     "metadata": {},
     "output_type": "execute_result"
    }
   ],
   "source": [
    "dfmerch.sample(10)"
   ]
  },
  {
   "cell_type": "markdown",
   "id": "47dfc0d7-32b4-41f0-90bd-edef1d6933bc",
   "metadata": {},
   "source": [
    "Now we can use this data to rank merchants in terms of money spent over the months they've been a customer."
   ]
  },
  {
   "cell_type": "code",
   "execution_count": 36,
   "id": "7d884769-c065-4be8-8ca0-4d7032f95a85",
   "metadata": {},
   "outputs": [],
   "source": [
    "dfmerch['avgspent'] = dfmerch['spent'] / dfmerch['loyalty']"
   ]
  },
  {
   "cell_type": "code",
   "execution_count": 37,
   "id": "e5a60679-9e7f-4032-893f-232e874ea45b",
   "metadata": {},
   "outputs": [
    {
     "data": {
      "text/html": [
       "<div>\n",
       "<style scoped>\n",
       "    .dataframe tbody tr th:only-of-type {\n",
       "        vertical-align: middle;\n",
       "    }\n",
       "\n",
       "    .dataframe tbody tr th {\n",
       "        vertical-align: top;\n",
       "    }\n",
       "\n",
       "    .dataframe thead th {\n",
       "        text-align: right;\n",
       "    }\n",
       "</style>\n",
       "<table border=\"1\" class=\"dataframe\">\n",
       "  <thead>\n",
       "    <tr style=\"text-align: right;\">\n",
       "      <th></th>\n",
       "      <th>spent</th>\n",
       "      <th>month_order</th>\n",
       "      <th>order_id</th>\n",
       "      <th>loyalty</th>\n",
       "      <th>avgspent</th>\n",
       "    </tr>\n",
       "    <tr>\n",
       "      <th>merchant_id</th>\n",
       "      <th></th>\n",
       "      <th></th>\n",
       "      <th></th>\n",
       "      <th></th>\n",
       "      <th></th>\n",
       "    </tr>\n",
       "  </thead>\n",
       "  <tbody>\n",
       "    <tr>\n",
       "      <th>1342</th>\n",
       "      <td>4876500.0</td>\n",
       "      <td>24265</td>\n",
       "      <td>2</td>\n",
       "      <td>8</td>\n",
       "      <td>6.095625e+05</td>\n",
       "    </tr>\n",
       "    <tr>\n",
       "      <th>1794</th>\n",
       "      <td>35461816.0</td>\n",
       "      <td>24266</td>\n",
       "      <td>5</td>\n",
       "      <td>7</td>\n",
       "      <td>5.065974e+06</td>\n",
       "    </tr>\n",
       "    <tr>\n",
       "      <th>528</th>\n",
       "      <td>179649500.0</td>\n",
       "      <td>24260</td>\n",
       "      <td>38</td>\n",
       "      <td>13</td>\n",
       "      <td>1.381919e+07</td>\n",
       "    </tr>\n",
       "    <tr>\n",
       "      <th>719</th>\n",
       "      <td>257089500.0</td>\n",
       "      <td>24261</td>\n",
       "      <td>63</td>\n",
       "      <td>12</td>\n",
       "      <td>2.142412e+07</td>\n",
       "    </tr>\n",
       "    <tr>\n",
       "      <th>1076</th>\n",
       "      <td>36045000.0</td>\n",
       "      <td>24262</td>\n",
       "      <td>16</td>\n",
       "      <td>11</td>\n",
       "      <td>3.276818e+06</td>\n",
       "    </tr>\n",
       "    <tr>\n",
       "      <th>1506</th>\n",
       "      <td>28014750.0</td>\n",
       "      <td>24264</td>\n",
       "      <td>21</td>\n",
       "      <td>9</td>\n",
       "      <td>3.112750e+06</td>\n",
       "    </tr>\n",
       "    <tr>\n",
       "      <th>1100</th>\n",
       "      <td>120839250.0</td>\n",
       "      <td>24262</td>\n",
       "      <td>123</td>\n",
       "      <td>11</td>\n",
       "      <td>1.098539e+07</td>\n",
       "    </tr>\n",
       "    <tr>\n",
       "      <th>1704</th>\n",
       "      <td>11800000.0</td>\n",
       "      <td>24265</td>\n",
       "      <td>9</td>\n",
       "      <td>8</td>\n",
       "      <td>1.475000e+06</td>\n",
       "    </tr>\n",
       "    <tr>\n",
       "      <th>1446</th>\n",
       "      <td>1276000.0</td>\n",
       "      <td>24263</td>\n",
       "      <td>2</td>\n",
       "      <td>10</td>\n",
       "      <td>1.276000e+05</td>\n",
       "    </tr>\n",
       "    <tr>\n",
       "      <th>1657</th>\n",
       "      <td>18388450.0</td>\n",
       "      <td>24265</td>\n",
       "      <td>18</td>\n",
       "      <td>8</td>\n",
       "      <td>2.298556e+06</td>\n",
       "    </tr>\n",
       "  </tbody>\n",
       "</table>\n",
       "</div>"
      ],
      "text/plain": [
       "                   spent  month_order  order_id  loyalty      avgspent\n",
       "merchant_id                                                           \n",
       "1342           4876500.0        24265         2        8  6.095625e+05\n",
       "1794          35461816.0        24266         5        7  5.065974e+06\n",
       "528          179649500.0        24260        38       13  1.381919e+07\n",
       "719          257089500.0        24261        63       12  2.142412e+07\n",
       "1076          36045000.0        24262        16       11  3.276818e+06\n",
       "1506          28014750.0        24264        21        9  3.112750e+06\n",
       "1100         120839250.0        24262       123       11  1.098539e+07\n",
       "1704          11800000.0        24265         9        8  1.475000e+06\n",
       "1446           1276000.0        24263         2       10  1.276000e+05\n",
       "1657          18388450.0        24265        18        8  2.298556e+06"
      ]
     },
     "execution_count": 37,
     "metadata": {},
     "output_type": "execute_result"
    }
   ],
   "source": [
    "dfmerch.sample(10)"
   ]
  },
  {
   "cell_type": "code",
   "execution_count": 38,
   "id": "6625adf7-9ea9-4a30-bf06-a60c4e01e819",
   "metadata": {},
   "outputs": [
    {
     "data": {
      "text/plain": [
       "merchant_id\n",
       "2084    1.865545e+08\n",
       "12      1.624243e+08\n",
       "366     1.437226e+08\n",
       "441     1.330561e+08\n",
       "430     1.310108e+08\n",
       "            ...     \n",
       "446     3.676923e+04\n",
       "46      3.636364e+04\n",
       "1022    3.613636e+04\n",
       "1158    3.250000e+04\n",
       "1157    2.235455e+04\n",
       "Name: avgspent, Length: 2127, dtype: float64"
      ]
     },
     "execution_count": 38,
     "metadata": {},
     "output_type": "execute_result"
    }
   ],
   "source": [
    "dfmerch['avgspent'].sort_values(ascending = False)"
   ]
  },
  {
   "cell_type": "markdown",
   "id": "26e772c7-fa85-4251-adb9-f004525e4812",
   "metadata": {},
   "source": [
    "Now we can see that if we are not including how long a merchant has been a customer that we have a new top 5 spenders. "
   ]
  },
  {
   "cell_type": "markdown",
   "id": "4f3676d8-ded1-4fcf-8c0e-8d6fe0393f5b",
   "metadata": {},
   "source": [
    "They are:\n",
    "1. 2084\n",
    "2. 12\n",
    "3. 366\n",
    "4. 441\n",
    "5. 430"
   ]
  },
  {
   "cell_type": "markdown",
   "id": "ed023921-575e-4b63-8dfb-6697d4f7b587",
   "metadata": {},
   "source": [
    "Looking more into merchant_id 2084, they have only ever made 3 orders, all being in April of 2022. They have spent a lot, but are an outlier and have not made any orders recently, so I am removing that merchant."
   ]
  },
  {
   "cell_type": "code",
   "execution_count": 59,
   "id": "e1dc629f-1738-49ef-8cd5-2e667771c607",
   "metadata": {},
   "outputs": [
    {
     "data": {
      "text/html": [
       "<div>\n",
       "<style scoped>\n",
       "    .dataframe tbody tr th:only-of-type {\n",
       "        vertical-align: middle;\n",
       "    }\n",
       "\n",
       "    .dataframe tbody tr th {\n",
       "        vertical-align: top;\n",
       "    }\n",
       "\n",
       "    .dataframe thead th {\n",
       "        text-align: right;\n",
       "    }\n",
       "</style>\n",
       "<table border=\"1\" class=\"dataframe\">\n",
       "  <thead>\n",
       "    <tr style=\"text-align: right;\">\n",
       "      <th></th>\n",
       "      <th>id</th>\n",
       "      <th>order_id</th>\n",
       "      <th>placed_at</th>\n",
       "      <th>merchant_id</th>\n",
       "      <th>sku_id</th>\n",
       "      <th>top_cat_id</th>\n",
       "      <th>sub_cat_id</th>\n",
       "      <th>qty</th>\n",
       "      <th>price</th>\n",
       "      <th>datetime</th>\n",
       "      <th>date</th>\n",
       "      <th>year</th>\n",
       "      <th>month</th>\n",
       "      <th>day</th>\n",
       "      <th>hour</th>\n",
       "      <th>weekday</th>\n",
       "      <th>spent</th>\n",
       "      <th>month_order</th>\n",
       "    </tr>\n",
       "  </thead>\n",
       "  <tbody>\n",
       "    <tr>\n",
       "      <th>278976</th>\n",
       "      <td>279102</td>\n",
       "      <td>51311</td>\n",
       "      <td>2022-04-26 19:36:41.350</td>\n",
       "      <td>2084</td>\n",
       "      <td>1169</td>\n",
       "      <td>11.0</td>\n",
       "      <td>4.0</td>\n",
       "      <td>519</td>\n",
       "      <td>14000.0</td>\n",
       "      <td>2022-04-26 19:36:41.350</td>\n",
       "      <td>2022-04-26</td>\n",
       "      <td>2022</td>\n",
       "      <td>4</td>\n",
       "      <td>26</td>\n",
       "      <td>19</td>\n",
       "      <td>1</td>\n",
       "      <td>7266000.0</td>\n",
       "      <td>24268</td>\n",
       "    </tr>\n",
       "    <tr>\n",
       "      <th>278977</th>\n",
       "      <td>279103</td>\n",
       "      <td>51311</td>\n",
       "      <td>2022-04-26 19:36:41.350</td>\n",
       "      <td>2084</td>\n",
       "      <td>548</td>\n",
       "      <td>11.0</td>\n",
       "      <td>86.0</td>\n",
       "      <td>2</td>\n",
       "      <td>95000.0</td>\n",
       "      <td>2022-04-26 19:36:41.350</td>\n",
       "      <td>2022-04-26</td>\n",
       "      <td>2022</td>\n",
       "      <td>4</td>\n",
       "      <td>26</td>\n",
       "      <td>19</td>\n",
       "      <td>1</td>\n",
       "      <td>190000.0</td>\n",
       "      <td>24268</td>\n",
       "    </tr>\n",
       "    <tr>\n",
       "      <th>278978</th>\n",
       "      <td>279104</td>\n",
       "      <td>51311</td>\n",
       "      <td>2022-04-26 19:36:41.350</td>\n",
       "      <td>2084</td>\n",
       "      <td>547</td>\n",
       "      <td>4.0</td>\n",
       "      <td>4.0</td>\n",
       "      <td>7</td>\n",
       "      <td>60000.0</td>\n",
       "      <td>2022-04-26 19:36:41.350</td>\n",
       "      <td>2022-04-26</td>\n",
       "      <td>2022</td>\n",
       "      <td>4</td>\n",
       "      <td>26</td>\n",
       "      <td>19</td>\n",
       "      <td>1</td>\n",
       "      <td>420000.0</td>\n",
       "      <td>24268</td>\n",
       "    </tr>\n",
       "    <tr>\n",
       "      <th>278979</th>\n",
       "      <td>279105</td>\n",
       "      <td>51311</td>\n",
       "      <td>2022-04-26 19:36:41.350</td>\n",
       "      <td>2084</td>\n",
       "      <td>735</td>\n",
       "      <td>11.0</td>\n",
       "      <td>28.0</td>\n",
       "      <td>25</td>\n",
       "      <td>37500.0</td>\n",
       "      <td>2022-04-26 19:36:41.350</td>\n",
       "      <td>2022-04-26</td>\n",
       "      <td>2022</td>\n",
       "      <td>4</td>\n",
       "      <td>26</td>\n",
       "      <td>19</td>\n",
       "      <td>1</td>\n",
       "      <td>937500.0</td>\n",
       "      <td>24268</td>\n",
       "    </tr>\n",
       "    <tr>\n",
       "      <th>278980</th>\n",
       "      <td>279106</td>\n",
       "      <td>51311</td>\n",
       "      <td>2022-04-26 19:36:41.350</td>\n",
       "      <td>2084</td>\n",
       "      <td>1447</td>\n",
       "      <td>4.0</td>\n",
       "      <td>51.0</td>\n",
       "      <td>57</td>\n",
       "      <td>287000.0</td>\n",
       "      <td>2022-04-26 19:36:41.350</td>\n",
       "      <td>2022-04-26</td>\n",
       "      <td>2022</td>\n",
       "      <td>4</td>\n",
       "      <td>26</td>\n",
       "      <td>19</td>\n",
       "      <td>1</td>\n",
       "      <td>16359000.0</td>\n",
       "      <td>24268</td>\n",
       "    </tr>\n",
       "    <tr>\n",
       "      <th>278981</th>\n",
       "      <td>279107</td>\n",
       "      <td>51311</td>\n",
       "      <td>2022-04-26 19:36:41.350</td>\n",
       "      <td>2084</td>\n",
       "      <td>1298</td>\n",
       "      <td>4.0</td>\n",
       "      <td>51.0</td>\n",
       "      <td>2</td>\n",
       "      <td>284500.0</td>\n",
       "      <td>2022-04-26 19:36:41.350</td>\n",
       "      <td>2022-04-26</td>\n",
       "      <td>2022</td>\n",
       "      <td>4</td>\n",
       "      <td>26</td>\n",
       "      <td>19</td>\n",
       "      <td>1</td>\n",
       "      <td>569000.0</td>\n",
       "      <td>24268</td>\n",
       "    </tr>\n",
       "    <tr>\n",
       "      <th>278982</th>\n",
       "      <td>279108</td>\n",
       "      <td>51311</td>\n",
       "      <td>2022-04-26 19:36:41.350</td>\n",
       "      <td>2084</td>\n",
       "      <td>1201</td>\n",
       "      <td>4.0</td>\n",
       "      <td>51.0</td>\n",
       "      <td>4</td>\n",
       "      <td>284500.0</td>\n",
       "      <td>2022-04-26 19:36:41.350</td>\n",
       "      <td>2022-04-26</td>\n",
       "      <td>2022</td>\n",
       "      <td>4</td>\n",
       "      <td>26</td>\n",
       "      <td>19</td>\n",
       "      <td>1</td>\n",
       "      <td>1138000.0</td>\n",
       "      <td>24268</td>\n",
       "    </tr>\n",
       "    <tr>\n",
       "      <th>278983</th>\n",
       "      <td>279109</td>\n",
       "      <td>51311</td>\n",
       "      <td>2022-04-26 19:36:41.350</td>\n",
       "      <td>2084</td>\n",
       "      <td>542</td>\n",
       "      <td>14.0</td>\n",
       "      <td>32.0</td>\n",
       "      <td>1</td>\n",
       "      <td>131500.0</td>\n",
       "      <td>2022-04-26 19:36:41.350</td>\n",
       "      <td>2022-04-26</td>\n",
       "      <td>2022</td>\n",
       "      <td>4</td>\n",
       "      <td>26</td>\n",
       "      <td>19</td>\n",
       "      <td>1</td>\n",
       "      <td>131500.0</td>\n",
       "      <td>24268</td>\n",
       "    </tr>\n",
       "    <tr>\n",
       "      <th>278984</th>\n",
       "      <td>279110</td>\n",
       "      <td>51311</td>\n",
       "      <td>2022-04-26 19:36:41.350</td>\n",
       "      <td>2084</td>\n",
       "      <td>524</td>\n",
       "      <td>3.0</td>\n",
       "      <td>94.0</td>\n",
       "      <td>403</td>\n",
       "      <td>121000.0</td>\n",
       "      <td>2022-04-26 19:36:41.350</td>\n",
       "      <td>2022-04-26</td>\n",
       "      <td>2022</td>\n",
       "      <td>4</td>\n",
       "      <td>26</td>\n",
       "      <td>19</td>\n",
       "      <td>1</td>\n",
       "      <td>48763000.0</td>\n",
       "      <td>24268</td>\n",
       "    </tr>\n",
       "    <tr>\n",
       "      <th>278985</th>\n",
       "      <td>279111</td>\n",
       "      <td>51311</td>\n",
       "      <td>2022-04-26 19:36:41.350</td>\n",
       "      <td>2084</td>\n",
       "      <td>523</td>\n",
       "      <td>3.0</td>\n",
       "      <td>94.0</td>\n",
       "      <td>3</td>\n",
       "      <td>212500.0</td>\n",
       "      <td>2022-04-26 19:36:41.350</td>\n",
       "      <td>2022-04-26</td>\n",
       "      <td>2022</td>\n",
       "      <td>4</td>\n",
       "      <td>26</td>\n",
       "      <td>19</td>\n",
       "      <td>1</td>\n",
       "      <td>637500.0</td>\n",
       "      <td>24268</td>\n",
       "    </tr>\n",
       "  </tbody>\n",
       "</table>\n",
       "</div>"
      ],
      "text/plain": [
       "            id  order_id                placed_at  merchant_id  sku_id  \\\n",
       "278976  279102     51311  2022-04-26 19:36:41.350         2084    1169   \n",
       "278977  279103     51311  2022-04-26 19:36:41.350         2084     548   \n",
       "278978  279104     51311  2022-04-26 19:36:41.350         2084     547   \n",
       "278979  279105     51311  2022-04-26 19:36:41.350         2084     735   \n",
       "278980  279106     51311  2022-04-26 19:36:41.350         2084    1447   \n",
       "278981  279107     51311  2022-04-26 19:36:41.350         2084    1298   \n",
       "278982  279108     51311  2022-04-26 19:36:41.350         2084    1201   \n",
       "278983  279109     51311  2022-04-26 19:36:41.350         2084     542   \n",
       "278984  279110     51311  2022-04-26 19:36:41.350         2084     524   \n",
       "278985  279111     51311  2022-04-26 19:36:41.350         2084     523   \n",
       "\n",
       "        top_cat_id  sub_cat_id  qty     price                datetime  \\\n",
       "278976        11.0         4.0  519   14000.0 2022-04-26 19:36:41.350   \n",
       "278977        11.0        86.0    2   95000.0 2022-04-26 19:36:41.350   \n",
       "278978         4.0         4.0    7   60000.0 2022-04-26 19:36:41.350   \n",
       "278979        11.0        28.0   25   37500.0 2022-04-26 19:36:41.350   \n",
       "278980         4.0        51.0   57  287000.0 2022-04-26 19:36:41.350   \n",
       "278981         4.0        51.0    2  284500.0 2022-04-26 19:36:41.350   \n",
       "278982         4.0        51.0    4  284500.0 2022-04-26 19:36:41.350   \n",
       "278983        14.0        32.0    1  131500.0 2022-04-26 19:36:41.350   \n",
       "278984         3.0        94.0  403  121000.0 2022-04-26 19:36:41.350   \n",
       "278985         3.0        94.0    3  212500.0 2022-04-26 19:36:41.350   \n",
       "\n",
       "              date  year  month  day  hour  weekday       spent  month_order  \n",
       "278976  2022-04-26  2022      4   26    19        1   7266000.0        24268  \n",
       "278977  2022-04-26  2022      4   26    19        1    190000.0        24268  \n",
       "278978  2022-04-26  2022      4   26    19        1    420000.0        24268  \n",
       "278979  2022-04-26  2022      4   26    19        1    937500.0        24268  \n",
       "278980  2022-04-26  2022      4   26    19        1  16359000.0        24268  \n",
       "278981  2022-04-26  2022      4   26    19        1    569000.0        24268  \n",
       "278982  2022-04-26  2022      4   26    19        1   1138000.0        24268  \n",
       "278983  2022-04-26  2022      4   26    19        1    131500.0        24268  \n",
       "278984  2022-04-26  2022      4   26    19        1  48763000.0        24268  \n",
       "278985  2022-04-26  2022      4   26    19        1    637500.0        24268  "
      ]
     },
     "execution_count": 59,
     "metadata": {},
     "output_type": "execute_result"
    }
   ],
   "source": [
    "baskets[baskets['merchant_id']==2084].head(10)"
   ]
  },
  {
   "cell_type": "code",
   "execution_count": 61,
   "id": "1cf4b8d0-46be-47f8-b1d3-dbc821fb9bc5",
   "metadata": {},
   "outputs": [],
   "source": [
    "baskets = baskets.drop(baskets[baskets['merchant_id'] == 2084].index)"
   ]
  },
  {
   "cell_type": "code",
   "execution_count": 67,
   "id": "6fdfb333-cea8-42d4-85e9-06079e783c6b",
   "metadata": {},
   "outputs": [],
   "source": [
    "dfmerch = dfmerch.drop(2084)"
   ]
  },
  {
   "cell_type": "markdown",
   "id": "d12e4d1b-80bc-43aa-b124-9f68366d3738",
   "metadata": {},
   "source": [
    "Re-run top 5."
   ]
  },
  {
   "cell_type": "code",
   "execution_count": 68,
   "id": "daa31811-2387-432d-b4b2-eca94cfaa56d",
   "metadata": {},
   "outputs": [
    {
     "data": {
      "text/plain": [
       "merchant_id\n",
       "12      1.624243e+08\n",
       "366     1.437226e+08\n",
       "441     1.330561e+08\n",
       "430     1.310108e+08\n",
       "122     1.242791e+08\n",
       "            ...     \n",
       "446     3.676923e+04\n",
       "46      3.636364e+04\n",
       "1022    3.613636e+04\n",
       "1158    3.250000e+04\n",
       "1157    2.235455e+04\n",
       "Name: avgspent, Length: 2126, dtype: float64"
      ]
     },
     "execution_count": 68,
     "metadata": {},
     "output_type": "execute_result"
    }
   ],
   "source": [
    "dfmerch['avgspent'].sort_values(ascending = False)"
   ]
  },
  {
   "cell_type": "code",
   "execution_count": 74,
   "id": "3f729499-3f2e-4792-8591-1a3aaf4dbb2b",
   "metadata": {},
   "outputs": [],
   "source": [
    "options = [12, 366, 441, 430, 122]"
   ]
  },
  {
   "cell_type": "code",
   "execution_count": 75,
   "id": "eddb6760-8e58-44ba-99cd-054c29d6fcf9",
   "metadata": {},
   "outputs": [
    {
     "data": {
      "image/png": "[encoded data removed]",
      "text/plain": [
       "<Figure size 432x288 with 1 Axes>"
      ]
     },
     "metadata": {
      "needs_background": "light"
     },
     "output_type": "display_data"
    }
   ],
   "source": [
    "for i in range(5):\n",
    "    baskets[baskets['merchant_id']==options[i]].groupby('month_order')['spent'].sum().plot().legend([12, 366, 441, 430, 122],fancybox = True)"
   ]
  },
  {
   "cell_type": "markdown",
   "id": "c212a665-f7ba-4724-817a-de2a28bb0a7d",
   "metadata": {},
   "source": [
    "Clearly, 12 has spent a lot since being a customer, but are they an outlier? When was their last order? Why is their spending at such a sharp decline?"
   ]
  },
  {
   "cell_type": "code",
   "execution_count": 76,
   "id": "c61ad9ef-b728-4634-9569-27ee5ea6c720",
   "metadata": {},
   "outputs": [
    {
     "data": {
      "text/plain": [
       "datetime.date(2022, 6, 25)"
      ]
     },
     "execution_count": 76,
     "metadata": {},
     "output_type": "execute_result"
    }
   ],
   "source": [
    "baskets[baskets['merchant_id']==12].date.min()"
   ]
  },
  {
   "cell_type": "code",
   "execution_count": 77,
   "id": "16232a69-d823-4cac-95a1-722ab8a75567",
   "metadata": {},
   "outputs": [
    {
     "data": {
      "text/plain": [
       "datetime.date(2022, 7, 4)"
      ]
     },
     "execution_count": 77,
     "metadata": {},
     "output_type": "execute_result"
    }
   ],
   "source": [
    "baskets[baskets['merchant_id']==12].date.max()"
   ]
  },
  {
   "cell_type": "markdown",
   "id": "979094b3-d0e4-4320-b116-8da01b7246d4",
   "metadata": {},
   "source": [
    "All of their orders fall between a 9 day period. That is irregular and they need to be removed. "
   ]
  },
  {
   "cell_type": "code",
   "execution_count": 81,
   "id": "90eb0e86-bac4-4b63-b4c1-0a07f38cef7d",
   "metadata": {},
   "outputs": [],
   "source": [
    "baskets = baskets.drop(baskets[baskets['merchant_id']==12].index)"
   ]
  },
  {
   "cell_type": "code",
   "execution_count": 82,
   "id": "082ad446-3a6f-42c4-a1ee-de30c472ae00",
   "metadata": {},
   "outputs": [],
   "source": [
    "dfmerch = dfmerch.drop(12)"
   ]
  },
  {
   "cell_type": "code",
   "execution_count": 83,
   "id": "5e4ac806-5ffb-48d5-8b62-08b080ea5f6d",
   "metadata": {},
   "outputs": [
    {
     "data": {
      "text/plain": [
       "merchant_id\n",
       "366     1.437226e+08\n",
       "441     1.330561e+08\n",
       "430     1.310108e+08\n",
       "122     1.242791e+08\n",
       "305     1.052377e+08\n",
       "            ...     \n",
       "446     3.676923e+04\n",
       "46      3.636364e+04\n",
       "1022    3.613636e+04\n",
       "1158    3.250000e+04\n",
       "1157    2.235455e+04\n",
       "Name: avgspent, Length: 2125, dtype: float64"
      ]
     },
     "execution_count": 83,
     "metadata": {},
     "output_type": "execute_result"
    }
   ],
   "source": [
    "dfmerch['avgspent'].sort_values(ascending = False)"
   ]
  },
  {
   "cell_type": "code",
   "execution_count": 85,
   "id": "d0d39385-0667-4b21-a8ee-212657c440da",
   "metadata": {},
   "outputs": [],
   "source": [
    "options = [366, 441, 430, 122, 305]"
   ]
  },
  {
   "cell_type": "code",
   "execution_count": 86,
   "id": "e765721f-e332-4445-8d6f-ceb74537c7ef",
   "metadata": {},
   "outputs": [
    {
     "data": {
      "image/png": "[encoded data removed]",
      "text/plain": [
       "<Figure size 432x288 with 1 Axes>"
      ]
     },
     "metadata": {
      "needs_background": "light"
     },
     "output_type": "display_data"
    }
   ],
   "source": [
    "for i in range(5):\n",
    "    baskets[baskets['merchant_id']==options[i]].groupby('month_order')['spent'].sum().plot().legend([366, 441, 430, 122, 305],fancybox = True)"
   ]
  },
  {
   "cell_type": "markdown",
   "id": "307ac80e-747f-4bf0-a3d0-82ae20398679",
   "metadata": {},
   "source": [
    "Each merchant in this plot looks like they are not outliers. These top five are:\n",
    "1. 366\n",
    "2. 441\n",
    "3. 430\n",
    "4. 122\n",
    "5. 305"
   ]
  },
  {
   "cell_type": "markdown",
   "id": "ba6c9cd6-6f93-4a00-b16d-f1efbab8e1e9",
   "metadata": {},
   "source": [
    "These two models for finding the top 5 reconcile pretty well with each other. 3/5 of the top 5 match, and 366 is the top customer in both. I feel that the second model represents a more fair analysis because all of the customers seem to have been loyal for a long time, so we are not ignoring new customers. These top 5 are the biggest spenders over all time, but also over each month they've purchased from us on average. "
   ]
  },
  {
   "cell_type": "code",
   "execution_count": 93,
   "id": "a231e089-4066-4569-944b-277084af71f7",
   "metadata": {},
   "outputs": [
    {
     "data": {
      "text/plain": [
       "<AxesSubplot:xlabel='loyalty'>"
      ]
     },
     "execution_count": 93,
     "metadata": {},
     "output_type": "execute_result"
    },
    {
     "data": {
      "image/png": "[encoded data removed]",
      "text/plain": [
       "<Figure size 432x288 with 1 Axes>"
      ]
     },
     "metadata": {
      "needs_background": "light"
     },
     "output_type": "display_data"
    }
   ],
   "source": [
    "dfmerch.groupby(by ='loyalty')['avgspent'].sum().plot()"
   ]
  },
  {
   "cell_type": "markdown",
   "id": "6a128508-15a2-440d-a503-f33a77aacdc8",
   "metadata": {},
   "source": [
    "Wow- from how this graph looks, the customers that have been with us longer clearly spend more per month. This could be because there are more of them- let's try to filter this variable out."
   ]
  },
  {
   "cell_type": "code",
   "execution_count": null,
   "id": "83d9a99a-27a0-4759-b6a0-5dc5700a11f6",
   "metadata": {},
   "outputs": [],
   "source": []
  }
 ],
 "metadata": {
  "kernelspec": {
   "display_name": "Python 3 (ipykernel)",
   "language": "python",
   "name": "python3"
  },
  "language_info": {
   "codemirror_mode": {
    "name": "ipython",
    "version": 3
   },
   "file_extension": ".py",
   "mimetype": "text/x-python",
   "name": "python",
   "nbconvert_exporter": "python",
   "pygments_lexer": "ipython3",
   "version": "3.9.12"
  }
 },
 "nbformat": 4,
 "nbformat_minor": 5
}

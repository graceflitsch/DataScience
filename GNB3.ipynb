{
 "cells": [
  {
   "cell_type": "markdown",
   "id": "07dd5b19-f43e-4807-af40-ae5ad668922d",
   "metadata": {},
   "source": [
    "# How much are top merchants spending per order? Are we retaining these top buyers?"
   ]
  },
  {
   "cell_type": "markdown",
   "id": "25820c49-1228-4750-a865-dba8cdbc194b",
   "metadata": {},
   "source": [
    "To accomplish in this notebook- \n",
    "- Define \"Top buyer\" - They come every month? They have spent the most money? They spend a certain amount every month?\n",
    "- Recommend definition of \"top buyers\" "
   ]
  },
  {
   "cell_type": "code",
   "execution_count": 1,
   "id": "c713a6b9-f92d-40ae-b35b-fdcbe8e4a7af",
   "metadata": {},
   "outputs": [],
   "source": [
    "import pandas as pd\n",
    "import numpy as np\n",
    "from datetime import datetime, timedelta\n",
    "baskets = pd.read_csv('new_baskets_full.csv')\n",
    "baskets['datetime'] = baskets['placed_at'].apply(lambda x: datetime.fromisoformat(x))\n",
    "\n",
    "#pandas.Series.dt is an interface on a pandas series that gives you convenient access to operations on data stored as a pandas datetime. \n",
    "baskets['date'] = baskets['datetime'].dt.date\n",
    "baskets['year'] = baskets['datetime'].dt.year\n",
    "baskets['month'] = baskets['datetime'].dt.month\n",
    "baskets['day'] = baskets['datetime'].dt.day\n",
    "baskets['hour'] = baskets['datetime'].dt.hour\n",
    "baskets['weekday'] = baskets['datetime'].dt.weekday"
   ]
  },
  {
   "cell_type": "markdown",
   "id": "428b77ab-3177-460d-a677-0d7d8d6de410",
   "metadata": {},
   "source": [
    "#### Start by finding top buyers in terms of total amount spent."
   ]
  },
  {
   "cell_type": "code",
   "execution_count": 2,
   "id": "18433a9f-7d3d-4258-a890-a10254e43426",
   "metadata": {},
   "outputs": [],
   "source": [
    "baskets['spent'] = baskets['price'] * baskets['qty']"
   ]
  },
  {
   "cell_type": "code",
   "execution_count": 3,
   "id": "29f77b5d-a805-4e2a-a376-ef0fc71eef69",
   "metadata": {},
   "outputs": [
    {
     "data": {
      "text/html": [
       "<div>\n",
       "<style scoped>\n",
       "    .dataframe tbody tr th:only-of-type {\n",
       "        vertical-align: middle;\n",
       "    }\n",
       "\n",
       "    .dataframe tbody tr th {\n",
       "        vertical-align: top;\n",
       "    }\n",
       "\n",
       "    .dataframe thead th {\n",
       "        text-align: right;\n",
       "    }\n",
       "</style>\n",
       "<table border=\"1\" class=\"dataframe\">\n",
       "  <thead>\n",
       "    <tr style=\"text-align: right;\">\n",
       "      <th></th>\n",
       "      <th>id</th>\n",
       "      <th>order_id</th>\n",
       "      <th>merchant_id</th>\n",
       "      <th>sku_id</th>\n",
       "      <th>top_cat_id</th>\n",
       "      <th>sub_cat_id</th>\n",
       "      <th>qty</th>\n",
       "      <th>price</th>\n",
       "      <th>year</th>\n",
       "      <th>month</th>\n",
       "      <th>day</th>\n",
       "      <th>hour</th>\n",
       "      <th>weekday</th>\n",
       "      <th>spent</th>\n",
       "    </tr>\n",
       "  </thead>\n",
       "  <tbody>\n",
       "    <tr>\n",
       "      <th>count</th>\n",
       "      <td>336472.000000</td>\n",
       "      <td>336472.000000</td>\n",
       "      <td>336472.000000</td>\n",
       "      <td>336472.000000</td>\n",
       "      <td>336461.000000</td>\n",
       "      <td>336461.000000</td>\n",
       "      <td>3.364720e+05</td>\n",
       "      <td>3.364720e+05</td>\n",
       "      <td>336472.000000</td>\n",
       "      <td>336472.000000</td>\n",
       "      <td>336472.000000</td>\n",
       "      <td>336472.000000</td>\n",
       "      <td>336472.000000</td>\n",
       "      <td>3.364720e+05</td>\n",
       "    </tr>\n",
       "    <tr>\n",
       "      <th>mean</th>\n",
       "      <td>168236.500000</td>\n",
       "      <td>29079.405656</td>\n",
       "      <td>798.592706</td>\n",
       "      <td>525.308685</td>\n",
       "      <td>10.319098</td>\n",
       "      <td>45.395065</td>\n",
       "      <td>3.789684e+01</td>\n",
       "      <td>1.378956e+05</td>\n",
       "      <td>2021.539941</td>\n",
       "      <td>6.659588</td>\n",
       "      <td>15.970758</td>\n",
       "      <td>12.702486</td>\n",
       "      <td>2.620928</td>\n",
       "      <td>5.346555e+05</td>\n",
       "    </tr>\n",
       "    <tr>\n",
       "      <th>std</th>\n",
       "      <td>97131.244225</td>\n",
       "      <td>18909.738357</td>\n",
       "      <td>550.271799</td>\n",
       "      <td>304.262943</td>\n",
       "      <td>7.906257</td>\n",
       "      <td>27.767388</td>\n",
       "      <td>1.035873e+04</td>\n",
       "      <td>1.744689e+05</td>\n",
       "      <td>0.498403</td>\n",
       "      <td>3.932984</td>\n",
       "      <td>8.796420</td>\n",
       "      <td>4.228485</td>\n",
       "      <td>1.831302</td>\n",
       "      <td>2.859301e+06</td>\n",
       "    </tr>\n",
       "    <tr>\n",
       "      <th>min</th>\n",
       "      <td>1.000000</td>\n",
       "      <td>1.000000</td>\n",
       "      <td>1.000000</td>\n",
       "      <td>1.000000</td>\n",
       "      <td>1.000000</td>\n",
       "      <td>1.000000</td>\n",
       "      <td>1.000000e+00</td>\n",
       "      <td>4.375000e-02</td>\n",
       "      <td>2021.000000</td>\n",
       "      <td>1.000000</td>\n",
       "      <td>1.000000</td>\n",
       "      <td>0.000000</td>\n",
       "      <td>0.000000</td>\n",
       "      <td>5.000000e+00</td>\n",
       "    </tr>\n",
       "    <tr>\n",
       "      <th>25%</th>\n",
       "      <td>84118.750000</td>\n",
       "      <td>11485.000000</td>\n",
       "      <td>352.000000</td>\n",
       "      <td>322.000000</td>\n",
       "      <td>4.000000</td>\n",
       "      <td>27.000000</td>\n",
       "      <td>1.000000e+00</td>\n",
       "      <td>4.600000e+04</td>\n",
       "      <td>2021.000000</td>\n",
       "      <td>3.000000</td>\n",
       "      <td>8.000000</td>\n",
       "      <td>10.000000</td>\n",
       "      <td>1.000000</td>\n",
       "      <td>1.165000e+05</td>\n",
       "    </tr>\n",
       "    <tr>\n",
       "      <th>50%</th>\n",
       "      <td>168236.500000</td>\n",
       "      <td>28436.000000</td>\n",
       "      <td>664.000000</td>\n",
       "      <td>438.000000</td>\n",
       "      <td>8.000000</td>\n",
       "      <td>43.000000</td>\n",
       "      <td>2.000000e+00</td>\n",
       "      <td>1.070000e+05</td>\n",
       "      <td>2022.000000</td>\n",
       "      <td>7.000000</td>\n",
       "      <td>16.000000</td>\n",
       "      <td>12.000000</td>\n",
       "      <td>3.000000</td>\n",
       "      <td>2.080000e+05</td>\n",
       "    </tr>\n",
       "    <tr>\n",
       "      <th>75%</th>\n",
       "      <td>252354.250000</td>\n",
       "      <td>46193.250000</td>\n",
       "      <td>1217.000000</td>\n",
       "      <td>589.000000</td>\n",
       "      <td>14.000000</td>\n",
       "      <td>69.000000</td>\n",
       "      <td>5.000000e+00</td>\n",
       "      <td>1.845000e+05</td>\n",
       "      <td>2022.000000</td>\n",
       "      <td>11.000000</td>\n",
       "      <td>24.000000</td>\n",
       "      <td>15.000000</td>\n",
       "      <td>4.000000</td>\n",
       "      <td>4.350000e+05</td>\n",
       "    </tr>\n",
       "    <tr>\n",
       "      <th>max</th>\n",
       "      <td>336472.000000</td>\n",
       "      <td>62048.000000</td>\n",
       "      <td>2138.000000</td>\n",
       "      <td>1617.000000</td>\n",
       "      <td>33.000000</td>\n",
       "      <td>96.000000</td>\n",
       "      <td>4.800000e+06</td>\n",
       "      <td>5.875000e+07</td>\n",
       "      <td>2022.000000</td>\n",
       "      <td>12.000000</td>\n",
       "      <td>31.000000</td>\n",
       "      <td>23.000000</td>\n",
       "      <td>6.000000</td>\n",
       "      <td>3.831222e+08</td>\n",
       "    </tr>\n",
       "  </tbody>\n",
       "</table>\n",
       "</div>"
      ],
      "text/plain": [
       "                  id       order_id    merchant_id         sku_id  \\\n",
       "count  336472.000000  336472.000000  336472.000000  336472.000000   \n",
       "mean   168236.500000   29079.405656     798.592706     525.308685   \n",
       "std     97131.244225   18909.738357     550.271799     304.262943   \n",
       "min         1.000000       1.000000       1.000000       1.000000   \n",
       "25%     84118.750000   11485.000000     352.000000     322.000000   \n",
       "50%    168236.500000   28436.000000     664.000000     438.000000   \n",
       "75%    252354.250000   46193.250000    1217.000000     589.000000   \n",
       "max    336472.000000   62048.000000    2138.000000    1617.000000   \n",
       "\n",
       "          top_cat_id     sub_cat_id           qty         price  \\\n",
       "count  336461.000000  336461.000000  3.364720e+05  3.364720e+05   \n",
       "mean       10.319098      45.395065  3.789684e+01  1.378956e+05   \n",
       "std         7.906257      27.767388  1.035873e+04  1.744689e+05   \n",
       "min         1.000000       1.000000  1.000000e+00  4.375000e-02   \n",
       "25%         4.000000      27.000000  1.000000e+00  4.600000e+04   \n",
       "50%         8.000000      43.000000  2.000000e+00  1.070000e+05   \n",
       "75%        14.000000      69.000000  5.000000e+00  1.845000e+05   \n",
       "max        33.000000      96.000000  4.800000e+06  5.875000e+07   \n",
       "\n",
       "                year          month            day           hour  \\\n",
       "count  336472.000000  336472.000000  336472.000000  336472.000000   \n",
       "mean     2021.539941       6.659588      15.970758      12.702486   \n",
       "std         0.498403       3.932984       8.796420       4.228485   \n",
       "min      2021.000000       1.000000       1.000000       0.000000   \n",
       "25%      2021.000000       3.000000       8.000000      10.000000   \n",
       "50%      2022.000000       7.000000      16.000000      12.000000   \n",
       "75%      2022.000000      11.000000      24.000000      15.000000   \n",
       "max      2022.000000      12.000000      31.000000      23.000000   \n",
       "\n",
       "             weekday         spent  \n",
       "count  336472.000000  3.364720e+05  \n",
       "mean        2.620928  5.346555e+05  \n",
       "std         1.831302  2.859301e+06  \n",
       "min         0.000000  5.000000e+00  \n",
       "25%         1.000000  1.165000e+05  \n",
       "50%         3.000000  2.080000e+05  \n",
       "75%         4.000000  4.350000e+05  \n",
       "max         6.000000  3.831222e+08  "
      ]
     },
     "execution_count": 3,
     "metadata": {},
     "output_type": "execute_result"
    }
   ],
   "source": [
    "baskets.describe()"
   ]
  },
  {
   "cell_type": "markdown",
   "id": "251d8c2e-3057-49b9-b72e-f4fec89c126d",
   "metadata": {},
   "source": [
    "Remove first 5 months of data from dataframe."
   ]
  },
  {
   "cell_type": "code",
   "execution_count": 5,
   "id": "8556e320-6a79-46f5-83e3-c2caac189a97",
   "metadata": {},
   "outputs": [
    {
     "data": {
      "text/plain": [
       "datetime.date(2021, 4, 9)"
      ]
     },
     "execution_count": 5,
     "metadata": {},
     "output_type": "execute_result"
    }
   ],
   "source": [
    "baskets.date.min()"
   ]
  },
  {
   "cell_type": "code",
   "execution_count": 6,
   "id": "e19cd789-2ffa-4ce3-8266-355192cc2e90",
   "metadata": {},
   "outputs": [],
   "source": [
    "baskets = baskets[baskets['date'] > pd.to_datetime('2021-7-31').date()]"
   ]
  },
  {
   "cell_type": "code",
   "execution_count": 8,
   "id": "166d8915-5cd7-4511-9b1c-40ec5840960c",
   "metadata": {},
   "outputs": [
    {
     "data": {
      "text/plain": [
       "datetime.date(2021, 8, 1)"
      ]
     },
     "execution_count": 8,
     "metadata": {},
     "output_type": "execute_result"
    }
   ],
   "source": [
    "baskets.date.min()"
   ]
  },
  {
   "cell_type": "markdown",
   "id": "b36cdc82-1775-4ecb-a3e2-b09fed670760",
   "metadata": {},
   "source": [
    "Find total amount spent by each merchant and sort highest to lowest."
   ]
  },
  {
   "cell_type": "code",
   "execution_count": 7,
   "id": "b6ee01d2-6435-4741-994e-ced4a6464ad6",
   "metadata": {},
   "outputs": [
    {
     "data": {
      "text/plain": [
       "merchant_id\n",
       "664     3.947079e+09\n",
       "441     1.729729e+09\n",
       "366     1.724671e+09\n",
       "122     1.491349e+09\n",
       "430     1.441119e+09\n",
       "            ...     \n",
       "1158    3.575000e+05\n",
       "1931    3.450000e+05\n",
       "2018    3.290000e+05\n",
       "411     3.190000e+05\n",
       "1157    2.459000e+05\n",
       "Name: spent, Length: 2128, dtype: float64"
      ]
     },
     "execution_count": 7,
     "metadata": {},
     "output_type": "execute_result"
    }
   ],
   "source": [
    "baskets.groupby('merchant_id').spent.sum().sort_values(ascending = False)"
   ]
  },
  {
   "cell_type": "markdown",
   "id": "c588aa6d-4260-48af-806c-3fdc28b3467e",
   "metadata": {},
   "source": [
    "Notice that the top 5 most spending merchants are 664,441,366,122,430. Lets plot their spending over time to see if they are consistent spenders."
   ]
  },
  {
   "cell_type": "code",
   "execution_count": 9,
   "id": "296ef09e-e153-4e42-82eb-6f644603e70b",
   "metadata": {},
   "outputs": [],
   "source": [
    "baskets['month_order'] = baskets['year']*12 + baskets['month']"
   ]
  },
  {
   "cell_type": "markdown",
   "id": "2a8d65f3-a359-43ce-af06-6f0da83d86eb",
   "metadata": {},
   "source": [
    "Created month_order to reindex data to start at end of july"
   ]
  },
  {
   "cell_type": "markdown",
   "id": "b10a6feb-9488-4efa-a73f-55891cd2abc4",
   "metadata": {},
   "source": [
    "Created options to parse through top 5 spenders"
   ]
  },
  {
   "cell_type": "code",
   "execution_count": 10,
   "id": "f99c31e3-24c1-4fa9-ab1b-838330d9aeae",
   "metadata": {},
   "outputs": [],
   "source": [
    "options = [664,441,366,122,430]"
   ]
  },
  {
   "cell_type": "code",
   "execution_count": 11,
   "id": "80c1e607-efe3-47c2-9391-18041891af97",
   "metadata": {},
   "outputs": [
    {
     "data": {
      "image/png": "[encoded data removed]",
      "text/plain": [
       "<Figure size 432x288 with 1 Axes>"
      ]
     },
     "metadata": {
      "needs_background": "light"
     },
     "output_type": "display_data"
    }
   ],
   "source": [
    "for i in range(5):\n",
    "    baskets[baskets['merchant_id']==options[i]].groupby('month_order')['spent'].sum().plot().legend([664,441,366,122,430],fancybox = True)\n"
   ]
  },
  {
   "cell_type": "markdown",
   "id": "9f612701-48dd-47f8-9c23-ed3decc38033",
   "metadata": {},
   "source": [
    "Merchant 664 has a very unique buying pattern- looks like their last purchase was in March of 2022. They are defnitely an outlier, and seem to no longer be a customer. Remove 664 as top contender."
   ]
  },
  {
   "cell_type": "code",
   "execution_count": 13,
   "id": "c6402b96-ff7d-42d4-aab3-1b0c45ab1674",
   "metadata": {},
   "outputs": [
    {
     "data": {
      "text/plain": [
       "datetime.date(2022, 3, 25)"
      ]
     },
     "execution_count": 13,
     "metadata": {},
     "output_type": "execute_result"
    }
   ],
   "source": [
    "baskets[baskets['merchant_id'] == 664].date.max()"
   ]
  },
  {
   "cell_type": "code",
   "execution_count": 14,
   "id": "705a296b-84b0-4d17-8f0a-0f17c294ba12",
   "metadata": {},
   "outputs": [],
   "source": [
    "baskets = baskets.drop(baskets[baskets['merchant_id']== 664].index)"
   ]
  },
  {
   "cell_type": "markdown",
   "id": "feafd59e-421b-48f5-8fba-5997da8c68d0",
   "metadata": {},
   "source": [
    "Now re-run data without 664."
   ]
  },
  {
   "cell_type": "code",
   "execution_count": 15,
   "id": "91011774-8845-4f41-bf33-fe020ff0d485",
   "metadata": {},
   "outputs": [
    {
     "data": {
      "text/plain": [
       "merchant_id\n",
       "441     1.729729e+09\n",
       "366     1.724671e+09\n",
       "122     1.491349e+09\n",
       "430     1.441119e+09\n",
       "305     1.368091e+09\n",
       "            ...     \n",
       "1158    3.575000e+05\n",
       "1931    3.450000e+05\n",
       "2018    3.290000e+05\n",
       "411     3.190000e+05\n",
       "1157    2.459000e+05\n",
       "Name: spent, Length: 2127, dtype: float64"
      ]
     },
     "execution_count": 15,
     "metadata": {},
     "output_type": "execute_result"
    }
   ],
   "source": [
    "baskets.groupby('merchant_id').spent.sum().sort_values(ascending = False)"
   ]
  },
  {
   "cell_type": "code",
   "execution_count": 16,
   "id": "e04ff979-667b-4cc5-8970-96b724020180",
   "metadata": {},
   "outputs": [],
   "source": [
    "options = [441,366,122,430,305]"
   ]
  },
  {
   "cell_type": "code",
   "execution_count": 17,
   "id": "0121c613-dcb6-4d6f-be22-1eb6a0dc13b0",
   "metadata": {},
   "outputs": [
    {
     "data": {
      "image/png": "[encoded data removed]",
      "text/plain": [
       "<Figure size 432x288 with 1 Axes>"
      ]
     },
     "metadata": {
      "needs_background": "light"
     },
     "output_type": "display_data"
    }
   ],
   "source": [
    "for i in range(5):\n",
    "    baskets[baskets['merchant_id']==options[i]].groupby('month_order')['spent'].sum().plot().legend([441,366,122,430,305],fancybox = True)\n"
   ]
  },
  {
   "cell_type": "markdown",
   "id": "3fc3bdc2-f933-47fa-a3a6-1796477796fe",
   "metadata": {},
   "source": [
    "This looks a lot better. Notice how all purchasing seems to fall between December and February? Why is this? It then also dips dramatically during Ramadon, which makes more sense *look into this later."
   ]
  },
  {
   "cell_type": "markdown",
   "id": "5835b3ca-2a65-474a-b0a5-12c5a946a492",
   "metadata": {},
   "source": [
    "## Let's compare spending in the last 6 months. Will the same buyers be in the list?"
   ]
  },
  {
   "cell_type": "code",
   "execution_count": 18,
   "id": "aece69d3-b395-4d92-9b3d-c395c6a71dae",
   "metadata": {},
   "outputs": [],
   "source": [
    "sixbaskets = baskets[baskets['month_order'] > 24265]"
   ]
  },
  {
   "cell_type": "code",
   "execution_count": 19,
   "id": "083ddce8-2493-4fd9-9abf-27a1ed0d6349",
   "metadata": {},
   "outputs": [
    {
     "data": {
      "text/html": [
       "<div>\n",
       "<style scoped>\n",
       "    .dataframe tbody tr th:only-of-type {\n",
       "        vertical-align: middle;\n",
       "    }\n",
       "\n",
       "    .dataframe tbody tr th {\n",
       "        vertical-align: top;\n",
       "    }\n",
       "\n",
       "    .dataframe thead th {\n",
       "        text-align: right;\n",
       "    }\n",
       "</style>\n",
       "<table border=\"1\" class=\"dataframe\">\n",
       "  <thead>\n",
       "    <tr style=\"text-align: right;\">\n",
       "      <th></th>\n",
       "      <th>id</th>\n",
       "      <th>order_id</th>\n",
       "      <th>placed_at</th>\n",
       "      <th>merchant_id</th>\n",
       "      <th>sku_id</th>\n",
       "      <th>top_cat_id</th>\n",
       "      <th>sub_cat_id</th>\n",
       "      <th>qty</th>\n",
       "      <th>price</th>\n",
       "      <th>datetime</th>\n",
       "      <th>date</th>\n",
       "      <th>year</th>\n",
       "      <th>month</th>\n",
       "      <th>day</th>\n",
       "      <th>hour</th>\n",
       "      <th>weekday</th>\n",
       "      <th>spent</th>\n",
       "      <th>month_order</th>\n",
       "    </tr>\n",
       "  </thead>\n",
       "  <tbody>\n",
       "    <tr>\n",
       "      <th>191588</th>\n",
       "      <td>191782</td>\n",
       "      <td>33178</td>\n",
       "      <td>2022-02-01 04:59:15.772</td>\n",
       "      <td>1425</td>\n",
       "      <td>378</td>\n",
       "      <td>8.0</td>\n",
       "      <td>43.0</td>\n",
       "      <td>1</td>\n",
       "      <td>100500.0</td>\n",
       "      <td>2022-02-01 04:59:15.772</td>\n",
       "      <td>2022-02-01</td>\n",
       "      <td>2022</td>\n",
       "      <td>2</td>\n",
       "      <td>1</td>\n",
       "      <td>4</td>\n",
       "      <td>1</td>\n",
       "      <td>100500.0</td>\n",
       "      <td>24266</td>\n",
       "    </tr>\n",
       "    <tr>\n",
       "      <th>191589</th>\n",
       "      <td>191783</td>\n",
       "      <td>33178</td>\n",
       "      <td>2022-02-01 04:59:15.772</td>\n",
       "      <td>1425</td>\n",
       "      <td>380</td>\n",
       "      <td>8.0</td>\n",
       "      <td>43.0</td>\n",
       "      <td>1</td>\n",
       "      <td>100500.0</td>\n",
       "      <td>2022-02-01 04:59:15.772</td>\n",
       "      <td>2022-02-01</td>\n",
       "      <td>2022</td>\n",
       "      <td>2</td>\n",
       "      <td>1</td>\n",
       "      <td>4</td>\n",
       "      <td>1</td>\n",
       "      <td>100500.0</td>\n",
       "      <td>24266</td>\n",
       "    </tr>\n",
       "    <tr>\n",
       "      <th>191590</th>\n",
       "      <td>191784</td>\n",
       "      <td>33178</td>\n",
       "      <td>2022-02-01 04:59:15.772</td>\n",
       "      <td>1425</td>\n",
       "      <td>383</td>\n",
       "      <td>8.0</td>\n",
       "      <td>43.0</td>\n",
       "      <td>1</td>\n",
       "      <td>100500.0</td>\n",
       "      <td>2022-02-01 04:59:15.772</td>\n",
       "      <td>2022-02-01</td>\n",
       "      <td>2022</td>\n",
       "      <td>2</td>\n",
       "      <td>1</td>\n",
       "      <td>4</td>\n",
       "      <td>1</td>\n",
       "      <td>100500.0</td>\n",
       "      <td>24266</td>\n",
       "    </tr>\n",
       "    <tr>\n",
       "      <th>191591</th>\n",
       "      <td>191749</td>\n",
       "      <td>33923</td>\n",
       "      <td>2022-02-01 06:53:29.594</td>\n",
       "      <td>1702</td>\n",
       "      <td>511</td>\n",
       "      <td>3.0</td>\n",
       "      <td>91.0</td>\n",
       "      <td>1</td>\n",
       "      <td>104000.0</td>\n",
       "      <td>2022-02-01 06:53:29.594</td>\n",
       "      <td>2022-02-01</td>\n",
       "      <td>2022</td>\n",
       "      <td>2</td>\n",
       "      <td>1</td>\n",
       "      <td>6</td>\n",
       "      <td>1</td>\n",
       "      <td>104000.0</td>\n",
       "      <td>24266</td>\n",
       "    </tr>\n",
       "    <tr>\n",
       "      <th>191592</th>\n",
       "      <td>191750</td>\n",
       "      <td>33923</td>\n",
       "      <td>2022-02-01 06:53:29.594</td>\n",
       "      <td>1702</td>\n",
       "      <td>522</td>\n",
       "      <td>3.0</td>\n",
       "      <td>94.0</td>\n",
       "      <td>10</td>\n",
       "      <td>176000.0</td>\n",
       "      <td>2022-02-01 06:53:29.594</td>\n",
       "      <td>2022-02-01</td>\n",
       "      <td>2022</td>\n",
       "      <td>2</td>\n",
       "      <td>1</td>\n",
       "      <td>6</td>\n",
       "      <td>1</td>\n",
       "      <td>1760000.0</td>\n",
       "      <td>24266</td>\n",
       "    </tr>\n",
       "  </tbody>\n",
       "</table>\n",
       "</div>"
      ],
      "text/plain": [
       "            id  order_id                placed_at  merchant_id  sku_id  \\\n",
       "191588  191782     33178  2022-02-01 04:59:15.772         1425     378   \n",
       "191589  191783     33178  2022-02-01 04:59:15.772         1425     380   \n",
       "191590  191784     33178  2022-02-01 04:59:15.772         1425     383   \n",
       "191591  191749     33923  2022-02-01 06:53:29.594         1702     511   \n",
       "191592  191750     33923  2022-02-01 06:53:29.594         1702     522   \n",
       "\n",
       "        top_cat_id  sub_cat_id  qty     price                datetime  \\\n",
       "191588         8.0        43.0    1  100500.0 2022-02-01 04:59:15.772   \n",
       "191589         8.0        43.0    1  100500.0 2022-02-01 04:59:15.772   \n",
       "191590         8.0        43.0    1  100500.0 2022-02-01 04:59:15.772   \n",
       "191591         3.0        91.0    1  104000.0 2022-02-01 06:53:29.594   \n",
       "191592         3.0        94.0   10  176000.0 2022-02-01 06:53:29.594   \n",
       "\n",
       "              date  year  month  day  hour  weekday      spent  month_order  \n",
       "191588  2022-02-01  2022      2    1     4        1   100500.0        24266  \n",
       "191589  2022-02-01  2022      2    1     4        1   100500.0        24266  \n",
       "191590  2022-02-01  2022      2    1     4        1   100500.0        24266  \n",
       "191591  2022-02-01  2022      2    1     6        1   104000.0        24266  \n",
       "191592  2022-02-01  2022      2    1     6        1  1760000.0        24266  "
      ]
     },
     "execution_count": 19,
     "metadata": {},
     "output_type": "execute_result"
    }
   ],
   "source": [
    "sixbaskets.head()"
   ]
  },
  {
   "cell_type": "code",
   "execution_count": 20,
   "id": "aad3fa7a-886d-4f73-95d4-3063e39fefae",
   "metadata": {},
   "outputs": [
    {
     "data": {
      "text/plain": [
       "merchant_id\n",
       "497     959077900.0\n",
       "366     952641100.0\n",
       "441     941911050.0\n",
       "122     938894750.0\n",
       "2084    932772739.0\n",
       "           ...     \n",
       "484        137500.0\n",
       "195        123000.0\n",
       "643         99500.0\n",
       "706         62000.0\n",
       "1435        53500.0\n",
       "Name: spent, Length: 1728, dtype: float64"
      ]
     },
     "execution_count": 20,
     "metadata": {},
     "output_type": "execute_result"
    }
   ],
   "source": [
    "sixbaskets.groupby('merchant_id').spent.sum().sort_values(ascending = False)"
   ]
  },
  {
   "cell_type": "markdown",
   "id": "53c72b14-7792-4a45-8d1a-47b56ffe9671",
   "metadata": {},
   "source": [
    "Top spenders are merchant_id's 497,366,441,122,2048."
   ]
  },
  {
   "cell_type": "markdown",
   "id": "9ea2faf5-a7a1-4fa7-b9f1-756c528d549f",
   "metadata": {},
   "source": [
    "441,366,122,430,305 were the top spenders over the year, it seems that 497 and 2048 have spent a lot more in the second half, while 430 and 305 have not sustained their high spending as much in the second half. "
   ]
  },
  {
   "cell_type": "code",
   "execution_count": 22,
   "id": "e52af539-6653-4af1-bd26-35990e4a5f2c",
   "metadata": {},
   "outputs": [],
   "source": [
    "options = [497,366,441,122,2048]"
   ]
  },
  {
   "cell_type": "code",
   "execution_count": 23,
   "id": "77c6b6f5-c755-4d9e-b66b-7303ff3bbdd8",
   "metadata": {
    "tags": []
   },
   "outputs": [
    {
     "data": {
      "image/png": "[encoded data removed]",
      "text/plain": [
       "<Figure size 432x288 with 1 Axes>"
      ]
     },
     "metadata": {
      "needs_background": "light"
     },
     "output_type": "display_data"
    }
   ],
   "source": [
    "for i in range(5):\n",
    "    sixbaskets[sixbaskets['merchant_id']==options[i]].groupby('month_order')['spent'].sum().plot().legend([497,366,441,122,2048],fancybox = True)\n"
   ]
  },
  {
   "cell_type": "markdown",
   "id": "143f8581-7d65-410a-adf0-7a6fd6f5930d",
   "metadata": {},
   "source": [
    "Looks like all sales are declining in July of 2022 besides 441. Why is this? 441 seems to have a regular pattern of large orders every two months. They are consistent, which is valuable. There are not any outliers, so let's look at the sales from 430 and 305 in the second half to see if they are still top buyers. "
   ]
  },
  {
   "cell_type": "markdown",
   "id": "e4d4408f-3df2-4371-bb4f-eeba067a5e9f",
   "metadata": {},
   "source": [
    "Looking at this new graph, I see no outliers, everyone is still purchasing now semi-consitently.\n",
    "For the monetary score, I am going to use the data from the whole year. This is because changes in the last 6 months may be more relevant to the frequency score. \n",
    "Top 5 are: \n",
    "1. 441 (5)\n",
    "2. 366 (4)\n",
    "3. 122 (3)\n",
    "4. 430 (2)\n",
    "5. 305 (1)"
   ]
  },
  {
   "cell_type": "markdown",
   "id": "0ef29434-081b-47b9-b437-cfc6c1855f23",
   "metadata": {},
   "source": [
    "RFM- recency, frequency, monetary. \n",
    "Find matrix to rank buyers by all three. \n",
    "R+F+M = Score. \n",
    "Recency is not as relevant"
   ]
  },
  {
   "cell_type": "markdown",
   "id": "b5a865be-7ec2-446d-9956-0ee265bda5f3",
   "metadata": {},
   "source": [
    "## Next, I am going to work on frequency: The angle I will take to rank frequency is whoever has the highest average number of transactions per month."
   ]
  },
  {
   "cell_type": "code",
   "execution_count": 30,
   "id": "79846197-ed4d-4fc9-ac79-a858f2187c12",
   "metadata": {},
   "outputs": [],
   "source": [
    "baskets['this_month'] = baskets.groupby('month_order').order_id.nunique().sum()"
   ]
  },
  {
   "cell_type": "code",
   "execution_count": 31,
   "id": "0a7b0376-4b55-4666-9f5b-e93f70126929",
   "metadata": {},
   "outputs": [
    {
     "data": {
      "text/html": [
       "<div>\n",
       "<style scoped>\n",
       "    .dataframe tbody tr th:only-of-type {\n",
       "        vertical-align: middle;\n",
       "    }\n",
       "\n",
       "    .dataframe tbody tr th {\n",
       "        vertical-align: top;\n",
       "    }\n",
       "\n",
       "    .dataframe thead th {\n",
       "        text-align: right;\n",
       "    }\n",
       "</style>\n",
       "<table border=\"1\" class=\"dataframe\">\n",
       "  <thead>\n",
       "    <tr style=\"text-align: right;\">\n",
       "      <th></th>\n",
       "      <th>id</th>\n",
       "      <th>order_id</th>\n",
       "      <th>placed_at</th>\n",
       "      <th>merchant_id</th>\n",
       "      <th>sku_id</th>\n",
       "      <th>top_cat_id</th>\n",
       "      <th>sub_cat_id</th>\n",
       "      <th>qty</th>\n",
       "      <th>price</th>\n",
       "      <th>datetime</th>\n",
       "      <th>date</th>\n",
       "      <th>year</th>\n",
       "      <th>month</th>\n",
       "      <th>day</th>\n",
       "      <th>hour</th>\n",
       "      <th>weekday</th>\n",
       "      <th>spent</th>\n",
       "      <th>month_order</th>\n",
       "      <th>this_month</th>\n",
       "    </tr>\n",
       "  </thead>\n",
       "  <tbody>\n",
       "    <tr>\n",
       "      <th>99966</th>\n",
       "      <td>93523</td>\n",
       "      <td>13399</td>\n",
       "      <td>2021-11-19 20:58:48.765</td>\n",
       "      <td>504</td>\n",
       "      <td>510</td>\n",
       "      <td>11.0</td>\n",
       "      <td>27.0</td>\n",
       "      <td>2</td>\n",
       "      <td>352500.0</td>\n",
       "      <td>2021-11-19 20:58:48.765</td>\n",
       "      <td>2021-11-19</td>\n",
       "      <td>2021</td>\n",
       "      <td>11</td>\n",
       "      <td>19</td>\n",
       "      <td>20</td>\n",
       "      <td>4</td>\n",
       "      <td>705000.0</td>\n",
       "      <td>24263</td>\n",
       "      <td>61355</td>\n",
       "    </tr>\n",
       "    <tr>\n",
       "      <th>290674</th>\n",
       "      <td>290765</td>\n",
       "      <td>53117</td>\n",
       "      <td>2022-05-18 11:33:05.470</td>\n",
       "      <td>413</td>\n",
       "      <td>941</td>\n",
       "      <td>3.0</td>\n",
       "      <td>94.0</td>\n",
       "      <td>2</td>\n",
       "      <td>153000.0</td>\n",
       "      <td>2022-05-18 11:33:05.470</td>\n",
       "      <td>2022-05-18</td>\n",
       "      <td>2022</td>\n",
       "      <td>5</td>\n",
       "      <td>18</td>\n",
       "      <td>11</td>\n",
       "      <td>2</td>\n",
       "      <td>306000.0</td>\n",
       "      <td>24269</td>\n",
       "      <td>61355</td>\n",
       "    </tr>\n",
       "    <tr>\n",
       "      <th>127674</th>\n",
       "      <td>127819</td>\n",
       "      <td>19991</td>\n",
       "      <td>2021-12-08 15:02:39.045</td>\n",
       "      <td>337</td>\n",
       "      <td>522</td>\n",
       "      <td>3.0</td>\n",
       "      <td>94.0</td>\n",
       "      <td>2</td>\n",
       "      <td>159500.0</td>\n",
       "      <td>2021-12-08 15:02:39.045</td>\n",
       "      <td>2021-12-08</td>\n",
       "      <td>2021</td>\n",
       "      <td>12</td>\n",
       "      <td>8</td>\n",
       "      <td>15</td>\n",
       "      <td>2</td>\n",
       "      <td>319000.0</td>\n",
       "      <td>24264</td>\n",
       "      <td>61355</td>\n",
       "    </tr>\n",
       "    <tr>\n",
       "      <th>277420</th>\n",
       "      <td>277581</td>\n",
       "      <td>51064</td>\n",
       "      <td>2022-04-25 19:48:09.490</td>\n",
       "      <td>2037</td>\n",
       "      <td>970</td>\n",
       "      <td>4.0</td>\n",
       "      <td>28.0</td>\n",
       "      <td>3</td>\n",
       "      <td>94000.0</td>\n",
       "      <td>2022-04-25 19:48:09.490</td>\n",
       "      <td>2022-04-25</td>\n",
       "      <td>2022</td>\n",
       "      <td>4</td>\n",
       "      <td>25</td>\n",
       "      <td>19</td>\n",
       "      <td>0</td>\n",
       "      <td>282000.0</td>\n",
       "      <td>24268</td>\n",
       "      <td>61355</td>\n",
       "    </tr>\n",
       "    <tr>\n",
       "      <th>178054</th>\n",
       "      <td>176636</td>\n",
       "      <td>29786</td>\n",
       "      <td>2022-01-21 06:12:47.257</td>\n",
       "      <td>295</td>\n",
       "      <td>390</td>\n",
       "      <td>4.0</td>\n",
       "      <td>51.0</td>\n",
       "      <td>32</td>\n",
       "      <td>18450.0</td>\n",
       "      <td>2022-01-21 06:12:47.257</td>\n",
       "      <td>2022-01-21</td>\n",
       "      <td>2022</td>\n",
       "      <td>1</td>\n",
       "      <td>21</td>\n",
       "      <td>6</td>\n",
       "      <td>4</td>\n",
       "      <td>590400.0</td>\n",
       "      <td>24265</td>\n",
       "      <td>61355</td>\n",
       "    </tr>\n",
       "  </tbody>\n",
       "</table>\n",
       "</div>"
      ],
      "text/plain": [
       "            id  order_id                placed_at  merchant_id  sku_id  \\\n",
       "99966    93523     13399  2021-11-19 20:58:48.765          504     510   \n",
       "290674  290765     53117  2022-05-18 11:33:05.470          413     941   \n",
       "127674  127819     19991  2021-12-08 15:02:39.045          337     522   \n",
       "277420  277581     51064  2022-04-25 19:48:09.490         2037     970   \n",
       "178054  176636     29786  2022-01-21 06:12:47.257          295     390   \n",
       "\n",
       "        top_cat_id  sub_cat_id  qty     price                datetime  \\\n",
       "99966         11.0        27.0    2  352500.0 2021-11-19 20:58:48.765   \n",
       "290674         3.0        94.0    2  153000.0 2022-05-18 11:33:05.470   \n",
       "127674         3.0        94.0    2  159500.0 2021-12-08 15:02:39.045   \n",
       "277420         4.0        28.0    3   94000.0 2022-04-25 19:48:09.490   \n",
       "178054         4.0        51.0   32   18450.0 2022-01-21 06:12:47.257   \n",
       "\n",
       "              date  year  month  day  hour  weekday     spent  month_order  \\\n",
       "99966   2021-11-19  2021     11   19    20        4  705000.0        24263   \n",
       "290674  2022-05-18  2022      5   18    11        2  306000.0        24269   \n",
       "127674  2021-12-08  2021     12    8    15        2  319000.0        24264   \n",
       "277420  2022-04-25  2022      4   25    19        0  282000.0        24268   \n",
       "178054  2022-01-21  2022      1   21     6        4  590400.0        24265   \n",
       "\n",
       "        this_month  \n",
       "99966        61355  \n",
       "290674       61355  \n",
       "127674       61355  \n",
       "277420       61355  \n",
       "178054       61355  "
      ]
     },
     "execution_count": 31,
     "metadata": {},
     "output_type": "execute_result"
    }
   ],
   "source": [
    "ex = baskets.sample(20)\n",
    "ex.head()"
   ]
  },
  {
   "cell_type": "code",
   "execution_count": null,
   "id": "8dd67b35-de38-4058-81f6-b72ac457527f",
   "metadata": {},
   "outputs": [],
   "source": []
  },
  {
   "cell_type": "code",
   "execution_count": null,
   "id": "a685e5fb-99f5-4fc5-9c1c-f76817a975f8",
   "metadata": {},
   "outputs": [],
   "source": []
  },
  {
   "cell_type": "code",
   "execution_count": null,
   "id": "a00f21b1-4f03-4ca4-9ad3-d242528f35d0",
   "metadata": {},
   "outputs": [],
   "source": []
  },
  {
   "cell_type": "code",
   "execution_count": null,
   "id": "ceb11e74-b2a4-4d43-93d2-63406fd71ce7",
   "metadata": {},
   "outputs": [],
   "source": []
  }
 ],
 "metadata": {
  "kernelspec": {
   "display_name": "Python 3 (ipykernel)",
   "language": "python",
   "name": "python3"
  },
  "language_info": {
   "codemirror_mode": {
    "name": "ipython",
    "version": 3
   },
   "file_extension": ".py",
   "mimetype": "text/x-python",
   "name": "python",
   "nbconvert_exporter": "python",
   "pygments_lexer": "ipython3",
   "version": "3.9.12"
  }
 },
 "nbformat": 4,
 "nbformat_minor": 5
}

{
 "cells": [
  {
   "cell_type": "markdown",
   "id": "07dd5b19-f43e-4807-af40-ae5ad668922d",
   "metadata": {},
   "source": [
    "# How much are top merchants spending per order? Are we retaining these top buyers?"
   ]
  },
  {
   "cell_type": "markdown",
   "id": "25820c49-1228-4750-a865-dba8cdbc194b",
   "metadata": {},
   "source": [
    "To accomplish in this notebook- \n",
    "- Define \"Top buyer\" - They come every month? They have spent the most money? They spend a certain amount every month?\n",
    "- Recommend definition of \"top buyers\" "
   ]
  },
  {
   "cell_type": "code",
   "execution_count": 137,
   "id": "c713a6b9-f92d-40ae-b35b-fdcbe8e4a7af",
   "metadata": {},
   "outputs": [],
   "source": [
    "import pandas as pd\n",
    "import numpy as np\n",
    "from datetime import datetime, timedelta\n",
    "baskets = pd.read_csv('baskets_sample_random_10.csv')\n",
    "baskets['datetime'] = baskets['placed_at'].apply(lambda x: datetime.fromisoformat(x))\n",
    "\n",
    "#pandas.Series.dt is an interface on a pandas series that gives you convenient access to operations on data stored as a pandas datetime. \n",
    "baskets['date'] = baskets['datetime'].dt.date\n",
    "baskets['year'] = baskets['datetime'].dt.year\n",
    "baskets['month'] = baskets['datetime'].dt.month\n",
    "baskets['day'] = baskets['datetime'].dt.day\n",
    "baskets['hour'] = baskets['datetime'].dt.hour\n",
    "baskets['weekday'] = baskets['datetime'].dt.weekday"
   ]
  },
  {
   "cell_type": "markdown",
   "id": "428b77ab-3177-460d-a677-0d7d8d6de410",
   "metadata": {},
   "source": [
    "#### Start by finding top buyers in terms of total amount spent."
   ]
  },
  {
   "cell_type": "code",
   "execution_count": 138,
   "id": "18433a9f-7d3d-4258-a890-a10254e43426",
   "metadata": {},
   "outputs": [],
   "source": [
    "baskets['spent'] = baskets['price'] * baskets['qty']"
   ]
  },
  {
   "cell_type": "code",
   "execution_count": 139,
   "id": "29f77b5d-a805-4e2a-a376-ef0fc71eef69",
   "metadata": {},
   "outputs": [
    {
     "data": {
      "text/html": [
       "<div>\n",
       "<style scoped>\n",
       "    .dataframe tbody tr th:only-of-type {\n",
       "        vertical-align: middle;\n",
       "    }\n",
       "\n",
       "    .dataframe tbody tr th {\n",
       "        vertical-align: top;\n",
       "    }\n",
       "\n",
       "    .dataframe thead th {\n",
       "        text-align: right;\n",
       "    }\n",
       "</style>\n",
       "<table border=\"1\" class=\"dataframe\">\n",
       "  <thead>\n",
       "    <tr style=\"text-align: right;\">\n",
       "      <th></th>\n",
       "      <th>id</th>\n",
       "      <th>order_id</th>\n",
       "      <th>merchant_id</th>\n",
       "      <th>sku_id</th>\n",
       "      <th>top_cat_id</th>\n",
       "      <th>sub_cat_id</th>\n",
       "      <th>qty</th>\n",
       "      <th>price</th>\n",
       "      <th>year</th>\n",
       "      <th>month</th>\n",
       "      <th>day</th>\n",
       "      <th>hour</th>\n",
       "      <th>weekday</th>\n",
       "      <th>spent</th>\n",
       "    </tr>\n",
       "  </thead>\n",
       "  <tbody>\n",
       "    <tr>\n",
       "      <th>count</th>\n",
       "      <td>29305.000000</td>\n",
       "      <td>29305.000000</td>\n",
       "      <td>29305.000000</td>\n",
       "      <td>29305.000000</td>\n",
       "      <td>29298.000000</td>\n",
       "      <td>29298.000000</td>\n",
       "      <td>2.930500e+04</td>\n",
       "      <td>2.930500e+04</td>\n",
       "      <td>29305.000000</td>\n",
       "      <td>29305.000000</td>\n",
       "      <td>29305.000000</td>\n",
       "      <td>29305.000000</td>\n",
       "      <td>29305.000000</td>\n",
       "      <td>2.930500e+04</td>\n",
       "    </tr>\n",
       "    <tr>\n",
       "      <th>mean</th>\n",
       "      <td>162948.006825</td>\n",
       "      <td>27337.267838</td>\n",
       "      <td>1061.053574</td>\n",
       "      <td>977.588671</td>\n",
       "      <td>10.860946</td>\n",
       "      <td>50.808485</td>\n",
       "      <td>6.921692e+03</td>\n",
       "      <td>1.379133e+05</td>\n",
       "      <td>2021.487903</td>\n",
       "      <td>6.817608</td>\n",
       "      <td>16.348405</td>\n",
       "      <td>12.932196</td>\n",
       "      <td>2.666303</td>\n",
       "      <td>5.621916e+05</td>\n",
       "    </tr>\n",
       "    <tr>\n",
       "      <th>std</th>\n",
       "      <td>95745.525000</td>\n",
       "      <td>18450.495064</td>\n",
       "      <td>761.056051</td>\n",
       "      <td>348.157681</td>\n",
       "      <td>8.353926</td>\n",
       "      <td>31.280838</td>\n",
       "      <td>1.168396e+06</td>\n",
       "      <td>1.355361e+05</td>\n",
       "      <td>0.499862</td>\n",
       "      <td>4.009774</td>\n",
       "      <td>8.976516</td>\n",
       "      <td>3.931298</td>\n",
       "      <td>1.795167</td>\n",
       "      <td>2.343982e+06</td>\n",
       "    </tr>\n",
       "    <tr>\n",
       "      <th>min</th>\n",
       "      <td>126.000000</td>\n",
       "      <td>23.000000</td>\n",
       "      <td>10.000000</td>\n",
       "      <td>5.000000</td>\n",
       "      <td>1.000000</td>\n",
       "      <td>1.000000</td>\n",
       "      <td>1.000000e+00</td>\n",
       "      <td>0.000000e+00</td>\n",
       "      <td>2021.000000</td>\n",
       "      <td>1.000000</td>\n",
       "      <td>1.000000</td>\n",
       "      <td>0.000000</td>\n",
       "      <td>0.000000</td>\n",
       "      <td>0.000000e+00</td>\n",
       "    </tr>\n",
       "    <tr>\n",
       "      <th>25%</th>\n",
       "      <td>80106.000000</td>\n",
       "      <td>10296.000000</td>\n",
       "      <td>352.000000</td>\n",
       "      <td>755.000000</td>\n",
       "      <td>4.000000</td>\n",
       "      <td>30.000000</td>\n",
       "      <td>1.000000e+00</td>\n",
       "      <td>4.550000e+04</td>\n",
       "      <td>2021.000000</td>\n",
       "      <td>3.000000</td>\n",
       "      <td>8.000000</td>\n",
       "      <td>10.000000</td>\n",
       "      <td>1.000000</td>\n",
       "      <td>1.230000e+05</td>\n",
       "    </tr>\n",
       "    <tr>\n",
       "      <th>50%</th>\n",
       "      <td>158748.000000</td>\n",
       "      <td>25824.000000</td>\n",
       "      <td>934.000000</td>\n",
       "      <td>875.000000</td>\n",
       "      <td>9.000000</td>\n",
       "      <td>48.000000</td>\n",
       "      <td>2.000000e+00</td>\n",
       "      <td>1.070000e+05</td>\n",
       "      <td>2021.000000</td>\n",
       "      <td>7.000000</td>\n",
       "      <td>17.000000</td>\n",
       "      <td>13.000000</td>\n",
       "      <td>3.000000</td>\n",
       "      <td>2.230000e+05</td>\n",
       "    </tr>\n",
       "    <tr>\n",
       "      <th>75%</th>\n",
       "      <td>242651.000000</td>\n",
       "      <td>43776.000000</td>\n",
       "      <td>1717.000000</td>\n",
       "      <td>1055.000000</td>\n",
       "      <td>15.000000</td>\n",
       "      <td>79.000000</td>\n",
       "      <td>5.000000e+00</td>\n",
       "      <td>1.845000e+05</td>\n",
       "      <td>2022.000000</td>\n",
       "      <td>11.000000</td>\n",
       "      <td>24.000000</td>\n",
       "      <td>15.000000</td>\n",
       "      <td>4.000000</td>\n",
       "      <td>4.860000e+05</td>\n",
       "    </tr>\n",
       "    <tr>\n",
       "      <th>max</th>\n",
       "      <td>338874.000000</td>\n",
       "      <td>61439.000000</td>\n",
       "      <td>3160.000000</td>\n",
       "      <td>2383.000000</td>\n",
       "      <td>35.000000</td>\n",
       "      <td>108.000000</td>\n",
       "      <td>2.000000e+08</td>\n",
       "      <td>2.175000e+06</td>\n",
       "      <td>2022.000000</td>\n",
       "      <td>12.000000</td>\n",
       "      <td>31.000000</td>\n",
       "      <td>23.000000</td>\n",
       "      <td>6.000000</td>\n",
       "      <td>2.775000e+08</td>\n",
       "    </tr>\n",
       "  </tbody>\n",
       "</table>\n",
       "</div>"
      ],
      "text/plain": [
       "                  id      order_id   merchant_id        sku_id    top_cat_id  \\\n",
       "count   29305.000000  29305.000000  29305.000000  29305.000000  29298.000000   \n",
       "mean   162948.006825  27337.267838   1061.053574    977.588671     10.860946   \n",
       "std     95745.525000  18450.495064    761.056051    348.157681      8.353926   \n",
       "min       126.000000     23.000000     10.000000      5.000000      1.000000   \n",
       "25%     80106.000000  10296.000000    352.000000    755.000000      4.000000   \n",
       "50%    158748.000000  25824.000000    934.000000    875.000000      9.000000   \n",
       "75%    242651.000000  43776.000000   1717.000000   1055.000000     15.000000   \n",
       "max    338874.000000  61439.000000   3160.000000   2383.000000     35.000000   \n",
       "\n",
       "         sub_cat_id           qty         price          year         month  \\\n",
       "count  29298.000000  2.930500e+04  2.930500e+04  29305.000000  29305.000000   \n",
       "mean      50.808485  6.921692e+03  1.379133e+05   2021.487903      6.817608   \n",
       "std       31.280838  1.168396e+06  1.355361e+05      0.499862      4.009774   \n",
       "min        1.000000  1.000000e+00  0.000000e+00   2021.000000      1.000000   \n",
       "25%       30.000000  1.000000e+00  4.550000e+04   2021.000000      3.000000   \n",
       "50%       48.000000  2.000000e+00  1.070000e+05   2021.000000      7.000000   \n",
       "75%       79.000000  5.000000e+00  1.845000e+05   2022.000000     11.000000   \n",
       "max      108.000000  2.000000e+08  2.175000e+06   2022.000000     12.000000   \n",
       "\n",
       "                day          hour       weekday         spent  \n",
       "count  29305.000000  29305.000000  29305.000000  2.930500e+04  \n",
       "mean      16.348405     12.932196      2.666303  5.621916e+05  \n",
       "std        8.976516      3.931298      1.795167  2.343982e+06  \n",
       "min        1.000000      0.000000      0.000000  0.000000e+00  \n",
       "25%        8.000000     10.000000      1.000000  1.230000e+05  \n",
       "50%       17.000000     13.000000      3.000000  2.230000e+05  \n",
       "75%       24.000000     15.000000      4.000000  4.860000e+05  \n",
       "max       31.000000     23.000000      6.000000  2.775000e+08  "
      ]
     },
     "execution_count": 139,
     "metadata": {},
     "output_type": "execute_result"
    }
   ],
   "source": [
    "baskets.describe()"
   ]
  },
  {
   "cell_type": "markdown",
   "id": "251d8c2e-3057-49b9-b72e-f4fec89c126d",
   "metadata": {},
   "source": [
    "Remove first 5 months of data from dataframe."
   ]
  },
  {
   "cell_type": "code",
   "execution_count": 140,
   "id": "8556e320-6a79-46f5-83e3-c2caac189a97",
   "metadata": {},
   "outputs": [
    {
     "data": {
      "text/plain": [
       "datetime.date(2022, 7, 31)"
      ]
     },
     "execution_count": 140,
     "metadata": {},
     "output_type": "execute_result"
    }
   ],
   "source": [
    "baskets.date.min()\n",
    "baskets.date.max()"
   ]
  },
  {
   "cell_type": "code",
   "execution_count": 141,
   "id": "e19cd789-2ffa-4ce3-8266-355192cc2e90",
   "metadata": {},
   "outputs": [],
   "source": [
    "baskets = baskets[baskets['date'] > pd.to_datetime('2021-7-31').date()]"
   ]
  },
  {
   "cell_type": "code",
   "execution_count": 142,
   "id": "166d8915-5cd7-4511-9b1c-40ec5840960c",
   "metadata": {},
   "outputs": [
    {
     "data": {
      "text/plain": [
       "datetime.date(2022, 7, 31)"
      ]
     },
     "execution_count": 142,
     "metadata": {},
     "output_type": "execute_result"
    }
   ],
   "source": [
    "baskets.date.min()\n",
    "baskets.date.max()"
   ]
  },
  {
   "cell_type": "markdown",
   "id": "b36cdc82-1775-4ecb-a3e2-b09fed670760",
   "metadata": {},
   "source": [
    "Find total amount spent by each merchant and sort highest to lowest."
   ]
  },
  {
   "cell_type": "code",
   "execution_count": 143,
   "id": "b6ee01d2-6435-4741-994e-ced4a6464ad6",
   "metadata": {},
   "outputs": [
    {
     "data": {
      "text/plain": [
       "merchant_id\n",
       "488     1.405221e+09\n",
       "352     1.306918e+09\n",
       "664     4.993791e+08\n",
       "934     4.501614e+08\n",
       "1497    3.997520e+08\n",
       "            ...     \n",
       "1811    1.100000e+05\n",
       "1402    1.080000e+05\n",
       "1608    8.000000e+04\n",
       "1853    7.500000e+04\n",
       "1806    6.760000e+04\n",
       "Name: spent, Length: 316, dtype: float64"
      ]
     },
     "execution_count": 143,
     "metadata": {},
     "output_type": "execute_result"
    }
   ],
   "source": [
    "baskets.groupby('merchant_id').spent.sum().sort_values(ascending = False)"
   ]
  },
  {
   "cell_type": "markdown",
   "id": "c588aa6d-4260-48af-806c-3fdc28b3467e",
   "metadata": {},
   "source": [
    "Notice that the top 5 most spending merchants are 488,352,134,664,168. Lets plot their spending over time to see if they are consistent spenders."
   ]
  },
  {
   "cell_type": "code",
   "execution_count": 144,
   "id": "296ef09e-e153-4e42-82eb-6f644603e70b",
   "metadata": {},
   "outputs": [],
   "source": [
    "baskets['month_order'] = baskets['year']*12 + baskets['month']"
   ]
  },
  {
   "cell_type": "markdown",
   "id": "2a8d65f3-a359-43ce-af06-6f0da83d86eb",
   "metadata": {},
   "source": [
    "Created month_order to reindex data to start at end of july"
   ]
  },
  {
   "cell_type": "markdown",
   "id": "b10a6feb-9488-4efa-a73f-55891cd2abc4",
   "metadata": {},
   "source": [
    "Created options to parse through top 5 spenders"
   ]
  },
  {
   "cell_type": "code",
   "execution_count": 145,
   "id": "f99c31e3-24c1-4fa9-ab1b-838330d9aeae",
   "metadata": {},
   "outputs": [],
   "source": [
    "options = [488,352,664,934,1497]"
   ]
  },
  {
   "cell_type": "code",
   "execution_count": 146,
   "id": "80c1e607-efe3-47c2-9391-18041891af97",
   "metadata": {},
   "outputs": [
    {
     "data": {
      "image/png": "[encoded data removed]",
      "text/plain": [
       "<Figure size 432x288 with 1 Axes>"
      ]
     },
     "metadata": {
      "needs_background": "light"
     },
     "output_type": "display_data"
    }
   ],
   "source": [
    "for i in range(5):\n",
    "    baskets[baskets['merchant_id']==options[i]].groupby('month_order')['spent'].sum().plot().legend([488,352,664,934,1497],fancybox = True)\n"
   ]
  },
  {
   "cell_type": "markdown",
   "id": "9f612701-48dd-47f8-9c23-ed3decc38033",
   "metadata": {},
   "source": [
    "Notice that 488 and 352 seem to follow dip in spring-summer (Ramadon?)\n",
    "352 is inconsistent while 934 is very consistent.\n",
    "664 seems to not have ordered in a while. Lets see."
   ]
  },
  {
   "cell_type": "code",
   "execution_count": 147,
   "id": "c6402b96-ff7d-42d4-aab3-1b0c45ab1674",
   "metadata": {},
   "outputs": [
    {
     "data": {
      "text/plain": [
       "datetime.date(2022, 4, 29)"
      ]
     },
     "execution_count": 147,
     "metadata": {},
     "output_type": "execute_result"
    }
   ],
   "source": [
    "baskets[baskets['merchant_id'] == 664].date.max()"
   ]
  },
  {
   "cell_type": "markdown",
   "id": "feafd59e-421b-48f5-8fba-5997da8c68d0",
   "metadata": {},
   "source": [
    "This buyer has not made a purchase since April 2022, though we have data until July. Why is this?"
   ]
  },
  {
   "cell_type": "markdown",
   "id": "2da08af3-d945-4e7f-8b22-3d6c133116b5",
   "metadata": {},
   "source": [
    "More questions: \n",
    "- What sku's are 488 & 352 buying that makes them less likely to buy during Ramadon?\n",
    "- Who spent the most in just the last month?\n",
    "- Who spent the most in the last 6 months?"
   ]
  },
  {
   "cell_type": "markdown",
   "id": "5835b3ca-2a65-474a-b0a5-12c5a946a492",
   "metadata": {},
   "source": [
    "## Let's compare spending in the last 6 months. Will the same buyers be in the list?"
   ]
  },
  {
   "cell_type": "code",
   "execution_count": 151,
   "id": "aece69d3-b395-4d92-9b3d-c395c6a71dae",
   "metadata": {},
   "outputs": [],
   "source": [
    "sixbaskets = baskets[baskets['month_order'] > 24265]"
   ]
  },
  {
   "cell_type": "code",
   "execution_count": 152,
   "id": "083ddce8-2493-4fd9-9abf-27a1ed0d6349",
   "metadata": {},
   "outputs": [
    {
     "data": {
      "text/html": [
       "<div>\n",
       "<style scoped>\n",
       "    .dataframe tbody tr th:only-of-type {\n",
       "        vertical-align: middle;\n",
       "    }\n",
       "\n",
       "    .dataframe tbody tr th {\n",
       "        vertical-align: top;\n",
       "    }\n",
       "\n",
       "    .dataframe thead th {\n",
       "        text-align: right;\n",
       "    }\n",
       "</style>\n",
       "<table border=\"1\" class=\"dataframe\">\n",
       "  <thead>\n",
       "    <tr style=\"text-align: right;\">\n",
       "      <th></th>\n",
       "      <th>id</th>\n",
       "      <th>order_id</th>\n",
       "      <th>placed_at</th>\n",
       "      <th>merchant_id</th>\n",
       "      <th>sku_id</th>\n",
       "      <th>top_cat_id</th>\n",
       "      <th>sub_cat_id</th>\n",
       "      <th>qty</th>\n",
       "      <th>price</th>\n",
       "      <th>datetime</th>\n",
       "      <th>date</th>\n",
       "      <th>year</th>\n",
       "      <th>month</th>\n",
       "      <th>day</th>\n",
       "      <th>hour</th>\n",
       "      <th>weekday</th>\n",
       "      <th>spent</th>\n",
       "      <th>month_order</th>\n",
       "    </tr>\n",
       "  </thead>\n",
       "  <tbody>\n",
       "    <tr>\n",
       "      <th>18361</th>\n",
       "      <td>199371</td>\n",
       "      <td>33900</td>\n",
       "      <td>2022-02-01 04:59:15.772</td>\n",
       "      <td>1970</td>\n",
       "      <td>812</td>\n",
       "      <td>9.0</td>\n",
       "      <td>48.0</td>\n",
       "      <td>1</td>\n",
       "      <td>100500.0</td>\n",
       "      <td>2022-02-01 04:59:15.772</td>\n",
       "      <td>2022-02-01</td>\n",
       "      <td>2022</td>\n",
       "      <td>2</td>\n",
       "      <td>1</td>\n",
       "      <td>4</td>\n",
       "      <td>1</td>\n",
       "      <td>100500.0</td>\n",
       "      <td>24266</td>\n",
       "    </tr>\n",
       "    <tr>\n",
       "      <th>18362</th>\n",
       "      <td>199372</td>\n",
       "      <td>33900</td>\n",
       "      <td>2022-02-01 04:59:15.772</td>\n",
       "      <td>1970</td>\n",
       "      <td>814</td>\n",
       "      <td>9.0</td>\n",
       "      <td>48.0</td>\n",
       "      <td>1</td>\n",
       "      <td>100500.0</td>\n",
       "      <td>2022-02-01 04:59:15.772</td>\n",
       "      <td>2022-02-01</td>\n",
       "      <td>2022</td>\n",
       "      <td>2</td>\n",
       "      <td>1</td>\n",
       "      <td>4</td>\n",
       "      <td>1</td>\n",
       "      <td>100500.0</td>\n",
       "      <td>24266</td>\n",
       "    </tr>\n",
       "    <tr>\n",
       "      <th>18363</th>\n",
       "      <td>199373</td>\n",
       "      <td>33900</td>\n",
       "      <td>2022-02-01 04:59:15.772</td>\n",
       "      <td>1970</td>\n",
       "      <td>817</td>\n",
       "      <td>9.0</td>\n",
       "      <td>48.0</td>\n",
       "      <td>1</td>\n",
       "      <td>100500.0</td>\n",
       "      <td>2022-02-01 04:59:15.772</td>\n",
       "      <td>2022-02-01</td>\n",
       "      <td>2022</td>\n",
       "      <td>2</td>\n",
       "      <td>1</td>\n",
       "      <td>4</td>\n",
       "      <td>1</td>\n",
       "      <td>100500.0</td>\n",
       "      <td>24266</td>\n",
       "    </tr>\n",
       "    <tr>\n",
       "      <th>18364</th>\n",
       "      <td>199462</td>\n",
       "      <td>33307</td>\n",
       "      <td>2022-02-01 11:33:33.134</td>\n",
       "      <td>600</td>\n",
       "      <td>1622</td>\n",
       "      <td>4.0</td>\n",
       "      <td>57.0</td>\n",
       "      <td>5</td>\n",
       "      <td>160000.0</td>\n",
       "      <td>2022-02-01 11:33:33.134</td>\n",
       "      <td>2022-02-01</td>\n",
       "      <td>2022</td>\n",
       "      <td>2</td>\n",
       "      <td>1</td>\n",
       "      <td>11</td>\n",
       "      <td>1</td>\n",
       "      <td>800000.0</td>\n",
       "      <td>24266</td>\n",
       "    </tr>\n",
       "    <tr>\n",
       "      <th>18365</th>\n",
       "      <td>199463</td>\n",
       "      <td>33307</td>\n",
       "      <td>2022-02-01 11:33:33.134</td>\n",
       "      <td>600</td>\n",
       "      <td>1741</td>\n",
       "      <td>4.0</td>\n",
       "      <td>57.0</td>\n",
       "      <td>5</td>\n",
       "      <td>161000.0</td>\n",
       "      <td>2022-02-01 11:33:33.134</td>\n",
       "      <td>2022-02-01</td>\n",
       "      <td>2022</td>\n",
       "      <td>2</td>\n",
       "      <td>1</td>\n",
       "      <td>11</td>\n",
       "      <td>1</td>\n",
       "      <td>805000.0</td>\n",
       "      <td>24266</td>\n",
       "    </tr>\n",
       "  </tbody>\n",
       "</table>\n",
       "</div>"
      ],
      "text/plain": [
       "           id  order_id                placed_at  merchant_id  sku_id  \\\n",
       "18361  199371     33900  2022-02-01 04:59:15.772         1970     812   \n",
       "18362  199372     33900  2022-02-01 04:59:15.772         1970     814   \n",
       "18363  199373     33900  2022-02-01 04:59:15.772         1970     817   \n",
       "18364  199462     33307  2022-02-01 11:33:33.134          600    1622   \n",
       "18365  199463     33307  2022-02-01 11:33:33.134          600    1741   \n",
       "\n",
       "       top_cat_id  sub_cat_id  qty     price                datetime  \\\n",
       "18361         9.0        48.0    1  100500.0 2022-02-01 04:59:15.772   \n",
       "18362         9.0        48.0    1  100500.0 2022-02-01 04:59:15.772   \n",
       "18363         9.0        48.0    1  100500.0 2022-02-01 04:59:15.772   \n",
       "18364         4.0        57.0    5  160000.0 2022-02-01 11:33:33.134   \n",
       "18365         4.0        57.0    5  161000.0 2022-02-01 11:33:33.134   \n",
       "\n",
       "             date  year  month  day  hour  weekday     spent  month_order  \n",
       "18361  2022-02-01  2022      2    1     4        1  100500.0        24266  \n",
       "18362  2022-02-01  2022      2    1     4        1  100500.0        24266  \n",
       "18363  2022-02-01  2022      2    1     4        1  100500.0        24266  \n",
       "18364  2022-02-01  2022      2    1    11        1  800000.0        24266  \n",
       "18365  2022-02-01  2022      2    1    11        1  805000.0        24266  "
      ]
     },
     "execution_count": 152,
     "metadata": {},
     "output_type": "execute_result"
    }
   ],
   "source": [
    "sixbaskets.head()"
   ]
  },
  {
   "cell_type": "code",
   "execution_count": 153,
   "id": "aad3fa7a-886d-4f73-95d4-3063e39fefae",
   "metadata": {},
   "outputs": [
    {
     "data": {
      "text/plain": [
       "merchant_id\n",
       "488     827635175.0\n",
       "352     733581500.0\n",
       "934     295872000.0\n",
       "1497    246809000.0\n",
       "1951    201736948.0\n",
       "           ...     \n",
       "1648       200000.0\n",
       "2735       193600.0\n",
       "3043       188400.0\n",
       "2947       154476.0\n",
       "46         120000.0\n",
       "Name: spent, Length: 212, dtype: float64"
      ]
     },
     "execution_count": 153,
     "metadata": {},
     "output_type": "execute_result"
    }
   ],
   "source": [
    "sixbaskets.groupby('merchant_id').spent.sum().sort_values(ascending = False)"
   ]
  },
  {
   "cell_type": "markdown",
   "id": "53c72b14-7792-4a45-8d1a-47b56ffe9671",
   "metadata": {},
   "source": [
    "Top spenders are merchant_id's 488,352,934,1497,1951"
   ]
  },
  {
   "cell_type": "code",
   "execution_count": 154,
   "id": "e52af539-6653-4af1-bd26-35990e4a5f2c",
   "metadata": {},
   "outputs": [],
   "source": [
    "options = [488,352,934,1497,1951]"
   ]
  },
  {
   "cell_type": "code",
   "execution_count": 158,
   "id": "77c6b6f5-c755-4d9e-b66b-7303ff3bbdd8",
   "metadata": {},
   "outputs": [
    {
     "data": {
      "image/png": "[encoded data removed]",
      "text/plain": [
       "<Figure size 432x288 with 1 Axes>"
      ]
     },
     "metadata": {
      "needs_background": "light"
     },
     "output_type": "display_data"
    }
   ],
   "source": [
    "for i in range(5):\n",
    "    sixbaskets[sixbaskets['merchant_id']==options[i]].groupby('month_order')['spent'].sum().plot().legend([488,352,934,1497,1951],fancybox = True)\n"
   ]
  },
  {
   "cell_type": "markdown",
   "id": "143f8581-7d65-410a-adf0-7a6fd6f5930d",
   "metadata": {},
   "source": [
    "It looks like merchant 1951 has increased spending quite a bit in the last 6 months. Let's track their spending over the year. "
   ]
  },
  {
   "cell_type": "code",
   "execution_count": 163,
   "id": "6045f52a-a866-4ebc-af70-17c0431c1bd6",
   "metadata": {},
   "outputs": [
    {
     "data": {
      "text/plain": [
       "datetime.date(2021, 11, 16)"
      ]
     },
     "execution_count": 163,
     "metadata": {},
     "output_type": "execute_result"
    }
   ],
   "source": [
    "baskets[baskets['merchant_id']==1951].date.min()"
   ]
  },
  {
   "cell_type": "markdown",
   "id": "7f98b5cc-cb40-4cb7-8c02-915f7a084c10",
   "metadata": {},
   "source": [
    "Their first order was in november of 2021, so if they are a high spender now it makes sense that their average would not be high enough to make the top five for the whole year. "
   ]
  },
  {
   "cell_type": "code",
   "execution_count": 165,
   "id": "16b92edf-5773-4833-8886-00b83affaef8",
   "metadata": {},
   "outputs": [
    {
     "data": {
      "text/plain": [
       "month\n",
       "1     AxesSubplot(0.125,0.125;0.775x0.755)\n",
       "2     AxesSubplot(0.125,0.125;0.775x0.755)\n",
       "3     AxesSubplot(0.125,0.125;0.775x0.755)\n",
       "4     AxesSubplot(0.125,0.125;0.775x0.755)\n",
       "5     AxesSubplot(0.125,0.125;0.775x0.755)\n",
       "6     AxesSubplot(0.125,0.125;0.775x0.755)\n",
       "7     AxesSubplot(0.125,0.125;0.775x0.755)\n",
       "11    AxesSubplot(0.125,0.125;0.775x0.755)\n",
       "12    AxesSubplot(0.125,0.125;0.775x0.755)\n",
       "Name: spent, dtype: object"
      ]
     },
     "execution_count": 165,
     "metadata": {},
     "output_type": "execute_result"
    },
    {
     "data": {
      "image/png": "[encoded data removed]",
      "text/plain": [
       "<Figure size 432x288 with 1 Axes>"
      ]
     },
     "metadata": {
      "needs_background": "light"
     },
     "output_type": "display_data"
    }
   ],
   "source": [
    "baskets[baskets['merchant_id']==1951].groupby('month')['spent'].plot()"
   ]
  },
  {
   "cell_type": "code",
   "execution_count": 166,
   "id": "4009736c-f034-41a4-b3a0-d0e711a1ad3c",
   "metadata": {},
   "outputs": [
    {
     "data": {
      "text/html": [
       "<div>\n",
       "<style scoped>\n",
       "    .dataframe tbody tr th:only-of-type {\n",
       "        vertical-align: middle;\n",
       "    }\n",
       "\n",
       "    .dataframe tbody tr th {\n",
       "        vertical-align: top;\n",
       "    }\n",
       "\n",
       "    .dataframe thead th {\n",
       "        text-align: right;\n",
       "    }\n",
       "</style>\n",
       "<table border=\"1\" class=\"dataframe\">\n",
       "  <thead>\n",
       "    <tr style=\"text-align: right;\">\n",
       "      <th></th>\n",
       "      <th>id</th>\n",
       "      <th>order_id</th>\n",
       "      <th>placed_at</th>\n",
       "      <th>merchant_id</th>\n",
       "      <th>sku_id</th>\n",
       "      <th>top_cat_id</th>\n",
       "      <th>sub_cat_id</th>\n",
       "      <th>qty</th>\n",
       "      <th>price</th>\n",
       "      <th>datetime</th>\n",
       "      <th>date</th>\n",
       "      <th>year</th>\n",
       "      <th>month</th>\n",
       "      <th>day</th>\n",
       "      <th>hour</th>\n",
       "      <th>weekday</th>\n",
       "      <th>spent</th>\n",
       "      <th>month_order</th>\n",
       "    </tr>\n",
       "  </thead>\n",
       "  <tbody>\n",
       "    <tr>\n",
       "      <th>9305</th>\n",
       "      <td>102074</td>\n",
       "      <td>14286</td>\n",
       "      <td>2021-11-16 12:42:11.757</td>\n",
       "      <td>1951</td>\n",
       "      <td>875</td>\n",
       "      <td>3.0</td>\n",
       "      <td>80.0</td>\n",
       "      <td>1</td>\n",
       "      <td>187000.0</td>\n",
       "      <td>2021-11-16 12:42:11.757</td>\n",
       "      <td>2021-11-16</td>\n",
       "      <td>2021</td>\n",
       "      <td>11</td>\n",
       "      <td>16</td>\n",
       "      <td>12</td>\n",
       "      <td>1</td>\n",
       "      <td>187000.0</td>\n",
       "      <td>24263</td>\n",
       "    </tr>\n",
       "    <tr>\n",
       "      <th>9306</th>\n",
       "      <td>102075</td>\n",
       "      <td>14286</td>\n",
       "      <td>2021-11-16 12:42:11.757</td>\n",
       "      <td>1951</td>\n",
       "      <td>857</td>\n",
       "      <td>4.0</td>\n",
       "      <td>57.0</td>\n",
       "      <td>1</td>\n",
       "      <td>205000.0</td>\n",
       "      <td>2021-11-16 12:42:11.757</td>\n",
       "      <td>2021-11-16</td>\n",
       "      <td>2021</td>\n",
       "      <td>11</td>\n",
       "      <td>16</td>\n",
       "      <td>12</td>\n",
       "      <td>1</td>\n",
       "      <td>205000.0</td>\n",
       "      <td>24263</td>\n",
       "    </tr>\n",
       "    <tr>\n",
       "      <th>9307</th>\n",
       "      <td>102076</td>\n",
       "      <td>14286</td>\n",
       "      <td>2021-11-16 12:42:11.757</td>\n",
       "      <td>1951</td>\n",
       "      <td>856</td>\n",
       "      <td>4.0</td>\n",
       "      <td>57.0</td>\n",
       "      <td>5</td>\n",
       "      <td>206000.0</td>\n",
       "      <td>2021-11-16 12:42:11.757</td>\n",
       "      <td>2021-11-16</td>\n",
       "      <td>2021</td>\n",
       "      <td>11</td>\n",
       "      <td>16</td>\n",
       "      <td>12</td>\n",
       "      <td>1</td>\n",
       "      <td>1030000.0</td>\n",
       "      <td>24263</td>\n",
       "    </tr>\n",
       "    <tr>\n",
       "      <th>9308</th>\n",
       "      <td>102077</td>\n",
       "      <td>14286</td>\n",
       "      <td>2021-11-16 12:42:11.757</td>\n",
       "      <td>1951</td>\n",
       "      <td>625</td>\n",
       "      <td>19.0</td>\n",
       "      <td>77.0</td>\n",
       "      <td>3</td>\n",
       "      <td>61000.0</td>\n",
       "      <td>2021-11-16 12:42:11.757</td>\n",
       "      <td>2021-11-16</td>\n",
       "      <td>2021</td>\n",
       "      <td>11</td>\n",
       "      <td>16</td>\n",
       "      <td>12</td>\n",
       "      <td>1</td>\n",
       "      <td>183000.0</td>\n",
       "      <td>24263</td>\n",
       "    </tr>\n",
       "    <tr>\n",
       "      <th>10781</th>\n",
       "      <td>120432</td>\n",
       "      <td>18020</td>\n",
       "      <td>2021-11-29 07:19:01.107</td>\n",
       "      <td>1951</td>\n",
       "      <td>615</td>\n",
       "      <td>1.0</td>\n",
       "      <td>13.0</td>\n",
       "      <td>10</td>\n",
       "      <td>44500.0</td>\n",
       "      <td>2021-11-29 07:19:01.107</td>\n",
       "      <td>2021-11-29</td>\n",
       "      <td>2021</td>\n",
       "      <td>11</td>\n",
       "      <td>29</td>\n",
       "      <td>7</td>\n",
       "      <td>0</td>\n",
       "      <td>445000.0</td>\n",
       "      <td>24263</td>\n",
       "    </tr>\n",
       "  </tbody>\n",
       "</table>\n",
       "</div>"
      ],
      "text/plain": [
       "           id  order_id                placed_at  merchant_id  sku_id  \\\n",
       "9305   102074     14286  2021-11-16 12:42:11.757         1951     875   \n",
       "9306   102075     14286  2021-11-16 12:42:11.757         1951     857   \n",
       "9307   102076     14286  2021-11-16 12:42:11.757         1951     856   \n",
       "9308   102077     14286  2021-11-16 12:42:11.757         1951     625   \n",
       "10781  120432     18020  2021-11-29 07:19:01.107         1951     615   \n",
       "\n",
       "       top_cat_id  sub_cat_id  qty     price                datetime  \\\n",
       "9305          3.0        80.0    1  187000.0 2021-11-16 12:42:11.757   \n",
       "9306          4.0        57.0    1  205000.0 2021-11-16 12:42:11.757   \n",
       "9307          4.0        57.0    5  206000.0 2021-11-16 12:42:11.757   \n",
       "9308         19.0        77.0    3   61000.0 2021-11-16 12:42:11.757   \n",
       "10781         1.0        13.0   10   44500.0 2021-11-29 07:19:01.107   \n",
       "\n",
       "             date  year  month  day  hour  weekday      spent  month_order  \n",
       "9305   2021-11-16  2021     11   16    12        1   187000.0        24263  \n",
       "9306   2021-11-16  2021     11   16    12        1   205000.0        24263  \n",
       "9307   2021-11-16  2021     11   16    12        1  1030000.0        24263  \n",
       "9308   2021-11-16  2021     11   16    12        1   183000.0        24263  \n",
       "10781  2021-11-29  2021     11   29     7        0   445000.0        24263  "
      ]
     },
     "execution_count": 166,
     "metadata": {},
     "output_type": "execute_result"
    }
   ],
   "source": [
    "baskets[baskets['merchant_id']==1951].head()"
   ]
  },
  {
   "cell_type": "code",
   "execution_count": 167,
   "id": "64364004-6fd0-4cd4-a0bc-703941f75dbf",
   "metadata": {},
   "outputs": [
    {
     "data": {
      "text/plain": [
       "69375000.0"
      ]
     },
     "execution_count": 167,
     "metadata": {},
     "output_type": "execute_result"
    }
   ],
   "source": [
    "baskets[baskets['merchant_id']==1951].spent.max()"
   ]
  },
  {
   "cell_type": "code",
   "execution_count": 168,
   "id": "48fbda12-d859-4093-8d36-a2c1115ee142",
   "metadata": {},
   "outputs": [
    {
     "data": {
      "text/plain": [
       "78000000.0"
      ]
     },
     "execution_count": 168,
     "metadata": {},
     "output_type": "execute_result"
    }
   ],
   "source": [
    "baskets.spent.max()"
   ]
  },
  {
   "cell_type": "code",
   "execution_count": 170,
   "id": "dac6cc03-e70d-4b5a-8414-1b1442560e6f",
   "metadata": {},
   "outputs": [
    {
     "data": {
      "text/plain": [
       "530322.510988237"
      ]
     },
     "execution_count": 170,
     "metadata": {},
     "output_type": "execute_result"
    }
   ],
   "source": [
    "baskets.spent.mean()"
   ]
  },
  {
   "cell_type": "code",
   "execution_count": 171,
   "id": "42f80603-4ecb-47ed-8bba-4c07f8e3fe2c",
   "metadata": {},
   "outputs": [
    {
     "data": {
      "text/plain": [
       "410537.4037037037"
      ]
     },
     "execution_count": 171,
     "metadata": {},
     "output_type": "execute_result"
    }
   ],
   "source": [
    "baskets[baskets['merchant_id']==1951].spent.mean()"
   ]
  },
  {
   "cell_type": "markdown",
   "id": "8941a537-73ca-44d0-bf74-c6fcac0d6da3",
   "metadata": {},
   "source": [
    "Comparing 1951's usual behavior and the behavior of the data as a whole, they made an unsually large order this past six months, which put them in the top 5 buyers. The order was placed on April 26, and was for item # 734, which is a very expensive item that they bought 50 of. This is right in the middle of ramadon, I wonder which category it was in? The sub_cat is 30.0, and the top_cat_id is 12.0. This is very notable and shows that this is not a consistent top buyer. 1951 made a one time purchase, but since they are not in the top buying group for consistency, they are not relevant to the company's desire to retain loyal customers. "
   ]
  },
  {
   "cell_type": "code",
   "execution_count": 174,
   "id": "652925cf-56b3-42f7-9cbd-6488a8369c28",
   "metadata": {},
   "outputs": [
    {
     "data": {
      "text/html": [
       "<div>\n",
       "<style scoped>\n",
       "    .dataframe tbody tr th:only-of-type {\n",
       "        vertical-align: middle;\n",
       "    }\n",
       "\n",
       "    .dataframe tbody tr th {\n",
       "        vertical-align: top;\n",
       "    }\n",
       "\n",
       "    .dataframe thead th {\n",
       "        text-align: right;\n",
       "    }\n",
       "</style>\n",
       "<table border=\"1\" class=\"dataframe\">\n",
       "  <thead>\n",
       "    <tr style=\"text-align: right;\">\n",
       "      <th></th>\n",
       "      <th>id</th>\n",
       "      <th>order_id</th>\n",
       "      <th>placed_at</th>\n",
       "      <th>merchant_id</th>\n",
       "      <th>sku_id</th>\n",
       "      <th>top_cat_id</th>\n",
       "      <th>sub_cat_id</th>\n",
       "      <th>qty</th>\n",
       "      <th>price</th>\n",
       "      <th>datetime</th>\n",
       "      <th>date</th>\n",
       "      <th>year</th>\n",
       "      <th>month</th>\n",
       "      <th>day</th>\n",
       "      <th>hour</th>\n",
       "      <th>weekday</th>\n",
       "      <th>spent</th>\n",
       "      <th>month_order</th>\n",
       "    </tr>\n",
       "  </thead>\n",
       "  <tbody>\n",
       "    <tr>\n",
       "      <th>25655</th>\n",
       "      <td>290023</td>\n",
       "      <td>51842</td>\n",
       "      <td>2022-04-26 18:40:12.451</td>\n",
       "      <td>1951</td>\n",
       "      <td>734</td>\n",
       "      <td>12.0</td>\n",
       "      <td>30.0</td>\n",
       "      <td>50</td>\n",
       "      <td>1387500.0</td>\n",
       "      <td>2022-04-26 18:40:12.451</td>\n",
       "      <td>2022-04-26</td>\n",
       "      <td>2022</td>\n",
       "      <td>4</td>\n",
       "      <td>26</td>\n",
       "      <td>18</td>\n",
       "      <td>1</td>\n",
       "      <td>69375000.0</td>\n",
       "      <td>24268</td>\n",
       "    </tr>\n",
       "  </tbody>\n",
       "</table>\n",
       "</div>"
      ],
      "text/plain": [
       "           id  order_id                placed_at  merchant_id  sku_id  \\\n",
       "25655  290023     51842  2022-04-26 18:40:12.451         1951     734   \n",
       "\n",
       "       top_cat_id  sub_cat_id  qty      price                datetime  \\\n",
       "25655        12.0        30.0   50  1387500.0 2022-04-26 18:40:12.451   \n",
       "\n",
       "             date  year  month  day  hour  weekday       spent  month_order  \n",
       "25655  2022-04-26  2022      4   26    18        1  69375000.0        24268  "
      ]
     },
     "execution_count": 174,
     "metadata": {},
     "output_type": "execute_result"
    }
   ],
   "source": [
    "baskets[baskets['spent']==69375000.0].head()"
   ]
  },
  {
   "cell_type": "code",
   "execution_count": null,
   "id": "0d489c15-1bfd-479e-b65a-8873985a8311",
   "metadata": {},
   "outputs": [],
   "source": []
  }
 ],
 "metadata": {
  "kernelspec": {
   "display_name": "Python 3 (ipykernel)",
   "language": "python",
   "name": "python3"
  },
  "language_info": {
   "codemirror_mode": {
    "name": "ipython",
    "version": 3
   },
   "file_extension": ".py",
   "mimetype": "text/x-python",
   "name": "python",
   "nbconvert_exporter": "python",
   "pygments_lexer": "ipython3",
   "version": "3.9.12"
  }
 },
 "nbformat": 4,
 "nbformat_minor": 5
}

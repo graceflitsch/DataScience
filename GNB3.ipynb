{
 "cells": [
  {
   "cell_type": "markdown",
   "id": "07dd5b19-f43e-4807-af40-ae5ad668922d",
   "metadata": {},
   "source": [
    "# How much are top merchants spending per order? Are we retaining these top buyers?"
   ]
  },
  {
   "cell_type": "markdown",
   "id": "25820c49-1228-4750-a865-dba8cdbc194b",
   "metadata": {},
   "source": [
    "To accomplish in this notebook- \n",
    "- Define \"Top buyer\" - They come every month? They have spent the most money? They spend a certain amount every month?\n",
    "- Recommend definition of \"top buyers\" "
   ]
  },
  {
   "cell_type": "code",
   "execution_count": 53,
   "id": "c713a6b9-f92d-40ae-b35b-fdcbe8e4a7af",
   "metadata": {},
   "outputs": [],
   "source": [
    "import pandas as pd\n",
    "import numpy as np\n",
    "import matplotlib.pyplot as plt\n",
    "import seaborn as sns\n",
    "from datetime import datetime, timedelta\n",
    "from sklearn import datasets, linear_model\n",
    "from sklearn.metrics import mean_squared_error, r2_score\n",
    "baskets = pd.read_csv('new_baskets_full.csv')\n",
    "baskets['datetime'] = baskets['placed_at'].apply(lambda x: datetime.fromisoformat(x))\n",
    "\n",
    "#pandas.Series.dt is an interface on a pandas series that gives you convenient access to operations on data stored as a pandas datetime. \n",
    "baskets['date'] = baskets['datetime'].dt.date\n",
    "baskets['year'] = baskets['datetime'].dt.year\n",
    "baskets['month'] = baskets['datetime'].dt.month\n",
    "baskets['day'] = baskets['datetime'].dt.day\n",
    "baskets['hour'] = baskets['datetime'].dt.hour\n",
    "baskets['weekday'] = baskets['datetime'].dt.weekday"
   ]
  },
  {
   "cell_type": "markdown",
   "id": "41449e82-284d-40b2-bf02-3199410eeb45",
   "metadata": {},
   "source": [
    "behaviors and reasons to incentivise top buyers, look at future behavior, look into loyalty index. What are the hallmarks of top purchaers? How can we encourage more? How can we encourage the ones we have?"
   ]
  },
  {
   "cell_type": "markdown",
   "id": "428b77ab-3177-460d-a677-0d7d8d6de410",
   "metadata": {},
   "source": [
    "#### Start by finding top buyers in terms of total amount spent."
   ]
  },
  {
   "cell_type": "code",
   "execution_count": 54,
   "id": "18433a9f-7d3d-4258-a890-a10254e43426",
   "metadata": {},
   "outputs": [],
   "source": [
    "baskets['spent'] = baskets['price'] * baskets['qty']"
   ]
  },
  {
   "cell_type": "code",
   "execution_count": 55,
   "id": "29f77b5d-a805-4e2a-a376-ef0fc71eef69",
   "metadata": {},
   "outputs": [
    {
     "data": {
      "text/html": [
       "<div>\n",
       "<style scoped>\n",
       "    .dataframe tbody tr th:only-of-type {\n",
       "        vertical-align: middle;\n",
       "    }\n",
       "\n",
       "    .dataframe tbody tr th {\n",
       "        vertical-align: top;\n",
       "    }\n",
       "\n",
       "    .dataframe thead th {\n",
       "        text-align: right;\n",
       "    }\n",
       "</style>\n",
       "<table border=\"1\" class=\"dataframe\">\n",
       "  <thead>\n",
       "    <tr style=\"text-align: right;\">\n",
       "      <th></th>\n",
       "      <th>id</th>\n",
       "      <th>order_id</th>\n",
       "      <th>merchant_id</th>\n",
       "      <th>sku_id</th>\n",
       "      <th>top_cat_id</th>\n",
       "      <th>sub_cat_id</th>\n",
       "      <th>qty</th>\n",
       "      <th>price</th>\n",
       "      <th>year</th>\n",
       "      <th>month</th>\n",
       "      <th>day</th>\n",
       "      <th>hour</th>\n",
       "      <th>weekday</th>\n",
       "      <th>spent</th>\n",
       "    </tr>\n",
       "  </thead>\n",
       "  <tbody>\n",
       "    <tr>\n",
       "      <th>count</th>\n",
       "      <td>336472.000000</td>\n",
       "      <td>336472.000000</td>\n",
       "      <td>336472.000000</td>\n",
       "      <td>336472.000000</td>\n",
       "      <td>336461.000000</td>\n",
       "      <td>336461.000000</td>\n",
       "      <td>3.364720e+05</td>\n",
       "      <td>3.364720e+05</td>\n",
       "      <td>336472.000000</td>\n",
       "      <td>336472.000000</td>\n",
       "      <td>336472.000000</td>\n",
       "      <td>336472.000000</td>\n",
       "      <td>336472.000000</td>\n",
       "      <td>3.364720e+05</td>\n",
       "    </tr>\n",
       "    <tr>\n",
       "      <th>mean</th>\n",
       "      <td>168236.500000</td>\n",
       "      <td>29079.405656</td>\n",
       "      <td>798.592706</td>\n",
       "      <td>525.308685</td>\n",
       "      <td>10.319098</td>\n",
       "      <td>45.395065</td>\n",
       "      <td>3.789684e+01</td>\n",
       "      <td>1.378956e+05</td>\n",
       "      <td>2021.539941</td>\n",
       "      <td>6.659588</td>\n",
       "      <td>15.970758</td>\n",
       "      <td>12.702486</td>\n",
       "      <td>2.620928</td>\n",
       "      <td>5.346555e+05</td>\n",
       "    </tr>\n",
       "    <tr>\n",
       "      <th>std</th>\n",
       "      <td>97131.244225</td>\n",
       "      <td>18909.738357</td>\n",
       "      <td>550.271799</td>\n",
       "      <td>304.262943</td>\n",
       "      <td>7.906257</td>\n",
       "      <td>27.767388</td>\n",
       "      <td>1.035873e+04</td>\n",
       "      <td>1.744689e+05</td>\n",
       "      <td>0.498403</td>\n",
       "      <td>3.932984</td>\n",
       "      <td>8.796420</td>\n",
       "      <td>4.228485</td>\n",
       "      <td>1.831302</td>\n",
       "      <td>2.859301e+06</td>\n",
       "    </tr>\n",
       "    <tr>\n",
       "      <th>min</th>\n",
       "      <td>1.000000</td>\n",
       "      <td>1.000000</td>\n",
       "      <td>1.000000</td>\n",
       "      <td>1.000000</td>\n",
       "      <td>1.000000</td>\n",
       "      <td>1.000000</td>\n",
       "      <td>1.000000e+00</td>\n",
       "      <td>4.375000e-02</td>\n",
       "      <td>2021.000000</td>\n",
       "      <td>1.000000</td>\n",
       "      <td>1.000000</td>\n",
       "      <td>0.000000</td>\n",
       "      <td>0.000000</td>\n",
       "      <td>5.000000e+00</td>\n",
       "    </tr>\n",
       "    <tr>\n",
       "      <th>25%</th>\n",
       "      <td>84118.750000</td>\n",
       "      <td>11485.000000</td>\n",
       "      <td>352.000000</td>\n",
       "      <td>322.000000</td>\n",
       "      <td>4.000000</td>\n",
       "      <td>27.000000</td>\n",
       "      <td>1.000000e+00</td>\n",
       "      <td>4.600000e+04</td>\n",
       "      <td>2021.000000</td>\n",
       "      <td>3.000000</td>\n",
       "      <td>8.000000</td>\n",
       "      <td>10.000000</td>\n",
       "      <td>1.000000</td>\n",
       "      <td>1.165000e+05</td>\n",
       "    </tr>\n",
       "    <tr>\n",
       "      <th>50%</th>\n",
       "      <td>168236.500000</td>\n",
       "      <td>28436.000000</td>\n",
       "      <td>664.000000</td>\n",
       "      <td>438.000000</td>\n",
       "      <td>8.000000</td>\n",
       "      <td>43.000000</td>\n",
       "      <td>2.000000e+00</td>\n",
       "      <td>1.070000e+05</td>\n",
       "      <td>2022.000000</td>\n",
       "      <td>7.000000</td>\n",
       "      <td>16.000000</td>\n",
       "      <td>12.000000</td>\n",
       "      <td>3.000000</td>\n",
       "      <td>2.080000e+05</td>\n",
       "    </tr>\n",
       "    <tr>\n",
       "      <th>75%</th>\n",
       "      <td>252354.250000</td>\n",
       "      <td>46193.250000</td>\n",
       "      <td>1217.000000</td>\n",
       "      <td>589.000000</td>\n",
       "      <td>14.000000</td>\n",
       "      <td>69.000000</td>\n",
       "      <td>5.000000e+00</td>\n",
       "      <td>1.845000e+05</td>\n",
       "      <td>2022.000000</td>\n",
       "      <td>11.000000</td>\n",
       "      <td>24.000000</td>\n",
       "      <td>15.000000</td>\n",
       "      <td>4.000000</td>\n",
       "      <td>4.350000e+05</td>\n",
       "    </tr>\n",
       "    <tr>\n",
       "      <th>max</th>\n",
       "      <td>336472.000000</td>\n",
       "      <td>62048.000000</td>\n",
       "      <td>2138.000000</td>\n",
       "      <td>1617.000000</td>\n",
       "      <td>33.000000</td>\n",
       "      <td>96.000000</td>\n",
       "      <td>4.800000e+06</td>\n",
       "      <td>5.875000e+07</td>\n",
       "      <td>2022.000000</td>\n",
       "      <td>12.000000</td>\n",
       "      <td>31.000000</td>\n",
       "      <td>23.000000</td>\n",
       "      <td>6.000000</td>\n",
       "      <td>3.831222e+08</td>\n",
       "    </tr>\n",
       "  </tbody>\n",
       "</table>\n",
       "</div>"
      ],
      "text/plain": [
       "                  id       order_id    merchant_id         sku_id  \\\n",
       "count  336472.000000  336472.000000  336472.000000  336472.000000   \n",
       "mean   168236.500000   29079.405656     798.592706     525.308685   \n",
       "std     97131.244225   18909.738357     550.271799     304.262943   \n",
       "min         1.000000       1.000000       1.000000       1.000000   \n",
       "25%     84118.750000   11485.000000     352.000000     322.000000   \n",
       "50%    168236.500000   28436.000000     664.000000     438.000000   \n",
       "75%    252354.250000   46193.250000    1217.000000     589.000000   \n",
       "max    336472.000000   62048.000000    2138.000000    1617.000000   \n",
       "\n",
       "          top_cat_id     sub_cat_id           qty         price  \\\n",
       "count  336461.000000  336461.000000  3.364720e+05  3.364720e+05   \n",
       "mean       10.319098      45.395065  3.789684e+01  1.378956e+05   \n",
       "std         7.906257      27.767388  1.035873e+04  1.744689e+05   \n",
       "min         1.000000       1.000000  1.000000e+00  4.375000e-02   \n",
       "25%         4.000000      27.000000  1.000000e+00  4.600000e+04   \n",
       "50%         8.000000      43.000000  2.000000e+00  1.070000e+05   \n",
       "75%        14.000000      69.000000  5.000000e+00  1.845000e+05   \n",
       "max        33.000000      96.000000  4.800000e+06  5.875000e+07   \n",
       "\n",
       "                year          month            day           hour  \\\n",
       "count  336472.000000  336472.000000  336472.000000  336472.000000   \n",
       "mean     2021.539941       6.659588      15.970758      12.702486   \n",
       "std         0.498403       3.932984       8.796420       4.228485   \n",
       "min      2021.000000       1.000000       1.000000       0.000000   \n",
       "25%      2021.000000       3.000000       8.000000      10.000000   \n",
       "50%      2022.000000       7.000000      16.000000      12.000000   \n",
       "75%      2022.000000      11.000000      24.000000      15.000000   \n",
       "max      2022.000000      12.000000      31.000000      23.000000   \n",
       "\n",
       "             weekday         spent  \n",
       "count  336472.000000  3.364720e+05  \n",
       "mean        2.620928  5.346555e+05  \n",
       "std         1.831302  2.859301e+06  \n",
       "min         0.000000  5.000000e+00  \n",
       "25%         1.000000  1.165000e+05  \n",
       "50%         3.000000  2.080000e+05  \n",
       "75%         4.000000  4.350000e+05  \n",
       "max         6.000000  3.831222e+08  "
      ]
     },
     "execution_count": 55,
     "metadata": {},
     "output_type": "execute_result"
    }
   ],
   "source": [
    "baskets.describe()"
   ]
  },
  {
   "cell_type": "markdown",
   "id": "251d8c2e-3057-49b9-b72e-f4fec89c126d",
   "metadata": {},
   "source": [
    "Remove first 5 months of data from dataframe."
   ]
  },
  {
   "cell_type": "code",
   "execution_count": 56,
   "id": "8556e320-6a79-46f5-83e3-c2caac189a97",
   "metadata": {},
   "outputs": [
    {
     "data": {
      "text/plain": [
       "datetime.date(2021, 4, 9)"
      ]
     },
     "execution_count": 56,
     "metadata": {},
     "output_type": "execute_result"
    }
   ],
   "source": [
    "baskets.date.min()"
   ]
  },
  {
   "cell_type": "code",
   "execution_count": 57,
   "id": "e19cd789-2ffa-4ce3-8266-355192cc2e90",
   "metadata": {},
   "outputs": [],
   "source": [
    "baskets = baskets[baskets['date'] > pd.to_datetime('2021-7-31').date()]"
   ]
  },
  {
   "cell_type": "code",
   "execution_count": 58,
   "id": "166d8915-5cd7-4511-9b1c-40ec5840960c",
   "metadata": {},
   "outputs": [
    {
     "data": {
      "text/plain": [
       "datetime.date(2021, 8, 1)"
      ]
     },
     "execution_count": 58,
     "metadata": {},
     "output_type": "execute_result"
    }
   ],
   "source": [
    "baskets.date.min()"
   ]
  },
  {
   "cell_type": "markdown",
   "id": "b36cdc82-1775-4ecb-a3e2-b09fed670760",
   "metadata": {},
   "source": [
    "Find total amount spent by each merchant and sort highest to lowest."
   ]
  },
  {
   "cell_type": "code",
   "execution_count": 59,
   "id": "b6ee01d2-6435-4741-994e-ced4a6464ad6",
   "metadata": {},
   "outputs": [
    {
     "data": {
      "text/plain": [
       "merchant_id\n",
       "664     3.947079e+09\n",
       "441     1.729729e+09\n",
       "366     1.724671e+09\n",
       "122     1.491349e+09\n",
       "430     1.441119e+09\n",
       "            ...     \n",
       "1158    3.575000e+05\n",
       "1931    3.450000e+05\n",
       "2018    3.290000e+05\n",
       "411     3.190000e+05\n",
       "1157    2.459000e+05\n",
       "Name: spent, Length: 2128, dtype: float64"
      ]
     },
     "execution_count": 59,
     "metadata": {},
     "output_type": "execute_result"
    }
   ],
   "source": [
    "baskets.groupby('merchant_id').spent.sum().sort_values(ascending = False)"
   ]
  },
  {
   "cell_type": "markdown",
   "id": "c588aa6d-4260-48af-806c-3fdc28b3467e",
   "metadata": {},
   "source": [
    "Notice that the top 5 most spending merchants are 664,441,366,122,430. Lets plot their spending over time to see if they are consistent spenders."
   ]
  },
  {
   "cell_type": "code",
   "execution_count": 60,
   "id": "296ef09e-e153-4e42-82eb-6f644603e70b",
   "metadata": {},
   "outputs": [],
   "source": [
    "baskets['month_order'] = ((baskets['year']-2021)*12) + baskets['month'] -7"
   ]
  },
  {
   "cell_type": "markdown",
   "id": "2a8d65f3-a359-43ce-af06-6f0da83d86eb",
   "metadata": {},
   "source": [
    "Created month_order to reindex data to start at end of july"
   ]
  },
  {
   "cell_type": "code",
   "execution_count": 61,
   "id": "252161a4-507d-4b99-ad20-14bf574de72c",
   "metadata": {},
   "outputs": [
    {
     "data": {
      "text/html": [
       "<div>\n",
       "<style scoped>\n",
       "    .dataframe tbody tr th:only-of-type {\n",
       "        vertical-align: middle;\n",
       "    }\n",
       "\n",
       "    .dataframe tbody tr th {\n",
       "        vertical-align: top;\n",
       "    }\n",
       "\n",
       "    .dataframe thead th {\n",
       "        text-align: right;\n",
       "    }\n",
       "</style>\n",
       "<table border=\"1\" class=\"dataframe\">\n",
       "  <thead>\n",
       "    <tr style=\"text-align: right;\">\n",
       "      <th></th>\n",
       "      <th>id</th>\n",
       "      <th>order_id</th>\n",
       "      <th>placed_at</th>\n",
       "      <th>merchant_id</th>\n",
       "      <th>sku_id</th>\n",
       "      <th>top_cat_id</th>\n",
       "      <th>sub_cat_id</th>\n",
       "      <th>qty</th>\n",
       "      <th>price</th>\n",
       "      <th>datetime</th>\n",
       "      <th>date</th>\n",
       "      <th>year</th>\n",
       "      <th>month</th>\n",
       "      <th>day</th>\n",
       "      <th>hour</th>\n",
       "      <th>weekday</th>\n",
       "      <th>spent</th>\n",
       "      <th>month_order</th>\n",
       "    </tr>\n",
       "  </thead>\n",
       "  <tbody>\n",
       "    <tr>\n",
       "      <th>194912</th>\n",
       "      <td>195705</td>\n",
       "      <td>34605</td>\n",
       "      <td>2022-02-03 09:54:31.177</td>\n",
       "      <td>394</td>\n",
       "      <td>438</td>\n",
       "      <td>3.0</td>\n",
       "      <td>70.0</td>\n",
       "      <td>20</td>\n",
       "      <td>218500.0</td>\n",
       "      <td>2022-02-03 09:54:31.177</td>\n",
       "      <td>2022-02-03</td>\n",
       "      <td>2022</td>\n",
       "      <td>2</td>\n",
       "      <td>3</td>\n",
       "      <td>9</td>\n",
       "      <td>3</td>\n",
       "      <td>4370000.0</td>\n",
       "      <td>7</td>\n",
       "    </tr>\n",
       "    <tr>\n",
       "      <th>291455</th>\n",
       "      <td>291535</td>\n",
       "      <td>53299</td>\n",
       "      <td>2022-05-19 19:40:41.708</td>\n",
       "      <td>532</td>\n",
       "      <td>1016</td>\n",
       "      <td>14.0</td>\n",
       "      <td>48.0</td>\n",
       "      <td>5</td>\n",
       "      <td>18500.0</td>\n",
       "      <td>2022-05-19 19:40:41.708</td>\n",
       "      <td>2022-05-19</td>\n",
       "      <td>2022</td>\n",
       "      <td>5</td>\n",
       "      <td>19</td>\n",
       "      <td>19</td>\n",
       "      <td>3</td>\n",
       "      <td>92500.0</td>\n",
       "      <td>10</td>\n",
       "    </tr>\n",
       "    <tr>\n",
       "      <th>204964</th>\n",
       "      <td>205249</td>\n",
       "      <td>36708</td>\n",
       "      <td>2022-02-09 19:01:07.320</td>\n",
       "      <td>1811</td>\n",
       "      <td>1192</td>\n",
       "      <td>11.0</td>\n",
       "      <td>79.0</td>\n",
       "      <td>2</td>\n",
       "      <td>170000.0</td>\n",
       "      <td>2022-02-09 19:01:07.320</td>\n",
       "      <td>2022-02-09</td>\n",
       "      <td>2022</td>\n",
       "      <td>2</td>\n",
       "      <td>9</td>\n",
       "      <td>19</td>\n",
       "      <td>2</td>\n",
       "      <td>340000.0</td>\n",
       "      <td>7</td>\n",
       "    </tr>\n",
       "    <tr>\n",
       "      <th>306641</th>\n",
       "      <td>306763</td>\n",
       "      <td>55733</td>\n",
       "      <td>2022-06-17 16:39:35.867</td>\n",
       "      <td>516</td>\n",
       "      <td>840</td>\n",
       "      <td>14.0</td>\n",
       "      <td>83.0</td>\n",
       "      <td>10</td>\n",
       "      <td>92000.0</td>\n",
       "      <td>2022-06-17 16:39:35.867</td>\n",
       "      <td>2022-06-17</td>\n",
       "      <td>2022</td>\n",
       "      <td>6</td>\n",
       "      <td>17</td>\n",
       "      <td>16</td>\n",
       "      <td>4</td>\n",
       "      <td>920000.0</td>\n",
       "      <td>11</td>\n",
       "    </tr>\n",
       "    <tr>\n",
       "      <th>311762</th>\n",
       "      <td>312006</td>\n",
       "      <td>55136</td>\n",
       "      <td>2022-06-26 21:31:34.387</td>\n",
       "      <td>33</td>\n",
       "      <td>562</td>\n",
       "      <td>4.0</td>\n",
       "      <td>21.0</td>\n",
       "      <td>5</td>\n",
       "      <td>86000.0</td>\n",
       "      <td>2022-06-26 21:31:34.387</td>\n",
       "      <td>2022-06-26</td>\n",
       "      <td>2022</td>\n",
       "      <td>6</td>\n",
       "      <td>26</td>\n",
       "      <td>21</td>\n",
       "      <td>6</td>\n",
       "      <td>430000.0</td>\n",
       "      <td>11</td>\n",
       "    </tr>\n",
       "    <tr>\n",
       "      <th>203590</th>\n",
       "      <td>202703</td>\n",
       "      <td>36043</td>\n",
       "      <td>2022-02-08 22:38:15.552</td>\n",
       "      <td>384</td>\n",
       "      <td>1120</td>\n",
       "      <td>31.0</td>\n",
       "      <td>48.0</td>\n",
       "      <td>3</td>\n",
       "      <td>117500.0</td>\n",
       "      <td>2022-02-08 22:38:15.552</td>\n",
       "      <td>2022-02-08</td>\n",
       "      <td>2022</td>\n",
       "      <td>2</td>\n",
       "      <td>8</td>\n",
       "      <td>22</td>\n",
       "      <td>1</td>\n",
       "      <td>352500.0</td>\n",
       "      <td>7</td>\n",
       "    </tr>\n",
       "    <tr>\n",
       "      <th>105779</th>\n",
       "      <td>105931</td>\n",
       "      <td>15959</td>\n",
       "      <td>2021-11-24 11:55:32.237</td>\n",
       "      <td>637</td>\n",
       "      <td>980</td>\n",
       "      <td>11.0</td>\n",
       "      <td>96.0</td>\n",
       "      <td>1</td>\n",
       "      <td>88000.0</td>\n",
       "      <td>2021-11-24 11:55:32.237</td>\n",
       "      <td>2021-11-24</td>\n",
       "      <td>2021</td>\n",
       "      <td>11</td>\n",
       "      <td>24</td>\n",
       "      <td>11</td>\n",
       "      <td>2</td>\n",
       "      <td>88000.0</td>\n",
       "      <td>4</td>\n",
       "    </tr>\n",
       "    <tr>\n",
       "      <th>122956</th>\n",
       "      <td>123054</td>\n",
       "      <td>19294</td>\n",
       "      <td>2021-12-04 17:25:08.250</td>\n",
       "      <td>150</td>\n",
       "      <td>513</td>\n",
       "      <td>3.0</td>\n",
       "      <td>91.0</td>\n",
       "      <td>5</td>\n",
       "      <td>108000.0</td>\n",
       "      <td>2021-12-04 17:25:08.250</td>\n",
       "      <td>2021-12-04</td>\n",
       "      <td>2021</td>\n",
       "      <td>12</td>\n",
       "      <td>4</td>\n",
       "      <td>17</td>\n",
       "      <td>5</td>\n",
       "      <td>540000.0</td>\n",
       "      <td>5</td>\n",
       "    </tr>\n",
       "    <tr>\n",
       "      <th>320245</th>\n",
       "      <td>320478</td>\n",
       "      <td>58802</td>\n",
       "      <td>2022-07-13 11:59:55.954</td>\n",
       "      <td>1257</td>\n",
       "      <td>253</td>\n",
       "      <td>4.0</td>\n",
       "      <td>19.0</td>\n",
       "      <td>4</td>\n",
       "      <td>35000.0</td>\n",
       "      <td>2022-07-13 11:59:55.954</td>\n",
       "      <td>2022-07-13</td>\n",
       "      <td>2022</td>\n",
       "      <td>7</td>\n",
       "      <td>13</td>\n",
       "      <td>11</td>\n",
       "      <td>2</td>\n",
       "      <td>140000.0</td>\n",
       "      <td>12</td>\n",
       "    </tr>\n",
       "    <tr>\n",
       "      <th>248225</th>\n",
       "      <td>248417</td>\n",
       "      <td>44781</td>\n",
       "      <td>2022-03-18 17:47:58.458</td>\n",
       "      <td>204</td>\n",
       "      <td>778</td>\n",
       "      <td>8.0</td>\n",
       "      <td>79.0</td>\n",
       "      <td>1</td>\n",
       "      <td>72500.0</td>\n",
       "      <td>2022-03-18 17:47:58.458</td>\n",
       "      <td>2022-03-18</td>\n",
       "      <td>2022</td>\n",
       "      <td>3</td>\n",
       "      <td>18</td>\n",
       "      <td>17</td>\n",
       "      <td>4</td>\n",
       "      <td>72500.0</td>\n",
       "      <td>8</td>\n",
       "    </tr>\n",
       "  </tbody>\n",
       "</table>\n",
       "</div>"
      ],
      "text/plain": [
       "            id  order_id                placed_at  merchant_id  sku_id  \\\n",
       "194912  195705     34605  2022-02-03 09:54:31.177          394     438   \n",
       "291455  291535     53299  2022-05-19 19:40:41.708          532    1016   \n",
       "204964  205249     36708  2022-02-09 19:01:07.320         1811    1192   \n",
       "306641  306763     55733  2022-06-17 16:39:35.867          516     840   \n",
       "311762  312006     55136  2022-06-26 21:31:34.387           33     562   \n",
       "203590  202703     36043  2022-02-08 22:38:15.552          384    1120   \n",
       "105779  105931     15959  2021-11-24 11:55:32.237          637     980   \n",
       "122956  123054     19294  2021-12-04 17:25:08.250          150     513   \n",
       "320245  320478     58802  2022-07-13 11:59:55.954         1257     253   \n",
       "248225  248417     44781  2022-03-18 17:47:58.458          204     778   \n",
       "\n",
       "        top_cat_id  sub_cat_id  qty     price                datetime  \\\n",
       "194912         3.0        70.0   20  218500.0 2022-02-03 09:54:31.177   \n",
       "291455        14.0        48.0    5   18500.0 2022-05-19 19:40:41.708   \n",
       "204964        11.0        79.0    2  170000.0 2022-02-09 19:01:07.320   \n",
       "306641        14.0        83.0   10   92000.0 2022-06-17 16:39:35.867   \n",
       "311762         4.0        21.0    5   86000.0 2022-06-26 21:31:34.387   \n",
       "203590        31.0        48.0    3  117500.0 2022-02-08 22:38:15.552   \n",
       "105779        11.0        96.0    1   88000.0 2021-11-24 11:55:32.237   \n",
       "122956         3.0        91.0    5  108000.0 2021-12-04 17:25:08.250   \n",
       "320245         4.0        19.0    4   35000.0 2022-07-13 11:59:55.954   \n",
       "248225         8.0        79.0    1   72500.0 2022-03-18 17:47:58.458   \n",
       "\n",
       "              date  year  month  day  hour  weekday      spent  month_order  \n",
       "194912  2022-02-03  2022      2    3     9        3  4370000.0            7  \n",
       "291455  2022-05-19  2022      5   19    19        3    92500.0           10  \n",
       "204964  2022-02-09  2022      2    9    19        2   340000.0            7  \n",
       "306641  2022-06-17  2022      6   17    16        4   920000.0           11  \n",
       "311762  2022-06-26  2022      6   26    21        6   430000.0           11  \n",
       "203590  2022-02-08  2022      2    8    22        1   352500.0            7  \n",
       "105779  2021-11-24  2021     11   24    11        2    88000.0            4  \n",
       "122956  2021-12-04  2021     12    4    17        5   540000.0            5  \n",
       "320245  2022-07-13  2022      7   13    11        2   140000.0           12  \n",
       "248225  2022-03-18  2022      3   18    17        4    72500.0            8  "
      ]
     },
     "execution_count": 61,
     "metadata": {},
     "output_type": "execute_result"
    }
   ],
   "source": [
    "baskets.sample(10)"
   ]
  },
  {
   "cell_type": "markdown",
   "id": "b10a6feb-9488-4efa-a73f-55891cd2abc4",
   "metadata": {},
   "source": [
    "Created options to parse through top 5 spenders"
   ]
  },
  {
   "cell_type": "code",
   "execution_count": 62,
   "id": "f99c31e3-24c1-4fa9-ab1b-838330d9aeae",
   "metadata": {},
   "outputs": [],
   "source": [
    "options = [441,366,122,430, 305]"
   ]
  },
  {
   "cell_type": "code",
   "execution_count": 63,
   "id": "80c1e607-efe3-47c2-9391-18041891af97",
   "metadata": {},
   "outputs": [
    {
     "data": {
      "image/png": "[encoded data removed]",
      "text/plain": [
       "<Figure size 432x288 with 1 Axes>"
      ]
     },
     "metadata": {
      "needs_background": "light"
     },
     "output_type": "display_data"
    }
   ],
   "source": [
    "for i in range(5):\n",
    "    baskets[baskets['merchant_id']==options[i]].groupby('month_order')['spent'].sum().plot(title = 'Merchant Spending per Month').legend([441,366,122,430, 305],fancybox = True)\n"
   ]
  },
  {
   "cell_type": "markdown",
   "id": "5835b3ca-2a65-474a-b0a5-12c5a946a492",
   "metadata": {},
   "source": [
    "## Let's compare spending in the last 6 months. Will the same buyers be in the list?"
   ]
  },
  {
   "cell_type": "code",
   "execution_count": 64,
   "id": "aece69d3-b395-4d92-9b3d-c395c6a71dae",
   "metadata": {},
   "outputs": [],
   "source": [
    "sixbaskets = baskets[baskets['month_order'] > 6]"
   ]
  },
  {
   "cell_type": "code",
   "execution_count": 65,
   "id": "083ddce8-2493-4fd9-9abf-27a1ed0d6349",
   "metadata": {},
   "outputs": [
    {
     "data": {
      "text/html": [
       "<div>\n",
       "<style scoped>\n",
       "    .dataframe tbody tr th:only-of-type {\n",
       "        vertical-align: middle;\n",
       "    }\n",
       "\n",
       "    .dataframe tbody tr th {\n",
       "        vertical-align: top;\n",
       "    }\n",
       "\n",
       "    .dataframe thead th {\n",
       "        text-align: right;\n",
       "    }\n",
       "</style>\n",
       "<table border=\"1\" class=\"dataframe\">\n",
       "  <thead>\n",
       "    <tr style=\"text-align: right;\">\n",
       "      <th></th>\n",
       "      <th>id</th>\n",
       "      <th>order_id</th>\n",
       "      <th>placed_at</th>\n",
       "      <th>merchant_id</th>\n",
       "      <th>sku_id</th>\n",
       "      <th>top_cat_id</th>\n",
       "      <th>sub_cat_id</th>\n",
       "      <th>qty</th>\n",
       "      <th>price</th>\n",
       "      <th>datetime</th>\n",
       "      <th>date</th>\n",
       "      <th>year</th>\n",
       "      <th>month</th>\n",
       "      <th>day</th>\n",
       "      <th>hour</th>\n",
       "      <th>weekday</th>\n",
       "      <th>spent</th>\n",
       "      <th>month_order</th>\n",
       "    </tr>\n",
       "  </thead>\n",
       "  <tbody>\n",
       "    <tr>\n",
       "      <th>191588</th>\n",
       "      <td>191782</td>\n",
       "      <td>33178</td>\n",
       "      <td>2022-02-01 04:59:15.772</td>\n",
       "      <td>1425</td>\n",
       "      <td>378</td>\n",
       "      <td>8.0</td>\n",
       "      <td>43.0</td>\n",
       "      <td>1</td>\n",
       "      <td>100500.0</td>\n",
       "      <td>2022-02-01 04:59:15.772</td>\n",
       "      <td>2022-02-01</td>\n",
       "      <td>2022</td>\n",
       "      <td>2</td>\n",
       "      <td>1</td>\n",
       "      <td>4</td>\n",
       "      <td>1</td>\n",
       "      <td>100500.0</td>\n",
       "      <td>7</td>\n",
       "    </tr>\n",
       "    <tr>\n",
       "      <th>191589</th>\n",
       "      <td>191783</td>\n",
       "      <td>33178</td>\n",
       "      <td>2022-02-01 04:59:15.772</td>\n",
       "      <td>1425</td>\n",
       "      <td>380</td>\n",
       "      <td>8.0</td>\n",
       "      <td>43.0</td>\n",
       "      <td>1</td>\n",
       "      <td>100500.0</td>\n",
       "      <td>2022-02-01 04:59:15.772</td>\n",
       "      <td>2022-02-01</td>\n",
       "      <td>2022</td>\n",
       "      <td>2</td>\n",
       "      <td>1</td>\n",
       "      <td>4</td>\n",
       "      <td>1</td>\n",
       "      <td>100500.0</td>\n",
       "      <td>7</td>\n",
       "    </tr>\n",
       "    <tr>\n",
       "      <th>191590</th>\n",
       "      <td>191784</td>\n",
       "      <td>33178</td>\n",
       "      <td>2022-02-01 04:59:15.772</td>\n",
       "      <td>1425</td>\n",
       "      <td>383</td>\n",
       "      <td>8.0</td>\n",
       "      <td>43.0</td>\n",
       "      <td>1</td>\n",
       "      <td>100500.0</td>\n",
       "      <td>2022-02-01 04:59:15.772</td>\n",
       "      <td>2022-02-01</td>\n",
       "      <td>2022</td>\n",
       "      <td>2</td>\n",
       "      <td>1</td>\n",
       "      <td>4</td>\n",
       "      <td>1</td>\n",
       "      <td>100500.0</td>\n",
       "      <td>7</td>\n",
       "    </tr>\n",
       "    <tr>\n",
       "      <th>191591</th>\n",
       "      <td>191749</td>\n",
       "      <td>33923</td>\n",
       "      <td>2022-02-01 06:53:29.594</td>\n",
       "      <td>1702</td>\n",
       "      <td>511</td>\n",
       "      <td>3.0</td>\n",
       "      <td>91.0</td>\n",
       "      <td>1</td>\n",
       "      <td>104000.0</td>\n",
       "      <td>2022-02-01 06:53:29.594</td>\n",
       "      <td>2022-02-01</td>\n",
       "      <td>2022</td>\n",
       "      <td>2</td>\n",
       "      <td>1</td>\n",
       "      <td>6</td>\n",
       "      <td>1</td>\n",
       "      <td>104000.0</td>\n",
       "      <td>7</td>\n",
       "    </tr>\n",
       "    <tr>\n",
       "      <th>191592</th>\n",
       "      <td>191750</td>\n",
       "      <td>33923</td>\n",
       "      <td>2022-02-01 06:53:29.594</td>\n",
       "      <td>1702</td>\n",
       "      <td>522</td>\n",
       "      <td>3.0</td>\n",
       "      <td>94.0</td>\n",
       "      <td>10</td>\n",
       "      <td>176000.0</td>\n",
       "      <td>2022-02-01 06:53:29.594</td>\n",
       "      <td>2022-02-01</td>\n",
       "      <td>2022</td>\n",
       "      <td>2</td>\n",
       "      <td>1</td>\n",
       "      <td>6</td>\n",
       "      <td>1</td>\n",
       "      <td>1760000.0</td>\n",
       "      <td>7</td>\n",
       "    </tr>\n",
       "  </tbody>\n",
       "</table>\n",
       "</div>"
      ],
      "text/plain": [
       "            id  order_id                placed_at  merchant_id  sku_id  \\\n",
       "191588  191782     33178  2022-02-01 04:59:15.772         1425     378   \n",
       "191589  191783     33178  2022-02-01 04:59:15.772         1425     380   \n",
       "191590  191784     33178  2022-02-01 04:59:15.772         1425     383   \n",
       "191591  191749     33923  2022-02-01 06:53:29.594         1702     511   \n",
       "191592  191750     33923  2022-02-01 06:53:29.594         1702     522   \n",
       "\n",
       "        top_cat_id  sub_cat_id  qty     price                datetime  \\\n",
       "191588         8.0        43.0    1  100500.0 2022-02-01 04:59:15.772   \n",
       "191589         8.0        43.0    1  100500.0 2022-02-01 04:59:15.772   \n",
       "191590         8.0        43.0    1  100500.0 2022-02-01 04:59:15.772   \n",
       "191591         3.0        91.0    1  104000.0 2022-02-01 06:53:29.594   \n",
       "191592         3.0        94.0   10  176000.0 2022-02-01 06:53:29.594   \n",
       "\n",
       "              date  year  month  day  hour  weekday      spent  month_order  \n",
       "191588  2022-02-01  2022      2    1     4        1   100500.0            7  \n",
       "191589  2022-02-01  2022      2    1     4        1   100500.0            7  \n",
       "191590  2022-02-01  2022      2    1     4        1   100500.0            7  \n",
       "191591  2022-02-01  2022      2    1     6        1   104000.0            7  \n",
       "191592  2022-02-01  2022      2    1     6        1  1760000.0            7  "
      ]
     },
     "execution_count": 65,
     "metadata": {},
     "output_type": "execute_result"
    }
   ],
   "source": [
    "sixbaskets.head()"
   ]
  },
  {
   "cell_type": "code",
   "execution_count": 66,
   "id": "aad3fa7a-886d-4f73-95d4-3063e39fefae",
   "metadata": {},
   "outputs": [
    {
     "data": {
      "text/plain": [
       "merchant_id\n",
       "497     959077900.0\n",
       "366     952641100.0\n",
       "441     941911050.0\n",
       "122     938894750.0\n",
       "2084    932772739.0\n",
       "           ...     \n",
       "484        137500.0\n",
       "195        123000.0\n",
       "643         99500.0\n",
       "706         62000.0\n",
       "1435        53500.0\n",
       "Name: spent, Length: 1729, dtype: float64"
      ]
     },
     "execution_count": 66,
     "metadata": {},
     "output_type": "execute_result"
    }
   ],
   "source": [
    "sixbaskets.groupby('merchant_id').spent.sum().sort_values(ascending = False)"
   ]
  },
  {
   "cell_type": "markdown",
   "id": "53c72b14-7792-4a45-8d1a-47b56ffe9671",
   "metadata": {},
   "source": [
    "Top spenders are merchant_id's 497,366,441,122,2048."
   ]
  },
  {
   "cell_type": "markdown",
   "id": "9ea2faf5-a7a1-4fa7-b9f1-756c528d549f",
   "metadata": {},
   "source": [
    "441,366,122,430,305 were the top spenders over the year, it seems that 497 and 2048 have spent a lot more in the second half, while 430 and 305 have not sustained their high spending as much in the second half. "
   ]
  },
  {
   "cell_type": "markdown",
   "id": "4ef2e1b4-7ceb-4032-8c89-17dd8a3bc796",
   "metadata": {},
   "source": [
    "Found that 2084 is an outlier, don't know where code went but need to drop."
   ]
  },
  {
   "cell_type": "code",
   "execution_count": 67,
   "id": "7ebd5b73-3250-45b2-bb18-fd3610b827fb",
   "metadata": {},
   "outputs": [],
   "source": [
    "sixbaskets = sixbaskets.drop((sixbaskets[sixbaskets['merchant_id']==2084]).index)"
   ]
  },
  {
   "cell_type": "code",
   "execution_count": 68,
   "id": "bf729f80-edb8-4f48-9961-18bce6209a1b",
   "metadata": {},
   "outputs": [
    {
     "data": {
      "text/plain": [
       "merchant_id\n",
       "497     959077900.0\n",
       "366     952641100.0\n",
       "441     941911050.0\n",
       "122     938894750.0\n",
       "430     850189675.0\n",
       "           ...     \n",
       "484        137500.0\n",
       "195        123000.0\n",
       "643         99500.0\n",
       "706         62000.0\n",
       "1435        53500.0\n",
       "Name: spent, Length: 1728, dtype: float64"
      ]
     },
     "execution_count": 68,
     "metadata": {},
     "output_type": "execute_result"
    }
   ],
   "source": [
    "sixbaskets.groupby('merchant_id').spent.sum().sort_values(ascending = False)"
   ]
  },
  {
   "cell_type": "code",
   "execution_count": 69,
   "id": "e52af539-6653-4af1-bd26-35990e4a5f2c",
   "metadata": {},
   "outputs": [],
   "source": [
    "options = [497,366,441,122,430]"
   ]
  },
  {
   "cell_type": "code",
   "execution_count": 70,
   "id": "77c6b6f5-c755-4d9e-b66b-7303ff3bbdd8",
   "metadata": {
    "tags": []
   },
   "outputs": [
    {
     "data": {
      "image/png": "[encoded data removed]",
      "text/plain": [
       "<Figure size 432x288 with 1 Axes>"
      ]
     },
     "metadata": {
      "needs_background": "light"
     },
     "output_type": "display_data"
    }
   ],
   "source": [
    "for i in range(5):\n",
    "    sixbaskets[sixbaskets['merchant_id']==options[i]].groupby('month_order')['spent'].sum().plot().legend([497,366,441,122,430],fancybox = True)\n"
   ]
  },
  {
   "cell_type": "markdown",
   "id": "143f8581-7d65-410a-adf0-7a6fd6f5930d",
   "metadata": {},
   "source": [
    "Looks like all sales are declining in July of 2022 besides 441. Why is this? 441 seems to have a regular pattern of large orders every two months. They are consistent, which is valuable. There are not any outliers, so let's look at the sales from 430 and 305 in the second half to see if they are still top buyers. "
   ]
  },
  {
   "cell_type": "markdown",
   "id": "e4d4408f-3df2-4371-bb4f-eeba067a5e9f",
   "metadata": {},
   "source": [
    "Looking at this new graph, I see no outliers, everyone is still purchasing now semi-consitently.\n",
    "For the monetary score, I am going to use the data from the whole year. This is because changes in the last 6 months may be more relevant to the frequency score. \n",
    "Top 5 are: \n",
    "1. 441 (5)\n",
    "2. 366 (4)\n",
    "3. 122 (3)\n",
    "4. 430 (2)\n",
    "5. 305 (1)"
   ]
  },
  {
   "cell_type": "markdown",
   "id": "0ef29434-081b-47b9-b437-cfc6c1855f23",
   "metadata": {},
   "source": [
    "RFM- recency, frequency, monetary. \n",
    "Find matrix to rank buyers by all three. \n",
    "R+F+M = Score. \n",
    "Recency is not as relevant"
   ]
  },
  {
   "cell_type": "markdown",
   "id": "b5a865be-7ec2-446d-9956-0ee265bda5f3",
   "metadata": {},
   "source": [
    "## Next, I am going to work on frequency: The angle I will take to rank frequency is whoever has the highest number of orders."
   ]
  },
  {
   "cell_type": "markdown",
   "id": "230b0605-9f99-4f39-afd3-a1be2bffa26c",
   "metadata": {},
   "source": [
    "for each merchant, total their orders per month.\n"
   ]
  },
  {
   "cell_type": "code",
   "execution_count": 71,
   "id": "16924d8a-87a0-428a-bc40-1c7c5b1f2e9d",
   "metadata": {},
   "outputs": [
    {
     "data": {
      "text/plain": [
       "merchant_id\n",
       "664    3918\n",
       "414     497\n",
       "366     315\n",
       "470     284\n",
       "29      279\n",
       "       ... \n",
       "47        1\n",
       "114       1\n",
       "42        1\n",
       "95        1\n",
       "37        1\n",
       "Name: order_id, Length: 2128, dtype: int64"
      ]
     },
     "execution_count": 71,
     "metadata": {},
     "output_type": "execute_result"
    }
   ],
   "source": [
    "baskets.groupby(['merchant_id']).order_id.nunique().sort_values(ascending = False)"
   ]
  },
  {
   "cell_type": "code",
   "execution_count": 72,
   "id": "c3838cb9-0936-4f17-be05-555016bd39e9",
   "metadata": {},
   "outputs": [
    {
     "data": {
      "text/plain": [
       "<AxesSubplot:xlabel='merchant_id'>"
      ]
     },
     "execution_count": 72,
     "metadata": {},
     "output_type": "execute_result"
    },
    {
     "data": {
      "image/png": "[encoded data removed]",
      "text/plain": [
       "<Figure size 432x288 with 1 Axes>"
      ]
     },
     "metadata": {
      "needs_background": "light"
     },
     "output_type": "display_data"
    }
   ],
   "source": [
    "baskets.groupby(['merchant_id']).order_id.nunique().plot()"
   ]
  },
  {
   "cell_type": "markdown",
   "id": "4431b328-4ddc-4d8a-97f2-4d0f4811f89f",
   "metadata": {},
   "source": [
    "Plot to show how many purchases each merchant has made over the year. Notice how much 414 stands out. They are far and away the most frequent purchaser. "
   ]
  },
  {
   "cell_type": "markdown",
   "id": "21f984e7-52d0-4765-a9a9-39ce12c41ae3",
   "metadata": {},
   "source": [
    "Top orderers are \n",
    "1. 414 (5)\n",
    "2. 366 (4)\n",
    "3. 470 (3)\n",
    "4. 29  (2) \n",
    "5. 308 (1)"
   ]
  },
  {
   "cell_type": "markdown",
   "id": "fd16dd30-9fd1-4ba5-9841-9ce21922a5e7",
   "metadata": {},
   "source": [
    "Let's look at their order habits over time."
   ]
  },
  {
   "cell_type": "code",
   "execution_count": 73,
   "id": "b79d97f3-b43c-491d-8bff-f145c5170e57",
   "metadata": {},
   "outputs": [],
   "source": [
    "options = [414,366,470,29,308]"
   ]
  },
  {
   "cell_type": "code",
   "execution_count": 74,
   "id": "6a707398-03d3-44f8-859d-3eb0bfd44275",
   "metadata": {},
   "outputs": [
    {
     "data": {
      "image/png": "[encoded data removed]",
      "text/plain": [
       "<Figure size 432x288 with 1 Axes>"
      ]
     },
     "metadata": {
      "needs_background": "light"
     },
     "output_type": "display_data"
    }
   ],
   "source": [
    "for i in range(5):\n",
    "    baskets[baskets['merchant_id']==options[i]].groupby('month_order')['order_id'].nunique().plot(title = 'Merchant Orders per Month').legend([414,366,470,29,308],fancybox = True)\n"
   ]
  },
  {
   "cell_type": "markdown",
   "id": "b8ffad67-60bd-4f27-932e-0fb811ea78ba",
   "metadata": {},
   "source": [
    "It looks like all merchants have consistently made orders over the year, following a generally consistent pattern. I notice that the orders drop a bit at the end- is this because of a holiday? or covid rising again over the summer?"
   ]
  },
  {
   "cell_type": "markdown",
   "id": "44e4510f-236d-4c16-82dd-c959e358d7c7",
   "metadata": {},
   "source": [
    "Lets plot what their spending habits are."
   ]
  },
  {
   "cell_type": "code",
   "execution_count": 75,
   "id": "5e7a34eb-c6db-4745-8c52-7067f904fbbf",
   "metadata": {},
   "outputs": [
    {
     "data": {
      "image/png": "[encoded data removed]",
      "text/plain": [
       "<Figure size 432x288 with 1 Axes>"
      ]
     },
     "metadata": {
      "needs_background": "light"
     },
     "output_type": "display_data"
    }
   ],
   "source": [
    "for i in range(5):\n",
    "    baskets[baskets['merchant_id']==options[i]].groupby('month_order')['spent'].sum().plot().legend([414,366,470,29,308],fancybox = True)\n"
   ]
  },
  {
   "cell_type": "markdown",
   "id": "a4ce9927-6f36-4045-b2e9-10ca6f11d571",
   "metadata": {},
   "source": [
    "366 is spending quit a bit over the year. This makes sense because they were also on the list for top spenders."
   ]
  },
  {
   "cell_type": "markdown",
   "id": "665ccecf-64fa-4351-b213-cae29045af15",
   "metadata": {},
   "source": [
    "I wonder how many items they are buying? Are their orders large or small?"
   ]
  },
  {
   "cell_type": "code",
   "execution_count": 76,
   "id": "631bf926-8305-4525-821d-e9a6fe4597c2",
   "metadata": {},
   "outputs": [
    {
     "data": {
      "image/png": "[encoded data removed]",
      "text/plain": [
       "<Figure size 432x288 with 1 Axes>"
      ]
     },
     "metadata": {
      "needs_background": "light"
     },
     "output_type": "display_data"
    }
   ],
   "source": [
    "for i in range(5):\n",
    "    baskets[baskets['merchant_id']==options[i]].groupby('month_order')['qty'].sum().plot(ylim = (0, 8000)).legend([414,366,470,29,308],fancybox = True)\n"
   ]
  },
  {
   "cell_type": "markdown",
   "id": "bca4e9c9-eeb6-4746-a050-07ac8506a783",
   "metadata": {},
   "source": [
    "All of the merchants spiked in their items purchased in March through april. Their spending also spiked during this time. I predicted that this would not happen because of the Ramadon holiday. Maybe they are buying more because people want to not go far from home to shop so corner stores have large stock?"
   ]
  },
  {
   "cell_type": "markdown",
   "id": "0d4023d0-ec1c-4c3a-9a36-ca76cb7076f3",
   "metadata": {},
   "source": [
    "### I've been noticing that a lot of the significant statistics are with merchants with low merchant id's compared to the median. Could this be becuase they assign merchant id's in the order in which they start buying? This would make sense because higher merchant id's wouldnt have the same amount of time to biuld up profiles that would spend a lot of money. In another year, some of the bigger merchants may be in the 1-2 thousands. Let's test just the last month for frequency and overall spending to see if there are higher merchant id's in the running, which would support my hypothesis. "
   ]
  },
  {
   "cell_type": "code",
   "execution_count": 77,
   "id": "55860c35-3e19-4878-ab35-aaa296695e7b",
   "metadata": {},
   "outputs": [],
   "source": [
    "onemonth = baskets[baskets['month_order'] > 12]"
   ]
  },
  {
   "cell_type": "code",
   "execution_count": 78,
   "id": "7a88493c-017a-4959-87ba-f4a33c570a8e",
   "metadata": {},
   "outputs": [
    {
     "data": {
      "text/plain": [
       "merchant_id\n",
       "441     182885500.0\n",
       "122      77248250.0\n",
       "1780     70122500.0\n",
       "1770     55285500.0\n",
       "2095     49160500.0\n",
       "           ...     \n",
       "1450       417500.0\n",
       "864        360000.0\n",
       "460        189400.0\n",
       "1711       172000.0\n",
       "964         40000.0\n",
       "Name: spent, Length: 271, dtype: float64"
      ]
     },
     "execution_count": 78,
     "metadata": {},
     "output_type": "execute_result"
    }
   ],
   "source": [
    "onemonth.groupby('merchant_id').spent.sum().sort_values(ascending = False)"
   ]
  },
  {
   "cell_type": "code",
   "execution_count": 79,
   "id": "bb47db43-5132-4087-bf01-86160fa21343",
   "metadata": {},
   "outputs": [
    {
     "data": {
      "text/plain": [
       "merchant_id\n",
       "2095    29\n",
       "1924    26\n",
       "1681    20\n",
       "1889    19\n",
       "249     19\n",
       "        ..\n",
       "1377     1\n",
       "1291     1\n",
       "1284     1\n",
       "1262     1\n",
       "1357     1\n",
       "Name: order_id, Length: 271, dtype: int64"
      ]
     },
     "execution_count": 79,
     "metadata": {},
     "output_type": "execute_result"
    }
   ],
   "source": [
    "onemonth.groupby(['merchant_id']).order_id.nunique().sort_values(ascending = False)"
   ]
  },
  {
   "cell_type": "markdown",
   "id": "3c8f7d1b-3808-414c-9582-6453e7d79c5d",
   "metadata": {},
   "source": [
    "As I predicted, there has been a sharp rise of higher merchant id order numbers in the last month. Many merchants with ids in the thousands have broken into the top 5 both for spending and for frequency. This doesn't affect our overall findings, but note this caveat in the poster. Our top spenders now will probably not continue forever with the new merchants spending a lot. "
   ]
  },
  {
   "cell_type": "markdown",
   "id": "902e976a-3a41-4d14-a775-5bac052cf065",
   "metadata": {},
   "source": [
    "Now, returning to the RFM ranking, my results are:\n",
    "1. 366 (8)\n",
    "2. 414 (5)\n",
    "3. 441 (5)\n",
    "4. 470 (3)\n",
    "5. 122 (3)"
   ]
  },
  {
   "cell_type": "markdown",
   "id": "9d686bfe-fb0c-4f49-84bb-1ce256f51bff",
   "metadata": {},
   "source": [
    "I gave prefferential treatment to top spenders rather than frequent purchasers, since to a for-profit business, money spent is the ultimate measure."
   ]
  },
  {
   "cell_type": "markdown",
   "id": "53b4bd69-4daf-44a3-b997-8ea92c01ea69",
   "metadata": {},
   "source": [
    "I think a better way to estimate the value of a customer to the company would be some statistics for a specific merchant over thier time as a customer. I am going to make a merchant table to try to do this. "
   ]
  },
  {
   "cell_type": "code",
   "execution_count": 80,
   "id": "a37f927b-2eb6-4456-95eb-02304abd3c1b",
   "metadata": {},
   "outputs": [],
   "source": [
    "merchants = baskets.groupby(['merchant_id']).agg({'spent': 'sum', 'order_id': 'nunique', 'date': 'nunique', 'sku_id':'nunique', 'top_cat_id':'nunique', 'sub_cat_id':'nunique'}).reset_index()"
   ]
  },
  {
   "cell_type": "code",
   "execution_count": 81,
   "id": "684d8d24-3aa7-45ec-8689-f146e731dab4",
   "metadata": {},
   "outputs": [
    {
     "data": {
      "text/html": [
       "<div>\n",
       "<style scoped>\n",
       "    .dataframe tbody tr th:only-of-type {\n",
       "        vertical-align: middle;\n",
       "    }\n",
       "\n",
       "    .dataframe tbody tr th {\n",
       "        vertical-align: top;\n",
       "    }\n",
       "\n",
       "    .dataframe thead th {\n",
       "        text-align: right;\n",
       "    }\n",
       "</style>\n",
       "<table border=\"1\" class=\"dataframe\">\n",
       "  <thead>\n",
       "    <tr style=\"text-align: right;\">\n",
       "      <th></th>\n",
       "      <th>merchant_id</th>\n",
       "      <th>spent</th>\n",
       "      <th>order_id</th>\n",
       "      <th>date</th>\n",
       "      <th>sku_id</th>\n",
       "      <th>top_cat_id</th>\n",
       "      <th>sub_cat_id</th>\n",
       "    </tr>\n",
       "  </thead>\n",
       "  <tbody>\n",
       "    <tr>\n",
       "      <th>323</th>\n",
       "      <td>333</td>\n",
       "      <td>150851500.0</td>\n",
       "      <td>6</td>\n",
       "      <td>6</td>\n",
       "      <td>17</td>\n",
       "      <td>7</td>\n",
       "      <td>12</td>\n",
       "    </tr>\n",
       "    <tr>\n",
       "      <th>342</th>\n",
       "      <td>352</td>\n",
       "      <td>29835650.0</td>\n",
       "      <td>32</td>\n",
       "      <td>27</td>\n",
       "      <td>92</td>\n",
       "      <td>20</td>\n",
       "      <td>37</td>\n",
       "    </tr>\n",
       "    <tr>\n",
       "      <th>687</th>\n",
       "      <td>698</td>\n",
       "      <td>118975000.0</td>\n",
       "      <td>10</td>\n",
       "      <td>8</td>\n",
       "      <td>43</td>\n",
       "      <td>10</td>\n",
       "      <td>20</td>\n",
       "    </tr>\n",
       "    <tr>\n",
       "      <th>600</th>\n",
       "      <td>611</td>\n",
       "      <td>61082650.0</td>\n",
       "      <td>60</td>\n",
       "      <td>47</td>\n",
       "      <td>135</td>\n",
       "      <td>18</td>\n",
       "      <td>36</td>\n",
       "    </tr>\n",
       "    <tr>\n",
       "      <th>47</th>\n",
       "      <td>50</td>\n",
       "      <td>191535550.0</td>\n",
       "      <td>14</td>\n",
       "      <td>13</td>\n",
       "      <td>256</td>\n",
       "      <td>24</td>\n",
       "      <td>57</td>\n",
       "    </tr>\n",
       "    <tr>\n",
       "      <th>1740</th>\n",
       "      <td>1751</td>\n",
       "      <td>3538500.0</td>\n",
       "      <td>2</td>\n",
       "      <td>2</td>\n",
       "      <td>14</td>\n",
       "      <td>4</td>\n",
       "      <td>4</td>\n",
       "    </tr>\n",
       "    <tr>\n",
       "      <th>1635</th>\n",
       "      <td>1646</td>\n",
       "      <td>81609150.0</td>\n",
       "      <td>72</td>\n",
       "      <td>60</td>\n",
       "      <td>117</td>\n",
       "      <td>16</td>\n",
       "      <td>33</td>\n",
       "    </tr>\n",
       "    <tr>\n",
       "      <th>1146</th>\n",
       "      <td>1157</td>\n",
       "      <td>245900.0</td>\n",
       "      <td>2</td>\n",
       "      <td>2</td>\n",
       "      <td>4</td>\n",
       "      <td>2</td>\n",
       "      <td>4</td>\n",
       "    </tr>\n",
       "    <tr>\n",
       "      <th>727</th>\n",
       "      <td>738</td>\n",
       "      <td>53869500.0</td>\n",
       "      <td>15</td>\n",
       "      <td>13</td>\n",
       "      <td>20</td>\n",
       "      <td>9</td>\n",
       "      <td>13</td>\n",
       "    </tr>\n",
       "    <tr>\n",
       "      <th>553</th>\n",
       "      <td>564</td>\n",
       "      <td>168061950.0</td>\n",
       "      <td>9</td>\n",
       "      <td>6</td>\n",
       "      <td>70</td>\n",
       "      <td>15</td>\n",
       "      <td>31</td>\n",
       "    </tr>\n",
       "  </tbody>\n",
       "</table>\n",
       "</div>"
      ],
      "text/plain": [
       "      merchant_id        spent  order_id  date  sku_id  top_cat_id  sub_cat_id\n",
       "323           333  150851500.0         6     6      17           7          12\n",
       "342           352   29835650.0        32    27      92          20          37\n",
       "687           698  118975000.0        10     8      43          10          20\n",
       "600           611   61082650.0        60    47     135          18          36\n",
       "47             50  191535550.0        14    13     256          24          57\n",
       "1740         1751    3538500.0         2     2      14           4           4\n",
       "1635         1646   81609150.0        72    60     117          16          33\n",
       "1146         1157     245900.0         2     2       4           2           4\n",
       "727           738   53869500.0        15    13      20           9          13\n",
       "553           564  168061950.0         9     6      70          15          31"
      ]
     },
     "execution_count": 81,
     "metadata": {},
     "output_type": "execute_result"
    }
   ],
   "source": [
    "merchants.sample(10)"
   ]
  },
  {
   "cell_type": "markdown",
   "id": "c8b5d85d-4ad0-4625-ad1c-5e212b87f937",
   "metadata": {},
   "source": [
    "How can we use this to find the top merchants over time? I want to find their total spending and divide it over the time they've been a customer. lets make a new dataframe to better prepare for this."
   ]
  },
  {
   "cell_type": "code",
   "execution_count": 82,
   "id": "6b635061-0a1a-4121-928b-6d1dd07258eb",
   "metadata": {},
   "outputs": [],
   "source": [
    "dfmerch = baskets.groupby(['merchant_id']).agg({'spent': 'sum', 'month_order': 'min', 'order_id':'nunique'}).reset_index()"
   ]
  },
  {
   "cell_type": "code",
   "execution_count": 83,
   "id": "60eb4490-a913-44bd-9a8b-57b24df0de47",
   "metadata": {},
   "outputs": [
    {
     "data": {
      "text/html": [
       "<div>\n",
       "<style scoped>\n",
       "    .dataframe tbody tr th:only-of-type {\n",
       "        vertical-align: middle;\n",
       "    }\n",
       "\n",
       "    .dataframe tbody tr th {\n",
       "        vertical-align: top;\n",
       "    }\n",
       "\n",
       "    .dataframe thead th {\n",
       "        text-align: right;\n",
       "    }\n",
       "</style>\n",
       "<table border=\"1\" class=\"dataframe\">\n",
       "  <thead>\n",
       "    <tr style=\"text-align: right;\">\n",
       "      <th></th>\n",
       "      <th>merchant_id</th>\n",
       "      <th>spent</th>\n",
       "      <th>month_order</th>\n",
       "      <th>order_id</th>\n",
       "    </tr>\n",
       "  </thead>\n",
       "  <tbody>\n",
       "    <tr>\n",
       "      <th>1348</th>\n",
       "      <td>1359</td>\n",
       "      <td>1606000.0</td>\n",
       "      <td>8</td>\n",
       "      <td>3</td>\n",
       "    </tr>\n",
       "    <tr>\n",
       "      <th>219</th>\n",
       "      <td>228</td>\n",
       "      <td>9162500.0</td>\n",
       "      <td>4</td>\n",
       "      <td>3</td>\n",
       "    </tr>\n",
       "    <tr>\n",
       "      <th>1153</th>\n",
       "      <td>1164</td>\n",
       "      <td>26860500.0</td>\n",
       "      <td>3</td>\n",
       "      <td>15</td>\n",
       "    </tr>\n",
       "    <tr>\n",
       "      <th>6</th>\n",
       "      <td>8</td>\n",
       "      <td>43408000.0</td>\n",
       "      <td>4</td>\n",
       "      <td>24</td>\n",
       "    </tr>\n",
       "    <tr>\n",
       "      <th>565</th>\n",
       "      <td>576</td>\n",
       "      <td>172455950.0</td>\n",
       "      <td>1</td>\n",
       "      <td>35</td>\n",
       "    </tr>\n",
       "    <tr>\n",
       "      <th>1091</th>\n",
       "      <td>1102</td>\n",
       "      <td>11415846.0</td>\n",
       "      <td>3</td>\n",
       "      <td>10</td>\n",
       "    </tr>\n",
       "    <tr>\n",
       "      <th>1341</th>\n",
       "      <td>1352</td>\n",
       "      <td>1454500.0</td>\n",
       "      <td>4</td>\n",
       "      <td>6</td>\n",
       "    </tr>\n",
       "    <tr>\n",
       "      <th>150</th>\n",
       "      <td>159</td>\n",
       "      <td>142811500.0</td>\n",
       "      <td>3</td>\n",
       "      <td>26</td>\n",
       "    </tr>\n",
       "    <tr>\n",
       "      <th>1987</th>\n",
       "      <td>1998</td>\n",
       "      <td>4873200.0</td>\n",
       "      <td>8</td>\n",
       "      <td>2</td>\n",
       "    </tr>\n",
       "    <tr>\n",
       "      <th>1993</th>\n",
       "      <td>2004</td>\n",
       "      <td>16900464.0</td>\n",
       "      <td>8</td>\n",
       "      <td>2</td>\n",
       "    </tr>\n",
       "  </tbody>\n",
       "</table>\n",
       "</div>"
      ],
      "text/plain": [
       "      merchant_id        spent  month_order  order_id\n",
       "1348         1359    1606000.0            8         3\n",
       "219           228    9162500.0            4         3\n",
       "1153         1164   26860500.0            3        15\n",
       "6               8   43408000.0            4        24\n",
       "565           576  172455950.0            1        35\n",
       "1091         1102   11415846.0            3        10\n",
       "1341         1352    1454500.0            4         6\n",
       "150           159  142811500.0            3        26\n",
       "1987         1998    4873200.0            8         2\n",
       "1993         2004   16900464.0            8         2"
      ]
     },
     "execution_count": 83,
     "metadata": {},
     "output_type": "execute_result"
    }
   ],
   "source": [
    "dfmerch.sample(10)"
   ]
  },
  {
   "cell_type": "markdown",
   "id": "79a18c29-c1ed-414f-8eb1-611fd89bdc1a",
   "metadata": {},
   "source": [
    "Now lets use this to make a row that shows the months that they've been a customer."
   ]
  },
  {
   "cell_type": "code",
   "execution_count": 84,
   "id": "ce0b85f4-2f38-4f03-a194-683d5805267f",
   "metadata": {},
   "outputs": [],
   "source": [
    "dfmerch['loyalty'] = 14 - dfmerch['month_order']"
   ]
  },
  {
   "cell_type": "code",
   "execution_count": 85,
   "id": "e0f4cdb2-46d1-4c4e-945d-77a050b9ecaa",
   "metadata": {},
   "outputs": [
    {
     "data": {
      "text/html": [
       "<div>\n",
       "<style scoped>\n",
       "    .dataframe tbody tr th:only-of-type {\n",
       "        vertical-align: middle;\n",
       "    }\n",
       "\n",
       "    .dataframe tbody tr th {\n",
       "        vertical-align: top;\n",
       "    }\n",
       "\n",
       "    .dataframe thead th {\n",
       "        text-align: right;\n",
       "    }\n",
       "</style>\n",
       "<table border=\"1\" class=\"dataframe\">\n",
       "  <thead>\n",
       "    <tr style=\"text-align: right;\">\n",
       "      <th></th>\n",
       "      <th>merchant_id</th>\n",
       "      <th>spent</th>\n",
       "      <th>month_order</th>\n",
       "      <th>order_id</th>\n",
       "      <th>loyalty</th>\n",
       "    </tr>\n",
       "  </thead>\n",
       "  <tbody>\n",
       "    <tr>\n",
       "      <th>864</th>\n",
       "      <td>875</td>\n",
       "      <td>36787000.0</td>\n",
       "      <td>3</td>\n",
       "      <td>11</td>\n",
       "      <td>11</td>\n",
       "    </tr>\n",
       "    <tr>\n",
       "      <th>877</th>\n",
       "      <td>888</td>\n",
       "      <td>12665000.0</td>\n",
       "      <td>3</td>\n",
       "      <td>16</td>\n",
       "      <td>11</td>\n",
       "    </tr>\n",
       "    <tr>\n",
       "      <th>1658</th>\n",
       "      <td>1669</td>\n",
       "      <td>89275550.0</td>\n",
       "      <td>6</td>\n",
       "      <td>18</td>\n",
       "      <td>8</td>\n",
       "    </tr>\n",
       "    <tr>\n",
       "      <th>1026</th>\n",
       "      <td>1037</td>\n",
       "      <td>66488500.0</td>\n",
       "      <td>3</td>\n",
       "      <td>15</td>\n",
       "      <td>11</td>\n",
       "    </tr>\n",
       "    <tr>\n",
       "      <th>58</th>\n",
       "      <td>61</td>\n",
       "      <td>2225100.0</td>\n",
       "      <td>3</td>\n",
       "      <td>3</td>\n",
       "      <td>11</td>\n",
       "    </tr>\n",
       "    <tr>\n",
       "      <th>359</th>\n",
       "      <td>369</td>\n",
       "      <td>276337000.0</td>\n",
       "      <td>3</td>\n",
       "      <td>19</td>\n",
       "      <td>11</td>\n",
       "    </tr>\n",
       "    <tr>\n",
       "      <th>964</th>\n",
       "      <td>975</td>\n",
       "      <td>50329850.0</td>\n",
       "      <td>3</td>\n",
       "      <td>63</td>\n",
       "      <td>11</td>\n",
       "    </tr>\n",
       "    <tr>\n",
       "      <th>318</th>\n",
       "      <td>328</td>\n",
       "      <td>42358000.0</td>\n",
       "      <td>3</td>\n",
       "      <td>22</td>\n",
       "      <td>11</td>\n",
       "    </tr>\n",
       "    <tr>\n",
       "      <th>840</th>\n",
       "      <td>851</td>\n",
       "      <td>30805300.0</td>\n",
       "      <td>3</td>\n",
       "      <td>29</td>\n",
       "      <td>11</td>\n",
       "    </tr>\n",
       "    <tr>\n",
       "      <th>888</th>\n",
       "      <td>899</td>\n",
       "      <td>19103000.0</td>\n",
       "      <td>3</td>\n",
       "      <td>30</td>\n",
       "      <td>11</td>\n",
       "    </tr>\n",
       "  </tbody>\n",
       "</table>\n",
       "</div>"
      ],
      "text/plain": [
       "      merchant_id        spent  month_order  order_id  loyalty\n",
       "864           875   36787000.0            3        11       11\n",
       "877           888   12665000.0            3        16       11\n",
       "1658         1669   89275550.0            6        18        8\n",
       "1026         1037   66488500.0            3        15       11\n",
       "58             61    2225100.0            3         3       11\n",
       "359           369  276337000.0            3        19       11\n",
       "964           975   50329850.0            3        63       11\n",
       "318           328   42358000.0            3        22       11\n",
       "840           851   30805300.0            3        29       11\n",
       "888           899   19103000.0            3        30       11"
      ]
     },
     "execution_count": 85,
     "metadata": {},
     "output_type": "execute_result"
    }
   ],
   "source": [
    "dfmerch.sample(10)"
   ]
  },
  {
   "cell_type": "markdown",
   "id": "47dfc0d7-32b4-41f0-90bd-edef1d6933bc",
   "metadata": {},
   "source": [
    "Now we can use this data to rank merchants in terms of money spent over the months they've been a customer."
   ]
  },
  {
   "cell_type": "code",
   "execution_count": 86,
   "id": "7d884769-c065-4be8-8ca0-4d7032f95a85",
   "metadata": {},
   "outputs": [],
   "source": [
    "dfmerch['avgspent'] = dfmerch['spent'] / dfmerch['loyalty']"
   ]
  },
  {
   "cell_type": "code",
   "execution_count": 87,
   "id": "e5a60679-9e7f-4032-893f-232e874ea45b",
   "metadata": {},
   "outputs": [
    {
     "data": {
      "text/html": [
       "<div>\n",
       "<style scoped>\n",
       "    .dataframe tbody tr th:only-of-type {\n",
       "        vertical-align: middle;\n",
       "    }\n",
       "\n",
       "    .dataframe tbody tr th {\n",
       "        vertical-align: top;\n",
       "    }\n",
       "\n",
       "    .dataframe thead th {\n",
       "        text-align: right;\n",
       "    }\n",
       "</style>\n",
       "<table border=\"1\" class=\"dataframe\">\n",
       "  <thead>\n",
       "    <tr style=\"text-align: right;\">\n",
       "      <th></th>\n",
       "      <th>merchant_id</th>\n",
       "      <th>spent</th>\n",
       "      <th>month_order</th>\n",
       "      <th>order_id</th>\n",
       "      <th>loyalty</th>\n",
       "      <th>avgspent</th>\n",
       "    </tr>\n",
       "  </thead>\n",
       "  <tbody>\n",
       "    <tr>\n",
       "      <th>875</th>\n",
       "      <td>886</td>\n",
       "      <td>31432700.0</td>\n",
       "      <td>3</td>\n",
       "      <td>18</td>\n",
       "      <td>11</td>\n",
       "      <td>2.857518e+06</td>\n",
       "    </tr>\n",
       "    <tr>\n",
       "      <th>263</th>\n",
       "      <td>272</td>\n",
       "      <td>219165350.0</td>\n",
       "      <td>1</td>\n",
       "      <td>40</td>\n",
       "      <td>13</td>\n",
       "      <td>1.685887e+07</td>\n",
       "    </tr>\n",
       "    <tr>\n",
       "      <th>348</th>\n",
       "      <td>358</td>\n",
       "      <td>112566049.0</td>\n",
       "      <td>2</td>\n",
       "      <td>108</td>\n",
       "      <td>12</td>\n",
       "      <td>9.380504e+06</td>\n",
       "    </tr>\n",
       "    <tr>\n",
       "      <th>974</th>\n",
       "      <td>985</td>\n",
       "      <td>1852500.0</td>\n",
       "      <td>3</td>\n",
       "      <td>2</td>\n",
       "      <td>11</td>\n",
       "      <td>1.684091e+05</td>\n",
       "    </tr>\n",
       "    <tr>\n",
       "      <th>814</th>\n",
       "      <td>825</td>\n",
       "      <td>15267500.0</td>\n",
       "      <td>2</td>\n",
       "      <td>8</td>\n",
       "      <td>12</td>\n",
       "      <td>1.272292e+06</td>\n",
       "    </tr>\n",
       "    <tr>\n",
       "      <th>1987</th>\n",
       "      <td>1998</td>\n",
       "      <td>4873200.0</td>\n",
       "      <td>8</td>\n",
       "      <td>2</td>\n",
       "      <td>6</td>\n",
       "      <td>8.122000e+05</td>\n",
       "    </tr>\n",
       "    <tr>\n",
       "      <th>126</th>\n",
       "      <td>135</td>\n",
       "      <td>178317520.0</td>\n",
       "      <td>3</td>\n",
       "      <td>59</td>\n",
       "      <td>11</td>\n",
       "      <td>1.621068e+07</td>\n",
       "    </tr>\n",
       "    <tr>\n",
       "      <th>723</th>\n",
       "      <td>734</td>\n",
       "      <td>109917200.0</td>\n",
       "      <td>2</td>\n",
       "      <td>58</td>\n",
       "      <td>12</td>\n",
       "      <td>9.159767e+06</td>\n",
       "    </tr>\n",
       "    <tr>\n",
       "      <th>1712</th>\n",
       "      <td>1723</td>\n",
       "      <td>392500.0</td>\n",
       "      <td>7</td>\n",
       "      <td>2</td>\n",
       "      <td>7</td>\n",
       "      <td>5.607143e+04</td>\n",
       "    </tr>\n",
       "    <tr>\n",
       "      <th>191</th>\n",
       "      <td>200</td>\n",
       "      <td>6293700.0</td>\n",
       "      <td>3</td>\n",
       "      <td>8</td>\n",
       "      <td>11</td>\n",
       "      <td>5.721545e+05</td>\n",
       "    </tr>\n",
       "  </tbody>\n",
       "</table>\n",
       "</div>"
      ],
      "text/plain": [
       "      merchant_id        spent  month_order  order_id  loyalty      avgspent\n",
       "875           886   31432700.0            3        18       11  2.857518e+06\n",
       "263           272  219165350.0            1        40       13  1.685887e+07\n",
       "348           358  112566049.0            2       108       12  9.380504e+06\n",
       "974           985    1852500.0            3         2       11  1.684091e+05\n",
       "814           825   15267500.0            2         8       12  1.272292e+06\n",
       "1987         1998    4873200.0            8         2        6  8.122000e+05\n",
       "126           135  178317520.0            3        59       11  1.621068e+07\n",
       "723           734  109917200.0            2        58       12  9.159767e+06\n",
       "1712         1723     392500.0            7         2        7  5.607143e+04\n",
       "191           200    6293700.0            3         8       11  5.721545e+05"
      ]
     },
     "execution_count": 87,
     "metadata": {},
     "output_type": "execute_result"
    }
   ],
   "source": [
    "dfmerch.sample(10)"
   ]
  },
  {
   "cell_type": "code",
   "execution_count": 88,
   "id": "6625adf7-9ea9-4a30-bf06-a60c4e01e819",
   "metadata": {},
   "outputs": [
    {
     "data": {
      "text/html": [
       "<div>\n",
       "<style scoped>\n",
       "    .dataframe tbody tr th:only-of-type {\n",
       "        vertical-align: middle;\n",
       "    }\n",
       "\n",
       "    .dataframe tbody tr th {\n",
       "        vertical-align: top;\n",
       "    }\n",
       "\n",
       "    .dataframe thead th {\n",
       "        text-align: right;\n",
       "    }\n",
       "</style>\n",
       "<table border=\"1\" class=\"dataframe\">\n",
       "  <thead>\n",
       "    <tr style=\"text-align: right;\">\n",
       "      <th></th>\n",
       "      <th>merchant_id</th>\n",
       "      <th>spent</th>\n",
       "      <th>month_order</th>\n",
       "      <th>order_id</th>\n",
       "      <th>loyalty</th>\n",
       "      <th>avgspent</th>\n",
       "    </tr>\n",
       "  </thead>\n",
       "  <tbody>\n",
       "    <tr>\n",
       "      <th>653</th>\n",
       "      <td>664</td>\n",
       "      <td>3.947079e+09</td>\n",
       "      <td>2</td>\n",
       "      <td>3918</td>\n",
       "      <td>12</td>\n",
       "      <td>3.289233e+08</td>\n",
       "    </tr>\n",
       "    <tr>\n",
       "      <th>2073</th>\n",
       "      <td>2084</td>\n",
       "      <td>9.327727e+08</td>\n",
       "      <td>9</td>\n",
       "      <td>3</td>\n",
       "      <td>5</td>\n",
       "      <td>1.865545e+08</td>\n",
       "    </tr>\n",
       "    <tr>\n",
       "      <th>10</th>\n",
       "      <td>12</td>\n",
       "      <td>4.872730e+08</td>\n",
       "      <td>11</td>\n",
       "      <td>6</td>\n",
       "      <td>3</td>\n",
       "      <td>1.624243e+08</td>\n",
       "    </tr>\n",
       "    <tr>\n",
       "      <th>356</th>\n",
       "      <td>366</td>\n",
       "      <td>1.724671e+09</td>\n",
       "      <td>2</td>\n",
       "      <td>315</td>\n",
       "      <td>12</td>\n",
       "      <td>1.437226e+08</td>\n",
       "    </tr>\n",
       "    <tr>\n",
       "      <th>430</th>\n",
       "      <td>441</td>\n",
       "      <td>1.729729e+09</td>\n",
       "      <td>1</td>\n",
       "      <td>157</td>\n",
       "      <td>13</td>\n",
       "      <td>1.330561e+08</td>\n",
       "    </tr>\n",
       "    <tr>\n",
       "      <th>419</th>\n",
       "      <td>430</td>\n",
       "      <td>1.441119e+09</td>\n",
       "      <td>3</td>\n",
       "      <td>159</td>\n",
       "      <td>11</td>\n",
       "      <td>1.310108e+08</td>\n",
       "    </tr>\n",
       "    <tr>\n",
       "      <th>113</th>\n",
       "      <td>122</td>\n",
       "      <td>1.491349e+09</td>\n",
       "      <td>2</td>\n",
       "      <td>149</td>\n",
       "      <td>12</td>\n",
       "      <td>1.242791e+08</td>\n",
       "    </tr>\n",
       "    <tr>\n",
       "      <th>295</th>\n",
       "      <td>305</td>\n",
       "      <td>1.368091e+09</td>\n",
       "      <td>1</td>\n",
       "      <td>126</td>\n",
       "      <td>13</td>\n",
       "      <td>1.052377e+08</td>\n",
       "    </tr>\n",
       "    <tr>\n",
       "      <th>30</th>\n",
       "      <td>32</td>\n",
       "      <td>1.213518e+09</td>\n",
       "      <td>2</td>\n",
       "      <td>125</td>\n",
       "      <td>12</td>\n",
       "      <td>1.011265e+08</td>\n",
       "    </tr>\n",
       "    <tr>\n",
       "      <th>638</th>\n",
       "      <td>649</td>\n",
       "      <td>1.078626e+09</td>\n",
       "      <td>3</td>\n",
       "      <td>231</td>\n",
       "      <td>11</td>\n",
       "      <td>9.805689e+07</td>\n",
       "    </tr>\n",
       "  </tbody>\n",
       "</table>\n",
       "</div>"
      ],
      "text/plain": [
       "      merchant_id         spent  month_order  order_id  loyalty      avgspent\n",
       "653           664  3.947079e+09            2      3918       12  3.289233e+08\n",
       "2073         2084  9.327727e+08            9         3        5  1.865545e+08\n",
       "10             12  4.872730e+08           11         6        3  1.624243e+08\n",
       "356           366  1.724671e+09            2       315       12  1.437226e+08\n",
       "430           441  1.729729e+09            1       157       13  1.330561e+08\n",
       "419           430  1.441119e+09            3       159       11  1.310108e+08\n",
       "113           122  1.491349e+09            2       149       12  1.242791e+08\n",
       "295           305  1.368091e+09            1       126       13  1.052377e+08\n",
       "30             32  1.213518e+09            2       125       12  1.011265e+08\n",
       "638           649  1.078626e+09            3       231       11  9.805689e+07"
      ]
     },
     "execution_count": 88,
     "metadata": {},
     "output_type": "execute_result"
    }
   ],
   "source": [
    "dfmerch.sort_values(by = 'avgspent', ascending = False).head(10)"
   ]
  },
  {
   "cell_type": "markdown",
   "id": "550d5d08-11ca-48e1-9135-cfab389ff540",
   "metadata": {},
   "source": [
    "This is interesting- we have new contenders at the top. Looking back, the top 3 are outliers that have been identified in the past. let's drop all three."
   ]
  },
  {
   "cell_type": "code",
   "execution_count": 89,
   "id": "7e757274-edb1-4d6f-a437-30ad9d832801",
   "metadata": {},
   "outputs": [],
   "source": [
    "dfmerch = dfmerch.drop((dfmerch[dfmerch['merchant_id']==664]).index)\n",
    "dfmerch = dfmerch.drop((dfmerch[dfmerch['merchant_id']==2084]).index)\n",
    "dfmerch = dfmerch.drop((dfmerch[dfmerch['merchant_id']==12]).index)"
   ]
  },
  {
   "cell_type": "code",
   "execution_count": 90,
   "id": "686f56ba-e8d2-47df-859d-f4bcb9e8790c",
   "metadata": {},
   "outputs": [
    {
     "data": {
      "text/html": [
       "<div>\n",
       "<style scoped>\n",
       "    .dataframe tbody tr th:only-of-type {\n",
       "        vertical-align: middle;\n",
       "    }\n",
       "\n",
       "    .dataframe tbody tr th {\n",
       "        vertical-align: top;\n",
       "    }\n",
       "\n",
       "    .dataframe thead th {\n",
       "        text-align: right;\n",
       "    }\n",
       "</style>\n",
       "<table border=\"1\" class=\"dataframe\">\n",
       "  <thead>\n",
       "    <tr style=\"text-align: right;\">\n",
       "      <th></th>\n",
       "      <th>merchant_id</th>\n",
       "      <th>spent</th>\n",
       "      <th>month_order</th>\n",
       "      <th>order_id</th>\n",
       "      <th>loyalty</th>\n",
       "      <th>avgspent</th>\n",
       "    </tr>\n",
       "  </thead>\n",
       "  <tbody>\n",
       "    <tr>\n",
       "      <th>356</th>\n",
       "      <td>366</td>\n",
       "      <td>1.724671e+09</td>\n",
       "      <td>2</td>\n",
       "      <td>315</td>\n",
       "      <td>12</td>\n",
       "      <td>1.437226e+08</td>\n",
       "    </tr>\n",
       "    <tr>\n",
       "      <th>430</th>\n",
       "      <td>441</td>\n",
       "      <td>1.729729e+09</td>\n",
       "      <td>1</td>\n",
       "      <td>157</td>\n",
       "      <td>13</td>\n",
       "      <td>1.330561e+08</td>\n",
       "    </tr>\n",
       "    <tr>\n",
       "      <th>419</th>\n",
       "      <td>430</td>\n",
       "      <td>1.441119e+09</td>\n",
       "      <td>3</td>\n",
       "      <td>159</td>\n",
       "      <td>11</td>\n",
       "      <td>1.310108e+08</td>\n",
       "    </tr>\n",
       "    <tr>\n",
       "      <th>113</th>\n",
       "      <td>122</td>\n",
       "      <td>1.491349e+09</td>\n",
       "      <td>2</td>\n",
       "      <td>149</td>\n",
       "      <td>12</td>\n",
       "      <td>1.242791e+08</td>\n",
       "    </tr>\n",
       "    <tr>\n",
       "      <th>295</th>\n",
       "      <td>305</td>\n",
       "      <td>1.368091e+09</td>\n",
       "      <td>1</td>\n",
       "      <td>126</td>\n",
       "      <td>13</td>\n",
       "      <td>1.052377e+08</td>\n",
       "    </tr>\n",
       "    <tr>\n",
       "      <th>30</th>\n",
       "      <td>32</td>\n",
       "      <td>1.213518e+09</td>\n",
       "      <td>2</td>\n",
       "      <td>125</td>\n",
       "      <td>12</td>\n",
       "      <td>1.011265e+08</td>\n",
       "    </tr>\n",
       "    <tr>\n",
       "      <th>638</th>\n",
       "      <td>649</td>\n",
       "      <td>1.078626e+09</td>\n",
       "      <td>3</td>\n",
       "      <td>231</td>\n",
       "      <td>11</td>\n",
       "      <td>9.805689e+07</td>\n",
       "    </tr>\n",
       "    <tr>\n",
       "      <th>312</th>\n",
       "      <td>322</td>\n",
       "      <td>1.266263e+09</td>\n",
       "      <td>1</td>\n",
       "      <td>179</td>\n",
       "      <td>13</td>\n",
       "      <td>9.740484e+07</td>\n",
       "    </tr>\n",
       "    <tr>\n",
       "      <th>486</th>\n",
       "      <td>497</td>\n",
       "      <td>1.239717e+09</td>\n",
       "      <td>1</td>\n",
       "      <td>157</td>\n",
       "      <td>13</td>\n",
       "      <td>9.536284e+07</td>\n",
       "    </tr>\n",
       "    <tr>\n",
       "      <th>2084</th>\n",
       "      <td>2095</td>\n",
       "      <td>3.539850e+08</td>\n",
       "      <td>10</td>\n",
       "      <td>136</td>\n",
       "      <td>4</td>\n",
       "      <td>8.849625e+07</td>\n",
       "    </tr>\n",
       "  </tbody>\n",
       "</table>\n",
       "</div>"
      ],
      "text/plain": [
       "      merchant_id         spent  month_order  order_id  loyalty      avgspent\n",
       "356           366  1.724671e+09            2       315       12  1.437226e+08\n",
       "430           441  1.729729e+09            1       157       13  1.330561e+08\n",
       "419           430  1.441119e+09            3       159       11  1.310108e+08\n",
       "113           122  1.491349e+09            2       149       12  1.242791e+08\n",
       "295           305  1.368091e+09            1       126       13  1.052377e+08\n",
       "30             32  1.213518e+09            2       125       12  1.011265e+08\n",
       "638           649  1.078626e+09            3       231       11  9.805689e+07\n",
       "312           322  1.266263e+09            1       179       13  9.740484e+07\n",
       "486           497  1.239717e+09            1       157       13  9.536284e+07\n",
       "2084         2095  3.539850e+08           10       136        4  8.849625e+07"
      ]
     },
     "execution_count": 90,
     "metadata": {},
     "output_type": "execute_result"
    }
   ],
   "source": [
    "dfmerch.sort_values(by = 'avgspent', ascending = False).head(10)"
   ]
  },
  {
   "cell_type": "markdown",
   "id": "26e772c7-fa85-4251-adb9-f004525e4812",
   "metadata": {},
   "source": [
    "Now we can see that if we are not including how long a merchant has been a customer that we have a new top 5 spenders. "
   ]
  },
  {
   "cell_type": "markdown",
   "id": "4f3676d8-ded1-4fcf-8c0e-8d6fe0393f5b",
   "metadata": {},
   "source": [
    "They are:\n",
    "1. 366\n",
    "2. 441\n",
    "3. 430\n",
    "4. 122\n",
    "5. 305"
   ]
  },
  {
   "cell_type": "markdown",
   "id": "d12e4d1b-80bc-43aa-b124-9f68366d3738",
   "metadata": {},
   "source": [
    "Re-run top 5."
   ]
  },
  {
   "cell_type": "code",
   "execution_count": 91,
   "id": "3f729499-3f2e-4792-8591-1a3aaf4dbb2b",
   "metadata": {},
   "outputs": [],
   "source": [
    "options = [366, 441, 430, 122, 305]"
   ]
  },
  {
   "cell_type": "code",
   "execution_count": 92,
   "id": "eddb6760-8e58-44ba-99cd-054c29d6fcf9",
   "metadata": {},
   "outputs": [
    {
     "data": {
      "image/png": "[encoded data removed]",
      "text/plain": [
       "<Figure size 432x288 with 1 Axes>"
      ]
     },
     "metadata": {
      "needs_background": "light"
     },
     "output_type": "display_data"
    }
   ],
   "source": [
    "for i in range(5):\n",
    "    baskets[baskets['merchant_id']==options[i]].groupby('month_order')['spent'].sum().plot().legend([366, 441, 430, 122, 305],fancybox = True)"
   ]
  },
  {
   "cell_type": "markdown",
   "id": "307ac80e-747f-4bf0-a3d0-82ae20398679",
   "metadata": {},
   "source": [
    "Each merchant in this plot looks like they are not outliers. The top five for this method are:\n",
    "1. 366\n",
    "2. 441\n",
    "3. 430\n",
    "4. 122\n",
    "5. 305"
   ]
  },
  {
   "cell_type": "markdown",
   "id": "ba6c9cd6-6f93-4a00-b16d-f1efbab8e1e9",
   "metadata": {},
   "source": [
    "These two models for finding the top 5 reconcile pretty well with each other. 3/5 of the top 5 match, and 366 is the top customer in both. I feel that the second model represents a more fair analysis because all of the customers seem to have been loyal for a long time, so we are not ignoring new customers. These top 5 are the biggest spenders over all time, but also over each month they've purchased from us on average. "
   ]
  },
  {
   "cell_type": "code",
   "execution_count": 93,
   "id": "a231e089-4066-4569-944b-277084af71f7",
   "metadata": {},
   "outputs": [
    {
     "data": {
      "text/plain": [
       "<AxesSubplot:xlabel='loyalty'>"
      ]
     },
     "execution_count": 93,
     "metadata": {},
     "output_type": "execute_result"
    },
    {
     "data": {
      "image/png": "[encoded data removed]",
      "text/plain": [
       "<Figure size 432x288 with 1 Axes>"
      ]
     },
     "metadata": {
      "needs_background": "light"
     },
     "output_type": "display_data"
    }
   ],
   "source": [
    "dfmerch.groupby(by ='loyalty')['avgspent'].sum().plot()"
   ]
  },
  {
   "cell_type": "markdown",
   "id": "6a128508-15a2-440d-a503-f33a77aacdc8",
   "metadata": {},
   "source": [
    "Wow- from how this graph looks, the customers that have been with us longer clearly spend more per month. This could be because there are more of them- let's try to filter this variable out."
   ]
  },
  {
   "cell_type": "markdown",
   "id": "2551933d-2e4f-4cbb-86c7-8a2c902e86d6",
   "metadata": {},
   "source": [
    "How can I remove factor of merchants per loyalty month? Take average spending of all merchants over each month and plot."
   ]
  },
  {
   "cell_type": "code",
   "execution_count": 94,
   "id": "32090ba9-4569-448c-b165-2d81292c7d9d",
   "metadata": {},
   "outputs": [
    {
     "data": {
      "text/plain": [
       "loyalty\n",
       "1       3\n",
       "2      18\n",
       "3      22\n",
       "4      25\n",
       "5      44\n",
       "6     167\n",
       "7     225\n",
       "8     157\n",
       "9     120\n",
       "10    243\n",
       "11    651\n",
       "12    232\n",
       "13    218\n",
       "Name: merchant_id, dtype: int64"
      ]
     },
     "execution_count": 94,
     "metadata": {},
     "output_type": "execute_result"
    }
   ],
   "source": [
    "dfmerch.groupby(by ='loyalty')['merchant_id'].nunique()"
   ]
  },
  {
   "cell_type": "code",
   "execution_count": 95,
   "id": "2a11f7b2-577d-49a7-8827-c1afcb88fc76",
   "metadata": {},
   "outputs": [],
   "source": [
    "df1 = dfmerch.groupby(by ='loyalty').sum().avgspent"
   ]
  },
  {
   "cell_type": "code",
   "execution_count": 96,
   "id": "4a219f72-9cbc-4a76-9f85-1d67b335365c",
   "metadata": {},
   "outputs": [],
   "source": [
    "df2 = dfmerch.groupby(by ='loyalty').nunique().merchant_id"
   ]
  },
  {
   "cell_type": "code",
   "execution_count": 97,
   "id": "c5740c26-795b-4251-9823-2ac9a9110abe",
   "metadata": {},
   "outputs": [
    {
     "data": {
      "text/plain": [
       "loyalty\n",
       "1     2.618000e+06\n",
       "2     4.595447e+06\n",
       "3     1.021592e+07\n",
       "4     1.106171e+07\n",
       "5     5.422363e+06\n",
       "6     4.248987e+06\n",
       "7     5.054014e+06\n",
       "8     5.017685e+06\n",
       "9     3.953830e+06\n",
       "10    4.043968e+06\n",
       "11    5.856158e+06\n",
       "12    9.033538e+06\n",
       "13    1.714170e+07\n",
       "dtype: float64"
      ]
     },
     "execution_count": 97,
     "metadata": {},
     "output_type": "execute_result"
    }
   ],
   "source": [
    "df1/df2"
   ]
  },
  {
   "cell_type": "code",
   "execution_count": 98,
   "id": "2be14260-60d1-4633-9868-a99dbd9c78aa",
   "metadata": {},
   "outputs": [
    {
     "data": {
      "text/plain": [
       "<AxesSubplot:xlabel='loyalty'>"
      ]
     },
     "execution_count": 98,
     "metadata": {},
     "output_type": "execute_result"
    },
    {
     "data": {
      "image/png": "[encoded data removed]",
      "text/plain": [
       "<Figure size 432x288 with 1 Axes>"
      ]
     },
     "metadata": {
      "needs_background": "light"
     },
     "output_type": "display_data"
    }
   ],
   "source": [
    "(df1/df2).plot()"
   ]
  },
  {
   "cell_type": "markdown",
   "id": "4bb05957-3a05-4754-a474-79c396da13fb",
   "metadata": {},
   "source": [
    "This plot is extrememly interesting- it seems to be saying that customers that have been with us from 2-6 months, and 10-12 months are spending a majority of the money. What is going on with these in-between spenders? The drop off for 1 month makes sense, since in the most recent month, we only have 15 days of data. "
   ]
  },
  {
   "cell_type": "markdown",
   "id": "5fb3acc2-ea50-4252-8836-27d5c21f51a0",
   "metadata": {},
   "source": [
    "Further questions: Look into spending habits of our 6-10 month customers. Which loyalty categories do our top 5 fall into? Most likely on the higher end since they are bigger overall spenders. "
   ]
  },
  {
   "cell_type": "code",
   "execution_count": 99,
   "id": "8ff6a549-545d-4893-9042-42715c0ba4ef",
   "metadata": {},
   "outputs": [
    {
     "data": {
      "text/plain": [
       "<AxesSubplot:xlabel='month_order'>"
      ]
     },
     "execution_count": 99,
     "metadata": {},
     "output_type": "execute_result"
    },
    {
     "data": {
      "image/png": "[encoded data removed]",
      "text/plain": [
       "<Figure size 432x288 with 1 Axes>"
      ]
     },
     "metadata": {
      "needs_background": "light"
     },
     "output_type": "display_data"
    }
   ],
   "source": [
    "baskets.groupby('month_order').spent.sum().plot()"
   ]
  },
  {
   "cell_type": "markdown",
   "id": "65504914-50dc-4838-85fb-6bc9c72e8a0e",
   "metadata": {},
   "source": [
    "336, 441, 122. Top three merchants over both models. "
   ]
  },
  {
   "cell_type": "markdown",
   "id": "ac3c9af9-09cd-487b-bfa1-addeaf047fb7",
   "metadata": {},
   "source": [
    "Clustering tests on merchants dataframe: dfmerch"
   ]
  },
  {
   "cell_type": "code",
   "execution_count": 102,
   "id": "e1ddc40e-ffda-42ff-b0ce-75f539ee5c83",
   "metadata": {},
   "outputs": [],
   "source": [
    "def find_elbow(df, colnames, clusters_range):\n",
    "    df_for_cluster = df.loc[:,colnames]\n",
    "    stscaler = StandardScaler().fit(df_for_cluster)\n",
    "    normalized_df = stscaler.transform(df_for_cluster)\n",
    "\n",
    "    inertias = [] # wcss: Within Cluster Sum of Squares\n",
    "    for k in clusters_range:\n",
    "        kmeans = KMeans(init='k-means++',n_clusters=k,n_init=100, max_iter=300, random_state=0).fit(normalized_df)\n",
    "        inertias.append(kmeans.inertia_)\n",
    "    plt.figure()\n",
    "    plt.plot(clusters_range,inertias, marker='o')\n",
    "    plt.title('Elbow method for deciding on k')\n",
    "    plt.xlabel('Number of clusters: k')\n",
    "    plt.ylabel('inertia')\n",
    "    plt.show()\n",
    "    return"
   ]
  },
  {
   "cell_type": "code",
   "execution_count": 103,
   "id": "5a8627d7-afd3-4332-8c2f-10c0c31f41c9",
   "metadata": {},
   "outputs": [
    {
     "ename": "NameError",
     "evalue": "name 'StandardScaler' is not defined",
     "output_type": "error",
     "traceback": [
      "\u001b[0;31m---------------------------------------------------------------------------\u001b[0m",
      "\u001b[0;31mNameError\u001b[0m                                 Traceback (most recent call last)",
      "Input \u001b[0;32mIn [103]\u001b[0m, in \u001b[0;36m<cell line: 3>\u001b[0;34m()\u001b[0m\n\u001b[1;32m      1\u001b[0m colnames \u001b[38;5;241m=\u001b[39m dfmerch\u001b[38;5;241m.\u001b[39mcolumns[\u001b[38;5;241m2\u001b[39m:]\n\u001b[1;32m      2\u001b[0m clusters_range \u001b[38;5;241m=\u001b[39m [\u001b[38;5;241m3\u001b[39m,\u001b[38;5;241m4\u001b[39m,\u001b[38;5;241m5\u001b[39m,\u001b[38;5;241m6\u001b[39m,\u001b[38;5;241m7\u001b[39m,\u001b[38;5;241m8\u001b[39m,\u001b[38;5;241m9\u001b[39m,\u001b[38;5;241m10\u001b[39m,\u001b[38;5;241m11\u001b[39m,\u001b[38;5;241m12\u001b[39m,\u001b[38;5;241m13\u001b[39m,\u001b[38;5;241m14\u001b[39m,\u001b[38;5;241m15\u001b[39m]\n\u001b[0;32m----> 3\u001b[0m \u001b[43mfind_elbow\u001b[49m\u001b[43m(\u001b[49m\u001b[43mdfmerch\u001b[49m\u001b[43m,\u001b[49m\u001b[43m \u001b[49m\u001b[43mcolnames\u001b[49m\u001b[43m,\u001b[49m\u001b[43mclusters_range\u001b[49m\u001b[43m)\u001b[49m\n",
      "Input \u001b[0;32mIn [102]\u001b[0m, in \u001b[0;36mfind_elbow\u001b[0;34m(df, colnames, clusters_range)\u001b[0m\n\u001b[1;32m      1\u001b[0m \u001b[38;5;28;01mdef\u001b[39;00m \u001b[38;5;21mfind_elbow\u001b[39m(df, colnames, clusters_range):\n\u001b[1;32m      2\u001b[0m     df_for_cluster \u001b[38;5;241m=\u001b[39m df\u001b[38;5;241m.\u001b[39mloc[:,colnames]\n\u001b[0;32m----> 3\u001b[0m     stscaler \u001b[38;5;241m=\u001b[39m \u001b[43mStandardScaler\u001b[49m()\u001b[38;5;241m.\u001b[39mfit(df_for_cluster)\n\u001b[1;32m      4\u001b[0m     normalized_df \u001b[38;5;241m=\u001b[39m stscaler\u001b[38;5;241m.\u001b[39mtransform(df_for_cluster)\n\u001b[1;32m      6\u001b[0m     inertias \u001b[38;5;241m=\u001b[39m [] \u001b[38;5;66;03m# wcss: Within Cluster Sum of Squares\u001b[39;00m\n",
      "\u001b[0;31mNameError\u001b[0m: name 'StandardScaler' is not defined"
     ]
    }
   ],
   "source": [
    "colnames = dfmerch.columns[2:]\n",
    "clusters_range = [3,4,5,6,7,8,9,10,11,12,13,14,15]\n",
    "find_elbow(dfmerch, colnames,clusters_range)"
   ]
  },
  {
   "cell_type": "code",
   "execution_count": null,
   "id": "c61380bb-b735-413e-83da-b2d034db92b3",
   "metadata": {},
   "outputs": [],
   "source": [
    "from sklearn.cluster import KMeans\n",
    "from sklearn.preprocessing import StandardScaler, normalize\n",
    "from sklearn.metrics import silhouette_score\n",
    "\n",
    "def run_kmeans(df, colnames, k):\n",
    "    df_for_cluster = df.loc[:,colnames]\n",
    "    stscaler = StandardScaler().fit(df_for_cluster)\n",
    "    normalized_df = stscaler.transform(df_for_cluster)\n",
    "\n",
    "    kmeans = KMeans(init='k-means++',n_clusters=k,n_init=100, max_iter=300, random_state=0).fit(normalized_df)\n",
    "    df['cluster'] = kmeans.labels_\n",
    "    return df\n",
    "\n",
    "colnames = dfmerch.columns[2:]\n",
    "k = 6\n",
    "merchants_kmeans = run_kmeans(dfmerch, colnames,k)\n",
    "merchants_kmeans.groupby(\"cluster\").size()\n"
   ]
  },
  {
   "cell_type": "code",
   "execution_count": null,
   "id": "22cabbb2-5815-4969-be32-3a323331eb1f",
   "metadata": {},
   "outputs": [],
   "source": [
    "merchants_kmeans[merchants_kmeans.cluster == 3]"
   ]
  },
  {
   "cell_type": "code",
   "execution_count": null,
   "id": "7603a5d7-52e8-4a0d-b6bd-664f236a6179",
   "metadata": {},
   "outputs": [],
   "source": [
    "sns.pairplot(data=merchants_kmeans, hue=\"cluster\", palette=\"Set1\")"
   ]
  },
  {
   "cell_type": "markdown",
   "id": "8874c7ba-d512-4fdb-bdf5-1f7a44ff5f6e",
   "metadata": {},
   "source": [
    "The RFM is a commonly used industry model, while clustering is a striactly data science practice. The support of my top five from both models shows a strong case for those top 5. A way to find future top merchants is to run both models and find consistencies between clustering and RFM model. Talk about importance of monetary- which parts predicted the best? Use data to make assesments rather than intuition- RFM has lots of assumptions- dies it have science behind it. Quote clustering reference. Business can use clustering in the future, knowing that RFM supports it, look at other merchants in this cluster as valuable according to this notebook."
   ]
  },
  {
   "cell_type": "markdown",
   "id": "e2f450e2-fd49-4219-b0d0-dba03f7e8617",
   "metadata": {},
   "source": [
    "Regression model?"
   ]
  },
  {
   "cell_type": "markdown",
   "id": "ffac69c0-b9c1-421b-b177-da3d2fcdf205",
   "metadata": {},
   "source": [
    "#### [y, x1, x2, x3] -> average spent, spent in first month, spent in last month, total spent."
   ]
  },
  {
   "cell_type": "code",
   "execution_count": null,
   "id": "7d8dca82-69be-4dbc-83a7-ac1e77859db0",
   "metadata": {},
   "outputs": [],
   "source": [
    "x = dfmerch.loc[:,['spent','order_id']]\n",
    "y = dfmerch.loc[:,['avgspent']]"
   ]
  },
  {
   "cell_type": "code",
   "execution_count": null,
   "id": "71b20cda-9a8c-4079-9909-c6e30dc00578",
   "metadata": {},
   "outputs": [],
   "source": [
    "xtrain = x[500:]\n",
    "xtest = x[:500]\n",
    "ytrain = y[500:]\n",
    "ytest = y[:500]"
   ]
  },
  {
   "cell_type": "code",
   "execution_count": null,
   "id": "be83045f-bb4b-4a93-9efa-22ec4144f4d7",
   "metadata": {},
   "outputs": [],
   "source": [
    "lin_r = linear_model.LinearRegression()"
   ]
  },
  {
   "cell_type": "code",
   "execution_count": null,
   "id": "037f576b-8821-47ec-86ae-e38889e5ec2c",
   "metadata": {},
   "outputs": [],
   "source": [
    "lin_r.fit(xtrain, ytrain)"
   ]
  },
  {
   "cell_type": "code",
   "execution_count": null,
   "id": "3cb9d413-4ce1-4966-ada6-b6bf39adae31",
   "metadata": {},
   "outputs": [],
   "source": [
    "avg_pred = lin_r.predict(xtest)"
   ]
  },
  {
   "cell_type": "code",
   "execution_count": null,
   "id": "73d83607-22b0-4909-8ff3-58620752530b",
   "metadata": {},
   "outputs": [],
   "source": [
    "print(\"Coefficients: \\n\", lin_r.coef_)"
   ]
  },
  {
   "cell_type": "code",
   "execution_count": null,
   "id": "6bc66e90-b7c5-46a9-97a9-3d6f93e1d38c",
   "metadata": {},
   "outputs": [],
   "source": [
    "print(\"Mean squared error %.2f\" % mean_squared_error(ytest, avg_pred))"
   ]
  },
  {
   "cell_type": "code",
   "execution_count": null,
   "id": "eb1ece82-5527-4a48-baf5-3488006d0fe0",
   "metadata": {},
   "outputs": [],
   "source": [
    "print(\"Coefficient of determination: %.2f\" % r2_score(ytest, avg_pred))"
   ]
  },
  {
   "cell_type": "code",
   "execution_count": null,
   "id": "5c5372df-acbb-4b81-822c-e404c32d31e6",
   "metadata": {},
   "outputs": [],
   "source": [
    "plt.scatter(xtest['spent'], ytest, color = \"black\")\n",
    "plt.plot(xtest['spent'], avg_pred, color = \"blue\")"
   ]
  },
  {
   "cell_type": "markdown",
   "id": "a8743209-d594-4aa3-8fd3-e8884e42b529",
   "metadata": {},
   "source": [
    "This regression seems to be a generally good fit for the data. How to include in poster? How to tie into overall question? That taking top merchants we can predict average spending based on total spending?"
   ]
  },
  {
   "cell_type": "code",
   "execution_count": null,
   "id": "d6ff51bf-e30c-44d2-860b-367d9b218a42",
   "metadata": {},
   "outputs": [],
   "source": []
  }
 ],
 "metadata": {
  "kernelspec": {
   "display_name": "Python 3 (ipykernel)",
   "language": "python",
   "name": "python3"
  },
  "language_info": {
   "codemirror_mode": {
    "name": "ipython",
    "version": 3
   },
   "file_extension": ".py",
   "mimetype": "text/x-python",
   "name": "python",
   "nbconvert_exporter": "python",
   "pygments_lexer": "ipython3",
   "version": "3.9.12"
  }
 },
 "nbformat": 4,
 "nbformat_minor": 5
}

{
 "cells": [
  {
   "cell_type": "markdown",
   "id": "ab089207-cafa-4a3c-ac1d-3300e939166b",
   "metadata": {},
   "source": [
    "### The purpose of this notebook is to create an interactive plot that I can display on my personal portfolio webpage. The plot will show the top five merchants over a period of time decided by a slider, according to a characteristic chosen by a drop down menu."
   ]
  },
  {
   "cell_type": "code",
   "execution_count": 1,
   "id": "5eb3e30d-5af8-4ee4-b06b-7c63c8351abc",
   "metadata": {},
   "outputs": [],
   "source": [
    "import pandas as pd\n",
    "import numpy as np\n",
    "from datetime import datetime, timedelta\n",
    "from sklearn import datasets, linear_model\n",
    "from sklearn.metrics import mean_squared_error, r2_score\n",
    "from sklearn.cluster import KMeans\n",
    "from sklearn.preprocessing import StandardScaler, normalize\n",
    "from sklearn.metrics import silhouette_score\n",
    "baskets = pd.read_csv('new_baskets_full.csv')\n",
    "baskets['datetime'] = baskets['placed_at'].apply(lambda x: datetime.fromisoformat(x))\n",
    "\n",
    "#pandas.Series.dt is an interface on a pandas series that gives you convenient access to operations on data stored as a pandas datetime. \n",
    "baskets['date'] = baskets['datetime'].dt.date\n",
    "baskets['year'] = baskets['datetime'].dt.year\n",
    "baskets['month'] = baskets['datetime'].dt.month\n",
    "baskets['day'] = baskets['datetime'].dt.day\n",
    "baskets['hour'] = baskets['datetime'].dt.hour\n",
    "baskets['weekday'] = baskets['datetime'].dt.weekday"
   ]
  },
  {
   "cell_type": "code",
   "execution_count": 3,
   "id": "520aa5d9-4955-448f-ad50-6d4df44a69fa",
   "metadata": {},
   "outputs": [],
   "source": [
    "baskets['spent'] = baskets['price'] * baskets['qty']"
   ]
  },
  {
   "cell_type": "code",
   "execution_count": 4,
   "id": "794d6baa-46e3-43e7-a5fa-ea4c310c3f34",
   "metadata": {},
   "outputs": [],
   "source": [
    "baskets['month_order'] = ((baskets['year']-2021)*12) + baskets['month'] -7"
   ]
  },
  {
   "cell_type": "markdown",
   "id": "c4d2b459-9a80-468b-bfb0-6ff04e0d618d",
   "metadata": {},
   "source": [
    "Goal from here- Start by making a plot that will map top five merchants by spent with a slider that varies the time period"
   ]
  },
  {
   "cell_type": "code",
   "execution_count": 2,
   "id": "6d66aee0-f1b4-4ff8-9a18-86e8c56a5051",
   "metadata": {},
   "outputs": [],
   "source": [
    "import plotly as pt"
   ]
  },
  {
   "cell_type": "code",
   "execution_count": null,
   "id": "49df88e2-c810-4b55-bf3b-06cab4d6822f",
   "metadata": {},
   "outputs": [],
   "source": [
    "buttons = []\n",
    "i = 0\n",
    "fig3 = go.Figure()\n",
    "country_list = list(df['country'].unique())\n",
    "for country in country_list:\n",
    "    fig3.add_trace(\n",
    "        go.Scatter(\n",
    "            x = df['date'][df['country']==country],\n",
    "            y = df['confirmed'][df['country']==country],\n",
    "            name = country, visible = (i==0)\n",
    "        )\n",
    "    )\n",
    "    \n",
    "for country in country_list:\n",
    "    args = [False] * len(country_list)\n",
    "    args[i] = True\n",
    "    \n",
    "    #create a button object for the country we are on\n",
    "    button = dict(label = country,\n",
    "                  method = \"update\",\n",
    "                  args=[{\"visible\": args}])\n",
    "    \n",
    "    #add the button to our list of buttons\n",
    "    buttons.append(button)\n",
    "    \n",
    "    #i is an iterable used to tell our \"args\" list which value to set to True\n",
    "    i+=1\n",
    "    \n",
    "fig3.update_layout(updatemenus=[dict(active=0,\n",
    "                                    type=\"dropdown\",\n",
    "                                    buttons=buttons,\n",
    "                                    x = 0,\n",
    "                                    y = 1.1,\n",
    "                                    xanchor = 'left',\n",
    "                                    yanchor = 'bottom'),\n",
    "                              ])\n",
    "fig3.update_layout(\n",
    "    autosize=False,\n",
    "    width=1000,\n",
    "    height=800,)"
   ]
  }
 ],
 "metadata": {
  "kernelspec": {
   "display_name": "Python 3 (ipykernel)",
   "language": "python",
   "name": "python3"
  },
  "language_info": {
   "codemirror_mode": {
    "name": "ipython",
    "version": 3
   },
   "file_extension": ".py",
   "mimetype": "text/x-python",
   "name": "python",
   "nbconvert_exporter": "python",
   "pygments_lexer": "ipython3",
   "version": "3.9.12"
  }
 },
 "nbformat": 4,
 "nbformat_minor": 5
}

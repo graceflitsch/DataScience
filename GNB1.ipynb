{
 "cells": [
  {
   "cell_type": "code",
   "execution_count": 1,
   "id": "2db95591-b59d-4644-85a8-2fb712813e9f",
   "metadata": {},
   "outputs": [],
   "source": [
    "import pandas as pd\n",
    "import numpy as np"
   ]
  },
  {
   "cell_type": "code",
   "execution_count": 5,
   "id": "43d1af6c-555b-4192-a3c9-b57f0a9996cc",
   "metadata": {},
   "outputs": [],
   "source": [
    "baskets = pd.read_csv('baskets_sample_random_10.csv')"
   ]
  },
  {
   "cell_type": "code",
   "execution_count": 6,
   "id": "56f0b19b-20e7-4ac4-a5b4-64a12fa4351b",
   "metadata": {},
   "outputs": [
    {
     "data": {
      "text/plain": [
       "id             29305\n",
       "order_id       29305\n",
       "placed_at      29305\n",
       "merchant_id    29305\n",
       "sku_id         29305\n",
       "top_cat_id     29298\n",
       "sub_cat_id     29298\n",
       "qty            29305\n",
       "price          29305\n",
       "dtype: int64"
      ]
     },
     "execution_count": 6,
     "metadata": {},
     "output_type": "execute_result"
    }
   ],
   "source": [
    "baskets.count()"
   ]
  },
  {
   "cell_type": "code",
   "execution_count": 10,
   "id": "3efe52f8-81d0-4c50-a285-132c35930ea3",
   "metadata": {},
   "outputs": [
    {
     "data": {
      "text/plain": [
       "id             2509\n",
       "order_id       2509\n",
       "placed_at      2509\n",
       "merchant_id    2509\n",
       "sku_id         2509\n",
       "top_cat_id     2509\n",
       "sub_cat_id     2509\n",
       "qty            2509\n",
       "price          2509\n",
       "dtype: int64"
      ]
     },
     "execution_count": 10,
     "metadata": {},
     "output_type": "execute_result"
    }
   ],
   "source": [
    "baskets[baskets['price'] > 292000.0].count()"
   ]
  },
  {
   "cell_type": "code",
   "execution_count": 13,
   "id": "416ff780-a151-456e-b892-177906d490a2",
   "metadata": {},
   "outputs": [
    {
     "data": {
      "text/plain": [
       "id             218\n",
       "order_id       218\n",
       "placed_at      218\n",
       "merchant_id    218\n",
       "sku_id         218\n",
       "top_cat_id     218\n",
       "sub_cat_id     218\n",
       "qty            218\n",
       "price          218\n",
       "dtype: int64"
      ]
     },
     "execution_count": 13,
     "metadata": {},
     "output_type": "execute_result"
    }
   ],
   "source": [
    "baskets[baskets['sku_id'] == 702].count()"
   ]
  },
  {
   "cell_type": "code",
   "execution_count": null,
   "id": "6ae2eb5b-847a-42c0-a32a-d1352e6bb55b",
   "metadata": {},
   "outputs": [],
   "source": []
  }
 ],
 "metadata": {
  "kernelspec": {
   "display_name": "Python 3 (ipykernel)",
   "language": "python",
   "name": "python3"
  },
  "language_info": {
   "codemirror_mode": {
    "name": "ipython",
    "version": 3
   },
   "file_extension": ".py",
   "mimetype": "text/x-python",
   "name": "python",
   "nbconvert_exporter": "python",
   "pygments_lexer": "ipython3",
   "version": "3.9.12"
  }
 },
 "nbformat": 4,
 "nbformat_minor": 5
}

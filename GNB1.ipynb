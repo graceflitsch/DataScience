{
 "cells": [
  {
   "cell_type": "markdown",
   "id": "402c633e-6c78-41b6-a660-7e4f9a5e733c",
   "metadata": {},
   "source": [
    "# Grace's First Notebook"
   ]
  },
  {
   "cell_type": "markdown",
   "id": "55ff4714-7261-453a-92a2-09f6f546865f",
   "metadata": {},
   "source": [
    "## Working on getting to know the data, thinking of some research questions"
   ]
  },
  {
   "cell_type": "markdown",
   "id": "08c85533-4060-47a4-a1e4-f45a7265c5d9",
   "metadata": {
    "tags": []
   },
   "source": [
    "### Possible questions:"
   ]
  },
  {
   "cell_type": "markdown",
   "id": "b15f0041-2c79-400c-98ae-0e4692e51686",
   "metadata": {},
   "source": [
    "- How much are top merchants spending per order? Are we retaining these top buyers?\n",
    "- On average, what are me making per order? \n",
    "- Do we earn more from bulk purchases from large merchants, or from smaller, more consistent buyers?\n",
    "- What are the top items purchased? Has interest increased over time?\n",
    "- Who are our most consistent customers? (Consistent = buying significant product regularly over a long span of time)"
   ]
  },
  {
   "cell_type": "markdown",
   "id": "034135a7-89fb-4633-ad7e-6dce88640b67",
   "metadata": {},
   "source": [
    "## Business questions:\n",
    "- Is it possible to play multiple orders at the same time? In previous notebook, some of the different orders placed at the same millisecond were by the same merchant. "
   ]
  },
  {
   "cell_type": "code",
   "execution_count": 1,
   "id": "2db95591-b59d-4644-85a8-2fb712813e9f",
   "metadata": {},
   "outputs": [],
   "source": [
    "import pandas as pd\n",
    "import numpy as np"
   ]
  },
  {
   "cell_type": "code",
   "execution_count": 2,
   "id": "43d1af6c-555b-4192-a3c9-b57f0a9996cc",
   "metadata": {},
   "outputs": [],
   "source": [
    "baskets = pd.read_csv('baskets_sample_random_10.csv')"
   ]
  },
  {
   "cell_type": "markdown",
   "id": "7b65887c-2b15-4791-8aeb-836b294e8550",
   "metadata": {},
   "source": [
    "## Simple tests to figure out how to read data"
   ]
  },
  {
   "cell_type": "code",
   "execution_count": 4,
   "id": "56f0b19b-20e7-4ac4-a5b4-64a12fa4351b",
   "metadata": {},
   "outputs": [
    {
     "data": {
      "text/plain": [
       "id             29305\n",
       "order_id       29305\n",
       "placed_at      29305\n",
       "merchant_id    29305\n",
       "sku_id         29305\n",
       "top_cat_id     29298\n",
       "sub_cat_id     29298\n",
       "qty            29305\n",
       "price          29305\n",
       "dtype: int64"
      ]
     },
     "execution_count": 4,
     "metadata": {},
     "output_type": "execute_result"
    }
   ],
   "source": [
    "baskets.count()"
   ]
  },
  {
   "cell_type": "code",
   "execution_count": 5,
   "id": "3efe52f8-81d0-4c50-a285-132c35930ea3",
   "metadata": {},
   "outputs": [
    {
     "data": {
      "text/plain": [
       "id             2509\n",
       "order_id       2509\n",
       "placed_at      2509\n",
       "merchant_id    2509\n",
       "sku_id         2509\n",
       "top_cat_id     2509\n",
       "sub_cat_id     2509\n",
       "qty            2509\n",
       "price          2509\n",
       "dtype: int64"
      ]
     },
     "execution_count": 5,
     "metadata": {},
     "output_type": "execute_result"
    }
   ],
   "source": [
    "baskets[baskets['price'] > 292000.0].count()"
   ]
  },
  {
   "cell_type": "code",
   "execution_count": 6,
   "id": "416ff780-a151-456e-b892-177906d490a2",
   "metadata": {},
   "outputs": [
    {
     "data": {
      "text/plain": [
       "id             218\n",
       "order_id       218\n",
       "placed_at      218\n",
       "merchant_id    218\n",
       "sku_id         218\n",
       "top_cat_id     218\n",
       "sub_cat_id     218\n",
       "qty            218\n",
       "price          218\n",
       "dtype: int64"
      ]
     },
     "execution_count": 6,
     "metadata": {},
     "output_type": "execute_result"
    }
   ],
   "source": [
    "baskets[baskets['sku_id'] == 702].count()"
   ]
  },
  {
   "cell_type": "markdown",
   "id": "34612a6a-656a-4b13-8386-dab912b3c6cd",
   "metadata": {},
   "source": [
    "### Snapshot of dataframe "
   ]
  },
  {
   "cell_type": "code",
   "execution_count": 8,
   "id": "1f94c4db-a8ce-463d-82d9-1f0605380ff1",
   "metadata": {},
   "outputs": [
    {
     "data": {
      "text/html": [
       "<div>\n",
       "<style scoped>\n",
       "    .dataframe tbody tr th:only-of-type {\n",
       "        vertical-align: middle;\n",
       "    }\n",
       "\n",
       "    .dataframe tbody tr th {\n",
       "        vertical-align: top;\n",
       "    }\n",
       "\n",
       "    .dataframe thead th {\n",
       "        text-align: right;\n",
       "    }\n",
       "</style>\n",
       "<table border=\"1\" class=\"dataframe\">\n",
       "  <thead>\n",
       "    <tr style=\"text-align: right;\">\n",
       "      <th></th>\n",
       "      <th>id</th>\n",
       "      <th>order_id</th>\n",
       "      <th>placed_at</th>\n",
       "      <th>merchant_id</th>\n",
       "      <th>sku_id</th>\n",
       "      <th>top_cat_id</th>\n",
       "      <th>sub_cat_id</th>\n",
       "      <th>qty</th>\n",
       "      <th>price</th>\n",
       "    </tr>\n",
       "  </thead>\n",
       "  <tbody>\n",
       "    <tr>\n",
       "      <th>1</th>\n",
       "      <td>166</td>\n",
       "      <td>41</td>\n",
       "      <td>2021-05-06 10:45:02.448</td>\n",
       "      <td>196</td>\n",
       "      <td>341</td>\n",
       "      <td>3.0</td>\n",
       "      <td>47.0</td>\n",
       "      <td>2</td>\n",
       "      <td>0.0</td>\n",
       "    </tr>\n",
       "    <tr>\n",
       "      <th>2</th>\n",
       "      <td>167</td>\n",
       "      <td>42</td>\n",
       "      <td>2021-05-06 10:45:04.850</td>\n",
       "      <td>196</td>\n",
       "      <td>341</td>\n",
       "      <td>3.0</td>\n",
       "      <td>47.0</td>\n",
       "      <td>2</td>\n",
       "      <td>0.0</td>\n",
       "    </tr>\n",
       "    <tr>\n",
       "      <th>3</th>\n",
       "      <td>168</td>\n",
       "      <td>43</td>\n",
       "      <td>2021-05-06 10:48:00.927</td>\n",
       "      <td>197</td>\n",
       "      <td>457</td>\n",
       "      <td>12.0</td>\n",
       "      <td>30.0</td>\n",
       "      <td>20</td>\n",
       "      <td>0.0</td>\n",
       "    </tr>\n",
       "    <tr>\n",
       "      <th>4</th>\n",
       "      <td>169</td>\n",
       "      <td>44</td>\n",
       "      <td>2021-05-06 10:51:28.980</td>\n",
       "      <td>198</td>\n",
       "      <td>341</td>\n",
       "      <td>3.0</td>\n",
       "      <td>47.0</td>\n",
       "      <td>5</td>\n",
       "      <td>0.0</td>\n",
       "    </tr>\n",
       "    <tr>\n",
       "      <th>5</th>\n",
       "      <td>170</td>\n",
       "      <td>44</td>\n",
       "      <td>2021-05-06 10:51:28.980</td>\n",
       "      <td>198</td>\n",
       "      <td>457</td>\n",
       "      <td>12.0</td>\n",
       "      <td>30.0</td>\n",
       "      <td>10</td>\n",
       "      <td>0.0</td>\n",
       "    </tr>\n",
       "    <tr>\n",
       "      <th>...</th>\n",
       "      <td>...</td>\n",
       "      <td>...</td>\n",
       "      <td>...</td>\n",
       "      <td>...</td>\n",
       "      <td>...</td>\n",
       "      <td>...</td>\n",
       "      <td>...</td>\n",
       "      <td>...</td>\n",
       "      <td>...</td>\n",
       "    </tr>\n",
       "    <tr>\n",
       "      <th>29300</th>\n",
       "      <td>338870</td>\n",
       "      <td>61206</td>\n",
       "      <td>2022-07-31 16:52:33.731</td>\n",
       "      <td>428</td>\n",
       "      <td>1896</td>\n",
       "      <td>4.0</td>\n",
       "      <td>57.0</td>\n",
       "      <td>80</td>\n",
       "      <td>12350.0</td>\n",
       "    </tr>\n",
       "    <tr>\n",
       "      <th>29301</th>\n",
       "      <td>338871</td>\n",
       "      <td>61206</td>\n",
       "      <td>2022-07-31 16:52:33.731</td>\n",
       "      <td>428</td>\n",
       "      <td>747</td>\n",
       "      <td>12.0</td>\n",
       "      <td>36.0</td>\n",
       "      <td>1</td>\n",
       "      <td>86000.0</td>\n",
       "    </tr>\n",
       "    <tr>\n",
       "      <th>29302</th>\n",
       "      <td>338872</td>\n",
       "      <td>61206</td>\n",
       "      <td>2022-07-31 16:52:33.731</td>\n",
       "      <td>428</td>\n",
       "      <td>850</td>\n",
       "      <td>9.0</td>\n",
       "      <td>48.0</td>\n",
       "      <td>1</td>\n",
       "      <td>101500.0</td>\n",
       "    </tr>\n",
       "    <tr>\n",
       "      <th>29303</th>\n",
       "      <td>338873</td>\n",
       "      <td>61206</td>\n",
       "      <td>2022-07-31 16:52:33.731</td>\n",
       "      <td>428</td>\n",
       "      <td>853</td>\n",
       "      <td>9.0</td>\n",
       "      <td>48.0</td>\n",
       "      <td>1</td>\n",
       "      <td>68500.0</td>\n",
       "    </tr>\n",
       "    <tr>\n",
       "      <th>29304</th>\n",
       "      <td>338874</td>\n",
       "      <td>61206</td>\n",
       "      <td>2022-07-31 16:52:33.731</td>\n",
       "      <td>428</td>\n",
       "      <td>852</td>\n",
       "      <td>9.0</td>\n",
       "      <td>48.0</td>\n",
       "      <td>1</td>\n",
       "      <td>68500.0</td>\n",
       "    </tr>\n",
       "  </tbody>\n",
       "</table>\n",
       "<p>29304 rows × 9 columns</p>\n",
       "</div>"
      ],
      "text/plain": [
       "           id  order_id                placed_at  merchant_id  sku_id  \\\n",
       "1         166        41  2021-05-06 10:45:02.448          196     341   \n",
       "2         167        42  2021-05-06 10:45:04.850          196     341   \n",
       "3         168        43  2021-05-06 10:48:00.927          197     457   \n",
       "4         169        44  2021-05-06 10:51:28.980          198     341   \n",
       "5         170        44  2021-05-06 10:51:28.980          198     457   \n",
       "...       ...       ...                      ...          ...     ...   \n",
       "29300  338870     61206  2022-07-31 16:52:33.731          428    1896   \n",
       "29301  338871     61206  2022-07-31 16:52:33.731          428     747   \n",
       "29302  338872     61206  2022-07-31 16:52:33.731          428     850   \n",
       "29303  338873     61206  2022-07-31 16:52:33.731          428     853   \n",
       "29304  338874     61206  2022-07-31 16:52:33.731          428     852   \n",
       "\n",
       "       top_cat_id  sub_cat_id  qty     price  \n",
       "1             3.0        47.0    2       0.0  \n",
       "2             3.0        47.0    2       0.0  \n",
       "3            12.0        30.0   20       0.0  \n",
       "4             3.0        47.0    5       0.0  \n",
       "5            12.0        30.0   10       0.0  \n",
       "...           ...         ...  ...       ...  \n",
       "29300         4.0        57.0   80   12350.0  \n",
       "29301        12.0        36.0    1   86000.0  \n",
       "29302         9.0        48.0    1  101500.0  \n",
       "29303         9.0        48.0    1   68500.0  \n",
       "29304         9.0        48.0    1   68500.0  \n",
       "\n",
       "[29304 rows x 9 columns]"
      ]
     },
     "execution_count": 8,
     "metadata": {},
     "output_type": "execute_result"
    }
   ],
   "source": [
    "baskets[1:]"
   ]
  },
  {
   "cell_type": "markdown",
   "id": "d189588e-0359-42e5-a6d5-4b5c6d114b6c",
   "metadata": {},
   "source": [
    "### id of first order? To get id use 1 rather than 0- 0 must be the identifier for the very first column rather than the first column of data."
   ]
  },
  {
   "cell_type": "code",
   "execution_count": 25,
   "id": "393e41c3-5ffa-4ecd-883c-ecab549b3522",
   "metadata": {},
   "outputs": [
    {
     "data": {
      "text/plain": [
       "166"
      ]
     },
     "execution_count": 25,
     "metadata": {},
     "output_type": "execute_result"
    }
   ],
   "source": [
    "baskets.iloc[1,0]"
   ]
  },
  {
   "cell_type": "code",
   "execution_count": 26,
   "id": "5b496a02-2e13-4f82-b59f-0b52c314089c",
   "metadata": {},
   "outputs": [
    {
     "data": {
      "text/plain": [
       "'2022-07-31 16:52:33.731'"
      ]
     },
     "execution_count": 26,
     "metadata": {},
     "output_type": "execute_result"
    }
   ],
   "source": [
    "baskets.iloc[29304, 2]"
   ]
  },
  {
   "cell_type": "markdown",
   "id": "8a3f3028-4ed9-4b44-84a1-33ef981375d2",
   "metadata": {},
   "source": [
    "### Note columns for future reference"
   ]
  },
  {
   "cell_type": "code",
   "execution_count": 22,
   "id": "b404983e-4933-4f21-8261-3215ae3224d7",
   "metadata": {},
   "outputs": [
    {
     "data": {
      "text/plain": [
       "Index(['id', 'order_id', 'placed_at', 'merchant_id', 'sku_id', 'top_cat_id',\n",
       "       'sub_cat_id', 'qty', 'price'],\n",
       "      dtype='object')"
      ]
     },
     "execution_count": 22,
     "metadata": {},
     "output_type": "execute_result"
    }
   ],
   "source": [
    "baskets.columns"
   ]
  },
  {
   "cell_type": "markdown",
   "id": "115aed90-7f70-475e-aa87-b0fcaf859ea9",
   "metadata": {},
   "source": [
    "### Note that the use of numbers to hide product and merchant info may be confusing- look at these numbers as numerical identifiers, not mathematical values."
   ]
  },
  {
   "cell_type": "code",
   "execution_count": 23,
   "id": "9c2d742e-a296-4c41-bbdc-d8b1c23c306b",
   "metadata": {},
   "outputs": [
    {
     "data": {
      "text/plain": [
       "id                                                    4775191340\n",
       "order_id                                               801118634\n",
       "placed_at      2021-05-05 11:04:46.5792021-05-06 10:45:02.448...\n",
       "merchant_id                                             31094175\n",
       "sku_id                                                  28648236\n",
       "top_cat_id                                              318204.0\n",
       "sub_cat_id                                             1488587.0\n",
       "qty                                                    202840187\n",
       "price                                          4041550272.440521\n",
       "dtype: object"
      ]
     },
     "execution_count": 23,
     "metadata": {},
     "output_type": "execute_result"
    }
   ],
   "source": [
    "baskets.sum()"
   ]
  },
  {
   "cell_type": "code",
   "execution_count": 24,
   "id": "8ad78a6b-bef7-48a5-bd38-dab05e1aacad",
   "metadata": {},
   "outputs": [
    {
     "data": {
      "text/html": [
       "<div>\n",
       "<style scoped>\n",
       "    .dataframe tbody tr th:only-of-type {\n",
       "        vertical-align: middle;\n",
       "    }\n",
       "\n",
       "    .dataframe tbody tr th {\n",
       "        vertical-align: top;\n",
       "    }\n",
       "\n",
       "    .dataframe thead th {\n",
       "        text-align: right;\n",
       "    }\n",
       "</style>\n",
       "<table border=\"1\" class=\"dataframe\">\n",
       "  <thead>\n",
       "    <tr style=\"text-align: right;\">\n",
       "      <th></th>\n",
       "      <th>id</th>\n",
       "      <th>order_id</th>\n",
       "      <th>merchant_id</th>\n",
       "      <th>sku_id</th>\n",
       "      <th>top_cat_id</th>\n",
       "      <th>sub_cat_id</th>\n",
       "      <th>qty</th>\n",
       "      <th>price</th>\n",
       "    </tr>\n",
       "  </thead>\n",
       "  <tbody>\n",
       "    <tr>\n",
       "      <th>count</th>\n",
       "      <td>29305.000000</td>\n",
       "      <td>29305.000000</td>\n",
       "      <td>29305.000000</td>\n",
       "      <td>29305.000000</td>\n",
       "      <td>29298.000000</td>\n",
       "      <td>29298.000000</td>\n",
       "      <td>2.930500e+04</td>\n",
       "      <td>2.930500e+04</td>\n",
       "    </tr>\n",
       "    <tr>\n",
       "      <th>mean</th>\n",
       "      <td>162948.006825</td>\n",
       "      <td>27337.267838</td>\n",
       "      <td>1061.053574</td>\n",
       "      <td>977.588671</td>\n",
       "      <td>10.860946</td>\n",
       "      <td>50.808485</td>\n",
       "      <td>6.921692e+03</td>\n",
       "      <td>1.379133e+05</td>\n",
       "    </tr>\n",
       "    <tr>\n",
       "      <th>std</th>\n",
       "      <td>95745.525000</td>\n",
       "      <td>18450.495064</td>\n",
       "      <td>761.056051</td>\n",
       "      <td>348.157681</td>\n",
       "      <td>8.353926</td>\n",
       "      <td>31.280838</td>\n",
       "      <td>1.168396e+06</td>\n",
       "      <td>1.355361e+05</td>\n",
       "    </tr>\n",
       "    <tr>\n",
       "      <th>min</th>\n",
       "      <td>126.000000</td>\n",
       "      <td>23.000000</td>\n",
       "      <td>10.000000</td>\n",
       "      <td>5.000000</td>\n",
       "      <td>1.000000</td>\n",
       "      <td>1.000000</td>\n",
       "      <td>1.000000e+00</td>\n",
       "      <td>0.000000e+00</td>\n",
       "    </tr>\n",
       "    <tr>\n",
       "      <th>25%</th>\n",
       "      <td>80106.000000</td>\n",
       "      <td>10296.000000</td>\n",
       "      <td>352.000000</td>\n",
       "      <td>755.000000</td>\n",
       "      <td>4.000000</td>\n",
       "      <td>30.000000</td>\n",
       "      <td>1.000000e+00</td>\n",
       "      <td>4.550000e+04</td>\n",
       "    </tr>\n",
       "    <tr>\n",
       "      <th>50%</th>\n",
       "      <td>158748.000000</td>\n",
       "      <td>25824.000000</td>\n",
       "      <td>934.000000</td>\n",
       "      <td>875.000000</td>\n",
       "      <td>9.000000</td>\n",
       "      <td>48.000000</td>\n",
       "      <td>2.000000e+00</td>\n",
       "      <td>1.070000e+05</td>\n",
       "    </tr>\n",
       "    <tr>\n",
       "      <th>75%</th>\n",
       "      <td>242651.000000</td>\n",
       "      <td>43776.000000</td>\n",
       "      <td>1717.000000</td>\n",
       "      <td>1055.000000</td>\n",
       "      <td>15.000000</td>\n",
       "      <td>79.000000</td>\n",
       "      <td>5.000000e+00</td>\n",
       "      <td>1.845000e+05</td>\n",
       "    </tr>\n",
       "    <tr>\n",
       "      <th>max</th>\n",
       "      <td>338874.000000</td>\n",
       "      <td>61439.000000</td>\n",
       "      <td>3160.000000</td>\n",
       "      <td>2383.000000</td>\n",
       "      <td>35.000000</td>\n",
       "      <td>108.000000</td>\n",
       "      <td>2.000000e+08</td>\n",
       "      <td>2.175000e+06</td>\n",
       "    </tr>\n",
       "  </tbody>\n",
       "</table>\n",
       "</div>"
      ],
      "text/plain": [
       "                  id      order_id   merchant_id        sku_id    top_cat_id  \\\n",
       "count   29305.000000  29305.000000  29305.000000  29305.000000  29298.000000   \n",
       "mean   162948.006825  27337.267838   1061.053574    977.588671     10.860946   \n",
       "std     95745.525000  18450.495064    761.056051    348.157681      8.353926   \n",
       "min       126.000000     23.000000     10.000000      5.000000      1.000000   \n",
       "25%     80106.000000  10296.000000    352.000000    755.000000      4.000000   \n",
       "50%    158748.000000  25824.000000    934.000000    875.000000      9.000000   \n",
       "75%    242651.000000  43776.000000   1717.000000   1055.000000     15.000000   \n",
       "max    338874.000000  61439.000000   3160.000000   2383.000000     35.000000   \n",
       "\n",
       "         sub_cat_id           qty         price  \n",
       "count  29298.000000  2.930500e+04  2.930500e+04  \n",
       "mean      50.808485  6.921692e+03  1.379133e+05  \n",
       "std       31.280838  1.168396e+06  1.355361e+05  \n",
       "min        1.000000  1.000000e+00  0.000000e+00  \n",
       "25%       30.000000  1.000000e+00  4.550000e+04  \n",
       "50%       48.000000  2.000000e+00  1.070000e+05  \n",
       "75%       79.000000  5.000000e+00  1.845000e+05  \n",
       "max      108.000000  2.000000e+08  2.175000e+06  "
      ]
     },
     "execution_count": 24,
     "metadata": {},
     "output_type": "execute_result"
    }
   ],
   "source": [
    "baskets.describe()"
   ]
  },
  {
   "cell_type": "markdown",
   "id": "3e7b86cf-546f-4ccd-9852-db2e1c3fd56c",
   "metadata": {},
   "source": [
    "### From describe function, we find that the average order is for 6.921 X 10^3 items, and the average price per order is 1.379 X 10^5 dollars."
   ]
  },
  {
   "cell_type": "markdown",
   "id": "60249db8-d9a8-4a74-a409-0c0c2abc421d",
   "metadata": {},
   "source": [
    "## Trying to learn covariance meaning and use"
   ]
  },
  {
   "cell_type": "code",
   "execution_count": 28,
   "id": "4f9a4b10-f967-4b94-b617-4b17b6524e89",
   "metadata": {},
   "outputs": [
    {
     "data": {
      "text/html": [
       "<div>\n",
       "<style scoped>\n",
       "    .dataframe tbody tr th:only-of-type {\n",
       "        vertical-align: middle;\n",
       "    }\n",
       "\n",
       "    .dataframe tbody tr th {\n",
       "        vertical-align: top;\n",
       "    }\n",
       "\n",
       "    .dataframe thead th {\n",
       "        text-align: right;\n",
       "    }\n",
       "</style>\n",
       "<table border=\"1\" class=\"dataframe\">\n",
       "  <thead>\n",
       "    <tr style=\"text-align: right;\">\n",
       "      <th></th>\n",
       "      <th>id</th>\n",
       "      <th>order_id</th>\n",
       "      <th>merchant_id</th>\n",
       "      <th>sku_id</th>\n",
       "      <th>top_cat_id</th>\n",
       "      <th>sub_cat_id</th>\n",
       "      <th>qty</th>\n",
       "      <th>price</th>\n",
       "    </tr>\n",
       "  </thead>\n",
       "  <tbody>\n",
       "    <tr>\n",
       "      <th>id</th>\n",
       "      <td>9.167206e+09</td>\n",
       "      <td>1.761676e+09</td>\n",
       "      <td>2.894300e+07</td>\n",
       "      <td>8.746761e+06</td>\n",
       "      <td>11811.857955</td>\n",
       "      <td>50915.294886</td>\n",
       "      <td>7.612809e+08</td>\n",
       "      <td>2.785898e+08</td>\n",
       "    </tr>\n",
       "    <tr>\n",
       "      <th>order_id</th>\n",
       "      <td>1.761676e+09</td>\n",
       "      <td>3.404208e+08</td>\n",
       "      <td>5.477361e+06</td>\n",
       "      <td>1.676017e+06</td>\n",
       "      <td>2416.691685</td>\n",
       "      <td>9535.836604</td>\n",
       "      <td>1.542931e+08</td>\n",
       "      <td>4.288260e+07</td>\n",
       "    </tr>\n",
       "    <tr>\n",
       "      <th>merchant_id</th>\n",
       "      <td>2.894300e+07</td>\n",
       "      <td>5.477361e+06</td>\n",
       "      <td>5.792063e+05</td>\n",
       "      <td>3.689526e+04</td>\n",
       "      <td>202.489916</td>\n",
       "      <td>347.874643</td>\n",
       "      <td>1.269334e+07</td>\n",
       "      <td>8.333774e+04</td>\n",
       "    </tr>\n",
       "    <tr>\n",
       "      <th>sku_id</th>\n",
       "      <td>8.746761e+06</td>\n",
       "      <td>1.676017e+06</td>\n",
       "      <td>3.689526e+04</td>\n",
       "      <td>1.212138e+05</td>\n",
       "      <td>237.393656</td>\n",
       "      <td>1788.915178</td>\n",
       "      <td>3.833156e+06</td>\n",
       "      <td>1.470711e+06</td>\n",
       "    </tr>\n",
       "    <tr>\n",
       "      <th>top_cat_id</th>\n",
       "      <td>1.181186e+04</td>\n",
       "      <td>2.416692e+03</td>\n",
       "      <td>2.024899e+02</td>\n",
       "      <td>2.373937e+02</td>\n",
       "      <td>69.788084</td>\n",
       "      <td>47.294869</td>\n",
       "      <td>-4.646834e+04</td>\n",
       "      <td>-2.984864e+03</td>\n",
       "    </tr>\n",
       "    <tr>\n",
       "      <th>sub_cat_id</th>\n",
       "      <td>5.091529e+04</td>\n",
       "      <td>9.535837e+03</td>\n",
       "      <td>3.478746e+02</td>\n",
       "      <td>1.788915e+03</td>\n",
       "      <td>47.294869</td>\n",
       "      <td>978.490849</td>\n",
       "      <td>-1.351184e+05</td>\n",
       "      <td>1.221353e+05</td>\n",
       "    </tr>\n",
       "    <tr>\n",
       "      <th>qty</th>\n",
       "      <td>7.612809e+08</td>\n",
       "      <td>1.542931e+08</td>\n",
       "      <td>1.269334e+07</td>\n",
       "      <td>3.833156e+06</td>\n",
       "      <td>-46468.343996</td>\n",
       "      <td>-135118.437323</td>\n",
       "      <td>1.365150e+12</td>\n",
       "      <td>-9.540640e+08</td>\n",
       "    </tr>\n",
       "    <tr>\n",
       "      <th>price</th>\n",
       "      <td>2.785898e+08</td>\n",
       "      <td>4.288260e+07</td>\n",
       "      <td>8.333774e+04</td>\n",
       "      <td>1.470711e+06</td>\n",
       "      <td>-2984.863562</td>\n",
       "      <td>122135.260434</td>\n",
       "      <td>-9.540640e+08</td>\n",
       "      <td>1.837003e+10</td>\n",
       "    </tr>\n",
       "  </tbody>\n",
       "</table>\n",
       "</div>"
      ],
      "text/plain": [
       "                       id      order_id   merchant_id        sku_id  \\\n",
       "id           9.167206e+09  1.761676e+09  2.894300e+07  8.746761e+06   \n",
       "order_id     1.761676e+09  3.404208e+08  5.477361e+06  1.676017e+06   \n",
       "merchant_id  2.894300e+07  5.477361e+06  5.792063e+05  3.689526e+04   \n",
       "sku_id       8.746761e+06  1.676017e+06  3.689526e+04  1.212138e+05   \n",
       "top_cat_id   1.181186e+04  2.416692e+03  2.024899e+02  2.373937e+02   \n",
       "sub_cat_id   5.091529e+04  9.535837e+03  3.478746e+02  1.788915e+03   \n",
       "qty          7.612809e+08  1.542931e+08  1.269334e+07  3.833156e+06   \n",
       "price        2.785898e+08  4.288260e+07  8.333774e+04  1.470711e+06   \n",
       "\n",
       "               top_cat_id     sub_cat_id           qty         price  \n",
       "id           11811.857955   50915.294886  7.612809e+08  2.785898e+08  \n",
       "order_id      2416.691685    9535.836604  1.542931e+08  4.288260e+07  \n",
       "merchant_id    202.489916     347.874643  1.269334e+07  8.333774e+04  \n",
       "sku_id         237.393656    1788.915178  3.833156e+06  1.470711e+06  \n",
       "top_cat_id      69.788084      47.294869 -4.646834e+04 -2.984864e+03  \n",
       "sub_cat_id      47.294869     978.490849 -1.351184e+05  1.221353e+05  \n",
       "qty         -46468.343996 -135118.437323  1.365150e+12 -9.540640e+08  \n",
       "price        -2984.863562  122135.260434 -9.540640e+08  1.837003e+10  "
      ]
     },
     "execution_count": 28,
     "metadata": {},
     "output_type": "execute_result"
    }
   ],
   "source": [
    "baskets.cov()"
   ]
  },
  {
   "cell_type": "markdown",
   "id": "9d9b015a-7d64-46fc-a773-f3b99b5431bc",
   "metadata": {},
   "source": [
    "### What does this mean? Should this function be called on less data?"
   ]
  },
  {
   "cell_type": "markdown",
   "id": "539f234a-c921-4ea2-99ed-f7e6b7256624",
   "metadata": {},
   "source": [
    "## Parsing out individual rows/ columns:"
   ]
  },
  {
   "cell_type": "code",
   "execution_count": 29,
   "id": "4d5a1596-95c8-4d75-aaed-34083e2bc77c",
   "metadata": {},
   "outputs": [
    {
     "data": {
      "text/plain": [
       "0           126\n",
       "1           166\n",
       "2           167\n",
       "3           168\n",
       "4           169\n",
       "          ...  \n",
       "29300    338870\n",
       "29301    338871\n",
       "29302    338872\n",
       "29303    338873\n",
       "29304    338874\n",
       "Name: id, Length: 29305, dtype: int64"
      ]
     },
     "execution_count": 29,
     "metadata": {},
     "output_type": "execute_result"
    }
   ],
   "source": [
    "baskets['id']"
   ]
  },
  {
   "cell_type": "markdown",
   "id": "a6c5d92a-cbfd-405b-9eb6-0c822de80cdb",
   "metadata": {},
   "source": [
    "### Specific row and column: df.loc[row,column] *has to be column name, not number*"
   ]
  },
  {
   "cell_type": "code",
   "execution_count": 36,
   "id": "f0de604b-4009-4145-8cf4-3aa8be82e16e",
   "metadata": {},
   "outputs": [
    {
     "data": {
      "text/plain": [
       "id                                 167\n",
       "order_id                            42\n",
       "placed_at      2021-05-06 10:45:04.850\n",
       "merchant_id                        196\n",
       "sku_id                             341\n",
       "top_cat_id                         3.0\n",
       "sub_cat_id                        47.0\n",
       "qty                                  2\n",
       "price                              0.0\n",
       "Name: 2, dtype: object"
      ]
     },
     "execution_count": 36,
     "metadata": {},
     "output_type": "execute_result"
    }
   ],
   "source": [
    "baskets.loc[2]"
   ]
  },
  {
   "cell_type": "code",
   "execution_count": 37,
   "id": "9eeae2ca-e03a-4fd9-9191-edb31e5ca9cd",
   "metadata": {},
   "outputs": [
    {
     "data": {
      "text/plain": [
       "4922"
      ]
     },
     "execution_count": 37,
     "metadata": {},
     "output_type": "execute_result"
    }
   ],
   "source": [
    "baskets.loc[346,'id']"
   ]
  },
  {
   "cell_type": "markdown",
   "id": "a3737a3b-9f1b-4aaf-93bc-e222ed8a9c34",
   "metadata": {},
   "source": [
    "# Start answering some questions"
   ]
  },
  {
   "cell_type": "markdown",
   "id": "92841975-15a7-4dbe-818b-c6679e83b12c",
   "metadata": {},
   "source": [
    "#### 1. How much are the top ten merchants spending per order on average? (Top ten most often buying)\n",
    "- Start by finding top ten most frequent merchants"
   ]
  },
  {
   "cell_type": "code",
   "execution_count": 44,
   "id": "06a5defb-7316-4c46-93e7-11e604dc1b9d",
   "metadata": {},
   "outputs": [
    {
     "name": "stdout",
     "output_type": "stream",
     "text": [
      "[352, 1753, 951, 496, 349, 185, 1067, 488, 168, 398]\n"
     ]
    }
   ],
   "source": [
    "list = baskets['merchant_id'].value_counts()[:10].index.tolist()\n",
    "print(list)"
   ]
  },
  {
   "cell_type": "markdown",
   "id": "4ecdaddc-99cb-4af5-ab09-d069188cbc52",
   "metadata": {},
   "source": [
    "##### - Next, find how many orders each merchant has made total, in the order of the previous list"
   ]
  },
  {
   "cell_type": "code",
   "execution_count": 45,
   "id": "5652ea59-091c-47a4-8c44-9f6942e0e2f6",
   "metadata": {},
   "outputs": [
    {
     "name": "stdout",
     "output_type": "stream",
     "text": [
      "1986\n",
      "1163\n",
      "950\n",
      "791\n",
      "765\n",
      "758\n",
      "754\n",
      "677\n",
      "659\n",
      "594\n"
     ]
    }
   ],
   "source": [
    "for i in range(10):\n",
    " print(baskets[baskets['merchant_id'] == list[i]].count()['id'])"
   ]
  },
  {
   "cell_type": "markdown",
   "id": "8b9dc97d-0dad-4c50-81dd-1cd006cd310f",
   "metadata": {},
   "source": [
    "#### Now try to add up the cost of one merchant's total orders over time (Use first one for example)"
   ]
  },
  {
   "cell_type": "code",
   "execution_count": 46,
   "id": "7e0efe83-788f-41db-b364-a7a0a9bc36ad",
   "metadata": {},
   "outputs": [
    {
     "name": "stdout",
     "output_type": "stream",
     "text": [
      "332151900.0\n"
     ]
    }
   ],
   "source": [
    "print(baskets[baskets['merchant_id'] == 352].sum()['price'])"
   ]
  },
  {
   "cell_type": "markdown",
   "id": "292f5ce1-5439-4a07-8c35-f2f508cdee80",
   "metadata": {},
   "source": [
    "### Similar function as before to get all 10 outputs:"
   ]
  },
  {
   "cell_type": "code",
   "execution_count": 47,
   "id": "6c0e2228-05ef-4e3d-8b5e-1cd9a5662141",
   "metadata": {},
   "outputs": [
    {
     "name": "stdout",
     "output_type": "stream",
     "text": [
      "332151900.0\n",
      "150617400.0\n",
      "135886476.0\n",
      "103489034.72727272\n",
      "85935084.0\n",
      "73866200.0\n",
      "105858106.0\n",
      "99062176.42857143\n",
      "73859850.0\n",
      "61358900.0\n"
     ]
    }
   ],
   "source": [
    "for i in range(10):\n",
    " print(baskets[baskets['merchant_id'] == list[i]].sum()['price'])"
   ]
  },
  {
   "cell_type": "markdown",
   "id": "d125d094-9e5d-49bc-831a-1edd7fe5974f",
   "metadata": {},
   "source": [
    "#### Maximum spent was merchant_id 352 with 332151900.0. Is this the same max as the overall spent? Question to explore later further."
   ]
  },
  {
   "cell_type": "markdown",
   "id": "560f9650-c794-4203-90ee-b719cb03e090",
   "metadata": {},
   "source": [
    "#### Now let's find how much they all spend on average per order by dividing thier purchasing total by the number of purchases made."
   ]
  },
  {
   "cell_type": "code",
   "execution_count": 48,
   "id": "dc0194f0-53c0-4bcf-afe2-06338732b3b7",
   "metadata": {},
   "outputs": [
    {
     "name": "stdout",
     "output_type": "stream",
     "text": [
      "167246.67673716013\n",
      "129507.65262252795\n",
      "143038.3957894737\n",
      "130833.16653258246\n",
      "112333.4431372549\n",
      "97448.81266490766\n",
      "140395.36604774537\n",
      "146325.223675881\n",
      "112078.67981790591\n",
      "103297.81144781144\n"
     ]
    }
   ],
   "source": [
    "for i in range(10):\n",
    "    print(baskets[baskets['merchant_id'] == list[i]].sum()['price'] / baskets[baskets['merchant_id'] == list[i]].count()['id'])"
   ]
  },
  {
   "cell_type": "markdown",
   "id": "e164a0fe-8fbc-4b43-9639-d486ee89b674",
   "metadata": {},
   "source": [
    "#### In conclusion, I found that the most common purchasing merchant is #352, who also spent the most in total out of the most common purchasers, and spends the most on average per order out of the 10 most common purchasers. This shows that #352 is a highly valuable customer, later it may be useful to observe their purchasing patterns over time. \n",
    "#### Further questions:\n",
    "- Is #352 the highest spender over all merchants?\n",
    "- How many of the most common purchasers are also in the list of highest paying customers?\n",
    "- How much are the top ten highest paying merchants spending per order?"
   ]
  }
 ],
 "metadata": {
  "kernelspec": {
   "display_name": "Python 3 (ipykernel)",
   "language": "python",
   "name": "python3"
  },
  "language_info": {
   "codemirror_mode": {
    "name": "ipython",
    "version": 3
   },
   "file_extension": ".py",
   "mimetype": "text/x-python",
   "name": "python",
   "nbconvert_exporter": "python",
   "pygments_lexer": "ipython3",
   "version": "3.9.12"
  }
 },
 "nbformat": 4,
 "nbformat_minor": 5
}
